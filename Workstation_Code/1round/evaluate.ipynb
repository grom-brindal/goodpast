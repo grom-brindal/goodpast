{
 "cells": [
  {
   "cell_type": "code",
   "execution_count": null,
   "metadata": {},
   "outputs": [],
   "source": [
    "import os\n",
    "import h5py\n",
    "import numpy as np\n",
    "import torch\n",
    "import torchani\n",
    "import ase\n",
    "from ase import Atom\n",
    "from ase import Atoms\n",
    "from ase import units\n",
    "from ase.io import read, write\n",
    "import matplotlib\n",
    "from matplotlib import pyplot as plt\n",
    "\n",
    "device = torch.device('cpu')\n",
    "\n",
    "home = os.getcwd()"
   ]
  },
  {
   "cell_type": "code",
   "execution_count": null,
   "metadata": {},
   "outputs": [],
   "source": [
    "mol = []\n",
    "def printenergy(a=mol):\n",
    "    epot = a.get_potential_energy()\n",
    "    ekin = a.get_kinetic_energy()\n",
    "    return epot + ekin"
   ]
  },
  {
   "cell_type": "code",
   "execution_count": null,
   "metadata": {},
   "outputs": [],
   "source": [
    "os.chdir(home)\n",
    "\n",
    "network_folders = []\n",
    "\n",
    "\n",
    "\n",
    "def atomic(linear=[(384,128), (128,128), (128,64), (64,1)]):\n",
    "    model = torch.nn.Sequential(\n",
    "        torch.nn.Linear(*linear[0]),\n",
    "        torch.nn.CELU(0.1),\n",
    "        torch.nn.Linear(*linear[1]),\n",
    "        torch.nn.CELU(0.1),\n",
    "        torch.nn.Linear(*linear[2]),\n",
    "        torch.nn.CELU(0.1),\n",
    "        torch.nn.Linear(*linear[3])\n",
    "    )\n",
    "    return model\n",
    "nn = torchani.ANIModel([atomic(v) for v in (\n",
    "[(384,160), (160,128), (128,96), (96,1)],\n",
    "[(384,144), (144,112), (112,96), (96,1)],\n",
    "[(384,128), (128,112), (112,96), (96,1)],\n",
    "[(384,128), (128,112), (112,96), (96,1)]\n",
    ")])\n",
    "\n",
    "for file in os.listdir(home):\n",
    "    d = os.path.join(home, file)\n",
    "    if os.path.isdir(d):\n",
    "        network_folders.append(d)\n",
    "network_folders = []\n",
    "network_folders.append(d)\n",
    "network_folders = ['c:\\\\Users\\\\theminotaur\\\\Desktop\\\\full_COMPLETE_datasets\\\\round2\\\\COMPLETELY_ALLDATASETS\\\\']\n",
    "network_folders = ['../1round_just_models/' + str(i) + 'round/best.pt' for i in range(10)]\n",
    "network_folders = ['c:\\\\Users\\\\AMJ\\\\git_code\\\\goodpast\\\\Workstation_Code\\\\best.pt']\n",
    "def diff(c1, c2):\n",
    "    return ((c1[0]-c2[0])**2 + (c1[1]-c2[1])**2 + (c1[2]-c2[2])**2)\n",
    "with h5py.File('./train/dataset/small_set/small_set.h5', 'r') as f:\n",
    "#with h5py.File('c:\\\\Users\\\\AMJ\\\\git_code\\\\goodpast\\\\Workstation_Code\\\\train\\\\dataset\\\\small_set\\\\set.h5'):\n",
    "    coordinates = f['firstlayer']['secondlayer']['coordinates']\n",
    "    coordinates = f['firstlayer']['secondlayer']['coordinates'][:len(coordinates)]\n",
    "    dataset_energies = f['firstlayer']['secondlayer']['energies'][:len(coordinates)]\n",
    "    \n",
    "    print(os.getcwd())\n",
    "    path = './train/eval/'\n",
    "    const_file = path + 'rHCNO-5.2R_16-3.5A_a4-8.params'\n",
    "    sae_file = path + 'sae_linfit_CAS.dat'\n",
    "#\n",
    "    consts = torchani.neurochem.Constants(const_file)\n",
    "    aev_computer = torchani.AEVComputer(**consts)\n",
    "    energy_shifter = torchani.neurochem.load_sae(sae_file)\n",
    "    energy_shifter = torchani.utils.EnergyShifter(self_energies=None, fit_intercept = True)\n",
    "    #energy_shifter = torchani.utils.EnergyShifter(None)\n",
    "    print(energy_shifter)\n",
    "    #Rcr = 5.2000e+00\n",
    "    #Rca = 3.5000e+00\n",
    "    #EtaR = torch.tensor([1.6000000e+01], device=device)\n",
    "    #ShfR = torch.tensor([9.0000000e-01, 1.1687500e+00, 1.4375000e+00, 1.7062500e+00, 1.9750000e+00, 2.2437500e+00, 2.5125000e+00, 2.7812500e+00, 3.0500000e+00, 3.3187500e+00, 3.5875000e+00, 3.8562500e+00, 4.1250000e+00, 4.3937500e+00, 4.6625000e+00, 4.9312500e+00], device=device)\n",
    "    #Zeta = torch.tensor([3.2000000e+01], device=device)\n",
    "    #ShfZ = torch.tensor([1.9634954e-01, 5.8904862e-01, 9.8174770e-01, 1.3744468e+00, 1.7671459e+00, 2.1598449e+00, 2.5525440e+00, 2.9452431e+00], device=device)\n",
    "    #EtaA = torch.tensor([8.0000000e+00], device=device)\n",
    "    #ShfA = torch.tensor([9.0000000e-01, 1.5500000e+00, 2.2000000e+00, 2.8500000e+00], device=device)\n",
    "    #species_order = ['H', 'C', 'N', 'O']\n",
    "    #num_species = len(species_order)\n",
    "    #aev_computer = torchani.AEVComputer(Rcr, Rca, EtaR, ShfR, EtaA, Zeta, ShfA, ShfZ, num_species)\n",
    "    #energy_shifter = torchani.utils.EnergyShifter(None)\n",
    "    print(energy_shifter)"
   ]
  },
  {
   "cell_type": "code",
   "execution_count": null,
   "metadata": {},
   "outputs": [],
   "source": [
    "def diff(c1, c2):\n",
    "    return ((c1[0]-c2[0])**2 + (c1[1]-c2[1])**2 + (c1[2]-c2[2])**2)"
   ]
  },
  {
   "cell_type": "code",
   "execution_count": null,
   "metadata": {},
   "outputs": [],
   "source": [
    "from ase.units import create_units\n",
    "units = create_units('2014')\n",
    "units.Hartree"
   ]
  },
  {
   "cell_type": "code",
   "execution_count": null,
   "metadata": {},
   "outputs": [],
   "source": [
    "print(os.getcwd())\n",
    "#for i in range(10):\n",
    "evaluated_energies = []\n",
    "for i in range(1):\n",
    "    for x in range(len(coordinates)):\n",
    "    #for x in range(1):\n",
    "        c = coordinates[x]\n",
    "        mol = [ Atom('C', (c[0][0],  c[0][1], c[0][2])),\n",
    "        Atom('C', (c[1][0],  c[1][1], c[1][2])),\n",
    "        Atom('H', (c[2][0],  c[2][1], c[2][2])),\n",
    "        Atom('H', (c[3][0],  c[3][1], c[3][2])),\n",
    "        Atom('H', (c[4][0],  c[4][1], c[4][2])),\n",
    "        Atom('H', (c[5][0],  c[5][1], c[5][2])) ]\n",
    "        mol = Atoms(mol)\n",
    "        personal_directory = os.getcwd()\n",
    "        network = network_folders\n",
    "        calculator = torchani.ase.Calculator(personal_directory, consts.species, aev_computer, network, nn, energy_shifter, device)\n",
    "\n",
    "        mol.set_calculator(calculator)\n",
    "        energy = float(str(printenergy(a=mol))) * (1/units.Hartree) * 627.509474062112 # Hartree to kcal/mol conversion\n",
    "        evaluated_energies.append(energy)\n",
    "        #print(energy)\n",
    "        #print(dataset_energies[x] * 627.509474062112 ) # Hartree to kcal/mol conversion\n",
    "        #print(dataset_energies[10:20])\n",
    "        #print(mol._get_positions())\n",
    "dataset_energies = [float(dataset_energies[x]) * 627.509474062112 for x in range(len(dataset_energies))]        \n",
    "print(dataset_energies)\n",
    "print(evaluated_energies)\n",
    "#print(dataset_energies - evaluated_energies)\n",
    "result = []\n",
    "for i, j in zip(dataset_energies, evaluated_energies):\n",
    "    result.append(i-j)\n",
    "print(result)\n",
    "print(np.average(result))"
   ]
  }
 ],
 "metadata": {
  "kernelspec": {
   "display_name": "Python 3",
   "language": "python",
   "name": "python3"
  },
  "language_info": {
   "codemirror_mode": {
    "name": "ipython",
    "version": 3
   },
   "file_extension": ".py",
   "mimetype": "text/x-python",
   "name": "python",
   "nbconvert_exporter": "python",
   "pygments_lexer": "ipython3",
   "version": "3.10.9 (tags/v3.10.9:1dd9be6, Dec  6 2022, 20:01:21) [MSC v.1934 64 bit (AMD64)]"
  },
  "orig_nbformat": 4,
  "vscode": {
   "interpreter": {
    "hash": "fe0d356910019e44f2687c3afcfb53699a594892937df3d97268ef1ba4671729"
   }
  }
 },
 "nbformat": 4,
 "nbformat_minor": 2
}
