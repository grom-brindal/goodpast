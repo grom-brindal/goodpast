{
 "cells": [
  {
   "cell_type": "code",
   "execution_count": 1,
   "metadata": {},
   "outputs": [
    {
     "name": "stderr",
     "output_type": "stream",
     "text": [
      "C:\\Users\\AMJ\\AppData\\Local\\Packages\\PythonSoftwareFoundation.Python.3.10_qbz5n2kfra8p0\\LocalCache\\local-packages\\Python310\\site-packages\\tqdm\\auto.py:22: TqdmWarning: IProgress not found. Please update jupyter and ipywidgets. See https://ipywidgets.readthedocs.io/en/stable/user_install.html\n",
      "  from .autonotebook import tqdm as notebook_tqdm\n"
     ]
    }
   ],
   "source": [
    "import os\n",
    "import h5py\n",
    "import numpy as np\n",
    "import torch\n",
    "import torchani\n",
    "import ase\n",
    "from ase import Atom\n",
    "from ase import Atoms\n",
    "from ase import units\n",
    "from ase.io import read, write\n",
    "import matplotlib\n",
    "from matplotlib import pyplot as plt\n",
    "from ase.md import langevin\n",
    "from ase.optimize import BFGS\n",
    "\n",
    "device = torch.device('cpu')\n",
    "\n",
    "home = os.getcwd()"
   ]
  },
  {
   "cell_type": "code",
   "execution_count": 2,
   "metadata": {},
   "outputs": [],
   "source": [
    "mol = []\n",
    "def printenergy(a=mol):\n",
    "    epot = a.get_potential_energy()\n",
    "    ekin = a.get_kinetic_energy()\n",
    "    return epot + ekin\n",
    "def printenergy2(a=mol):\n",
    "    epot = a.get_potential_energy()\n",
    "    ekin = a.get_kinetic_energy()\n",
    "    print(epot+ekin)"
   ]
  },
  {
   "cell_type": "code",
   "execution_count": 3,
   "metadata": {},
   "outputs": [
    {
     "name": "stdout",
     "output_type": "stream",
     "text": [
      "c:\\Users\\AMJ\\git_code\\goodpast\\Workstation_Code\\4round\n"
     ]
    }
   ],
   "source": [
    "os.chdir(home)\n",
    "\n",
    "network_folders = []\n",
    "\n",
    "\n",
    "\n",
    "def atomic(linear=[(384,128), (128,128), (128,64), (64,1)]):\n",
    "    model = torch.nn.Sequential(\n",
    "        torch.nn.Linear(*linear[0]),\n",
    "        torch.nn.CELU(0.1),\n",
    "        torch.nn.Linear(*linear[1]),\n",
    "        torch.nn.CELU(0.1),\n",
    "        torch.nn.Linear(*linear[2]),\n",
    "        torch.nn.CELU(0.1),\n",
    "        torch.nn.Linear(*linear[3])\n",
    "    )\n",
    "    return model\n",
    "nn = torchani.ANIModel([atomic(v) for v in (\n",
    "[(384,160), (160,128), (128,96), (96,1)],\n",
    "[(384,144), (144,112), (112,96), (96,1)],\n",
    "[(384,128), (128,112), (112,96), (96,1)],\n",
    "[(384,128), (128,112), (112,96), (96,1)]\n",
    ")])\n",
    "\n",
    "for file in os.listdir(home):\n",
    "    d = os.path.join(home, file)\n",
    "    if os.path.isdir(d):\n",
    "        network_folders.append(d)\n",
    "network_folders = []\n",
    "network_folders.append(d)\n",
    "network_folders = ['c:\\\\Users\\\\theminotaur\\\\Desktop\\\\full_COMPLETE_datasets\\\\round2\\\\COMPLETELY_ALLDATASETS\\\\']\n",
    "network_folders = ['../1round_just_models/' + str(i) + 'round/best.pt' for i in range(10)]\n",
    "network_folders = ['c:\\\\Users\\\\AMJ\\\\git_code\\\\goodpast\\\\Workstation_Code\\\\best.pt']\n",
    "network_folders = ['./best.pt']\n",
    "def diff(c1, c2):\n",
    "    return ((c1[0]-c2[0])**2 + (c1[1]-c2[1])**2 + (c1[2]-c2[2])**2)\n",
    "with h5py.File('./train/dataset/set.h5', 'r') as f:\n",
    "#with h5py.File('c:\\\\Users\\\\AMJ\\\\git_code\\\\goodpast\\\\Workstation_Code\\\\train\\\\dataset\\\\small_set\\\\set.h5'):\n",
    "    coordinates = f['firstlayer']['secondlayer']['coordinates']\n",
    "    coordinates = f['firstlayer']['secondlayer']['coordinates'][:len(coordinates)]\n",
    "    dataset_energies = f['firstlayer']['secondlayer']['energies'][:len(coordinates)]\n",
    "    \n",
    "    print(os.getcwd())\n",
    "    path = './train/eval/'\n",
    "    const_file = path + 'rHCNO-5.2R_16-3.5A_a4-8.params'\n",
    "    sae_file = path + 'sae_linfit_CAS.dat'\n",
    "#\n",
    "    consts = torchani.neurochem.Constants(const_file)\n",
    "    aev_computer = torchani.AEVComputer(**consts)\n",
    "    energy_shifter = torchani.neurochem.load_sae(sae_file)\n",
    " #   Rcr = 5.2000e+00\n",
    " #   Rca = 3.5000e+00\n",
    " #   EtaR = torch.tensor([1.6000000e+01], device=device)\n",
    " #   ShfR = torch.tensor([9.0000000e-01, 1.1687500e+00, 1.4375000e+00, 1.7062500e+00, 1.9750000e+00, 2.2437500e+00, 2.5125000e+00, 2.7812500e+00, 3.0500000e+00, 3.3187500e+00, 3.5875000e+00, 3.8562500e+00, 4.1250000e+00, 4.3937500e+00, 4.6625000e+00, 4.9312500e+00], device=device)\n",
    " #   Zeta = torch.tensor([3.2000000e+01], device=device)\n",
    " #   ShfZ = torch.tensor([1.9634954e-01, 5.8904862e-01, 9.8174770e-01, 1.3744468e+00, 1.7671459e+00, 2.1598449e+00, 2.5525440e+00, 2.9452431e+00], device=device)\n",
    " #   EtaA = torch.tensor([8.0000000e+00], device=device)\n",
    " #   ShfA = torch.tensor([9.0000000e-01, 1.5500000e+00, 2.2000000e+00, 2.8500000e+00], device=device)\n",
    " #   species_order = ['H', 'C', 'N', 'O']\n",
    " #   num_species = len(species_order)\n",
    "#    aev_computer = torchani.AEVComputer(Rcr, Rca, EtaR, ShfR, EtaA, Zeta, ShfA, ShfZ, num_species)\n",
    "#    energy_shifter = torchani.utils.EnergyShifter(None)"
   ]
  },
  {
   "cell_type": "code",
   "execution_count": 4,
   "metadata": {},
   "outputs": [],
   "source": [
    "def diff(c1, c2):\n",
    "    return ((c1[0]-c2[0])**2 + (c1[1]-c2[1])**2 + (c1[2]-c2[2])**2)"
   ]
  },
  {
   "cell_type": "code",
   "execution_count": 5,
   "metadata": {},
   "outputs": [
    {
     "data": {
      "text/plain": [
       "27.211386024367243"
      ]
     },
     "execution_count": 5,
     "metadata": {},
     "output_type": "execute_result"
    }
   ],
   "source": [
    "from ase.units import create_units\n",
    "units = create_units('2014')\n",
    "units.Hartree"
   ]
  },
  {
   "cell_type": "code",
   "execution_count": 6,
   "metadata": {},
   "outputs": [],
   "source": [
    "def printxyz(a=mol):\n",
    "    \"\"\"Function to print out xyz coordinates\"\"\"\n",
    "    check_out=os.getcwd() + '/output'\n",
    "    os.chdir(check_out)\n",
    "    i=0\n",
    "    file_name = str(i) + '_checkpoint.pdb'\n",
    "    file_name = str(file_name)\n",
    "    while (os.path.isfile(file_name)):\n",
    "        i=i+1\n",
    "        file_name = str(i)+'_checkpoint.pdb'\n",
    "        file_name = str(file_name)\n",
    "    checkpoint_out = str(i) +  '_checkpoint.pdb'\n",
    "    write(str(checkpoint_out), mol)\n",
    "    os.chdir('..')"
   ]
  },
  {
   "cell_type": "code",
   "execution_count": 7,
   "metadata": {},
   "outputs": [
    {
     "name": "stdout",
     "output_type": "stream",
     "text": [
      "c:\\Users\\AMJ\\git_code\\goodpast\\Workstation_Code\\4round\n",
      "-49040.62939758337\n",
      "      Step     Time          Energy         fmax\n",
      "BFGS:    0 18:47:23    -2126.602948        0.3975\n",
      "BFGS:    1 18:47:23    -2126.816235        0.4000\n",
      "BFGS:    2 18:47:23    -2125.545344        0.3492\n",
      "BFGS:    3 18:47:23    -2128.640574        0.2119\n",
      "BFGS:    4 18:47:23    -2128.345406        0.2498\n",
      "BFGS:    5 18:47:23    -2128.841129        0.1434\n",
      "BFGS:    6 18:47:23    -2128.878332        0.1436\n",
      "BFGS:    7 18:47:23    -2128.385589        0.7149\n",
      "BFGS:    8 18:47:23    -2130.154475        0.2145\n",
      "BFGS:    9 18:47:23    -2130.296168        0.0855\n"
     ]
    },
    {
     "name": "stderr",
     "output_type": "stream",
     "text": [
      "C:\\Users\\AMJ\\AppData\\Local\\Packages\\PythonSoftwareFoundation.Python.3.10_qbz5n2kfra8p0\\LocalCache\\local-packages\\Python310\\site-packages\\torchani\\ase.py:142: UserWarning: Creating a tensor from a list of numpy.ndarrays is extremely slow. Please consider converting the list to a single numpy.ndarray with numpy.array() before converting to a tensor. (Triggered internally at ..\\torch\\csrc\\utils\\tensor_new.cpp:233.)\n",
      "  cell = torch.tensor(self.atoms.get_cell(complete=True),\n",
      "C:\\Users\\AMJ\\AppData\\Local\\Packages\\PythonSoftwareFoundation.Python.3.10_qbz5n2kfra8p0\\LocalCache\\local-packages\\Python310\\site-packages\\ase\\md\\md.py:48: FutureWarning: Specify the temperature in K using the 'temperature_K' argument\n",
      "  warnings.warn(FutureWarning(w))\n"
     ]
    }
   ],
   "source": [
    "print(os.getcwd())\n",
    "#for i in range(10):\n",
    "evaluated_energies = []\n",
    "for i in range(1):\n",
    "    for x in range(1):\n",
    "        mol = [ Atom('C', (  -0.000000,    0.663585,   -0.000000)),\n",
    "        Atom('C', (  -0.000000,   -0.663585,    0.000000)),\n",
    "        Atom('H', (  -0.000000,    1.235740,    0.924684)),\n",
    "        Atom('H', (  -0.000000,    1.235740,   -0.924684)),\n",
    "        Atom('H', (  -0.000000,   -1.235740,    0.924684)),\n",
    "        Atom('H', (  -0.000000,   -1.235740,   -0.924684)) ]\n",
    "\n",
    "        mol = Atoms(mol)\n",
    "        personal_directory = os.getcwd()\n",
    "        network = network_folders\n",
    "        calculator = torchani.ase.Calculator(personal_directory, consts.species, aev_computer, network, nn, energy_shifter, device)\n",
    "\n",
    "        mol.set_calculator(calculator)\n",
    "        energy = float(str(printenergy(a=mol))) * (1/units.Hartree) * 627.509474062112 # Hartree to kcal/mol conversion\n",
    "        print(energy)\n",
    "        try:\n",
    "            os.mkdir('./output/')\n",
    "        except:\n",
    "            pass\n",
    "        opt = BFGS(mol)\n",
    "        opt.run(fmax=0.1)\n",
    "        langevinsim = langevin.Langevin(mol, 0.1 * units.fs, temperature =0.5 * units.kB, friction=0.01)\n",
    "        langevinsim.attach(printxyz, interval=10)\n",
    "        langevinsim.run(5000)"
   ]
  },
  {
   "cell_type": "code",
   "execution_count": null,
   "metadata": {},
   "outputs": [],
   "source": []
  },
  {
   "cell_type": "code",
   "execution_count": null,
   "metadata": {},
   "outputs": [],
   "source": [
    "os.chdir('./output/')\n",
    "with open('cat_output.pdb', 'w') as f:\n",
    "    for i in range(500):\n",
    "        with open(str(i) + '_checkpoint.pdb', 'r') as f1:\n",
    "            lines = f1.readlines()\n",
    "            for line in lines:\n",
    "                f.write(line)\n",
    "\n",
    "os.chdir('../')"
   ]
  },
  {
   "attachments": {},
   "cell_type": "markdown",
   "metadata": {},
   "source": [
    "\n",
    "os.chdir('./output/')\n",
    "with open('cat_output.pdb', 'w') as f:\n",
    "    for i in range(500):\n",
    "        with open(str(i) + '_checkpoint.pdb', 'r') as f1:\n",
    "        lines = f1.readlines()\n",
    "        for line in lines:\n",
    "            f.write(line)\n",
    "\n",
    "os.chdir('../')"
   ]
  }
 ],
 "metadata": {
  "kernelspec": {
   "display_name": "Python 3",
   "language": "python",
   "name": "python3"
  },
  "language_info": {
   "codemirror_mode": {
    "name": "ipython",
    "version": 3
   },
   "file_extension": ".py",
   "mimetype": "text/x-python",
   "name": "python",
   "nbconvert_exporter": "python",
   "pygments_lexer": "ipython3",
   "version": "3.10.9 (tags/v3.10.9:1dd9be6, Dec  6 2022, 20:01:21) [MSC v.1934 64 bit (AMD64)]"
  },
  "orig_nbformat": 4,
  "vscode": {
   "interpreter": {
    "hash": "fe0d356910019e44f2687c3afcfb53699a594892937df3d97268ef1ba4671729"
   }
  }
 },
 "nbformat": 4,
 "nbformat_minor": 2
}
