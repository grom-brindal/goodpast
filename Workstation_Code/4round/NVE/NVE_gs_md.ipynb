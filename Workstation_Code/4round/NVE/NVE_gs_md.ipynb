{
 "cells": [
  {
   "cell_type": "code",
   "execution_count": 7,
   "metadata": {},
   "outputs": [
    {
     "name": "stderr",
     "output_type": "stream",
     "text": [
      "C:\\Users\\AMJ\\AppData\\Local\\Packages\\PythonSoftwareFoundation.Python.3.10_qbz5n2kfra8p0\\LocalCache\\local-packages\\Python310\\site-packages\\tqdm\\auto.py:22: TqdmWarning: IProgress not found. Please update jupyter and ipywidgets. See https://ipywidgets.readthedocs.io/en/stable/user_install.html\n",
      "  from .autonotebook import tqdm as notebook_tqdm\n"
     ]
    }
   ],
   "source": [
    "import os\n",
    "import h5py\n",
    "import numpy as np\n",
    "import torch\n",
    "import torchani\n",
    "import ase\n",
    "from ase import Atom\n",
    "from ase import Atoms\n",
    "from ase import units\n",
    "from ase.io import read, write\n",
    "import matplotlib\n",
    "from matplotlib import pyplot as plt\n",
    "from ase.md import langevin\n",
    "from ase.md import verlet\n",
    "from ase.optimize import BFGS\n",
    "\n",
    "device = torch.device('cpu')\n",
    "\n",
    "home = os.getcwd()"
   ]
  },
  {
   "cell_type": "code",
   "execution_count": 2,
   "metadata": {},
   "outputs": [],
   "source": [
    "mol = []\n",
    "def printenergy(a=mol):\n",
    "    epot = a.get_potential_energy()\n",
    "    ekin = a.get_kinetic_energy()\n",
    "    return epot + ekin\n",
    "def printenergy2(a=mol):\n",
    "    epot = a.get_potential_energy()\n",
    "    ekin = a.get_kinetic_energy()\n",
    "    print(epot+ekin)"
   ]
  },
  {
   "cell_type": "code",
   "execution_count": 21,
   "metadata": {},
   "outputs": [
    {
     "name": "stdout",
     "output_type": "stream",
     "text": [
      "c:\\Users\\AMJ\\git_code\\goodpast\\Workstation_Code\\4round\\NVE\n"
     ]
    }
   ],
   "source": [
    "\n",
    "print(os.getcwd())\n"
   ]
  },
  {
   "cell_type": "code",
   "execution_count": 22,
   "metadata": {},
   "outputs": [
    {
     "name": "stdout",
     "output_type": "stream",
     "text": [
      "c:\\Users\\AMJ\\git_code\\goodpast\\Workstation_Code\\4round\\NVE\n"
     ]
    }
   ],
   "source": [
    "network_folders = []\n",
    "\n",
    "\n",
    "\n",
    "def atomic(linear=[(384,128), (128,128), (128,64), (64,1)]):\n",
    "    model = torch.nn.Sequential(\n",
    "        torch.nn.Linear(*linear[0]),\n",
    "        torch.nn.CELU(0.1),\n",
    "        torch.nn.Linear(*linear[1]),\n",
    "        torch.nn.CELU(0.1),\n",
    "        torch.nn.Linear(*linear[2]),\n",
    "        torch.nn.CELU(0.1),\n",
    "        torch.nn.Linear(*linear[3])\n",
    "    )\n",
    "    return model\n",
    "nn = torchani.ANIModel([atomic(v) for v in (\n",
    "[(384,160), (160,128), (128,96), (96,1)],\n",
    "[(384,144), (144,112), (112,96), (96,1)],\n",
    "[(384,128), (128,112), (112,96), (96,1)],\n",
    "[(384,128), (128,112), (112,96), (96,1)]\n",
    ")])\n",
    "\n",
    "for file in os.listdir(home):\n",
    "    d = os.path.join(home, file)\n",
    "    if os.path.isdir(d):\n",
    "        network_folders.append(d)\n",
    "network_folders = []\n",
    "network_folders.append(d)\n",
    "network_folders = ['c:\\\\Users\\\\theminotaur\\\\Desktop\\\\full_COMPLETE_datasets\\\\round2\\\\COMPLETELY_ALLDATASETS\\\\']\n",
    "network_folders = ['../1round_just_models/' + str(i) + 'round/best.pt' for i in range(10)]\n",
    "network_folders = ['c:\\\\Users\\\\AMJ\\\\git_code\\\\goodpast\\\\Workstation_Code\\\\best.pt']\n",
    "network_folders = ['./best.pt']\n",
    "def diff(c1, c2):\n",
    "    return ((c1[0]-c2[0])**2 + (c1[1]-c2[1])**2 + (c1[2]-c2[2])**2)\n",
    "with h5py.File('./train/dataset/set.h5', 'r') as f:\n",
    "#with h5py.File('c:\\\\Users\\\\AMJ\\\\git_code\\\\goodpast\\\\Workstation_Code\\\\train\\\\dataset\\\\small_set\\\\set.h5'):\n",
    "    coordinates = f['firstlayer']['secondlayer']['coordinates']\n",
    "    coordinates = f['firstlayer']['secondlayer']['coordinates'][:len(coordinates)]\n",
    "    dataset_energies = f['firstlayer']['secondlayer']['energies'][:len(coordinates)]\n",
    "    \n",
    "    print(os.getcwd())\n",
    "    path = './train/eval/'\n",
    "    const_file = path + 'rHCNO-5.2R_16-3.5A_a4-8.params'\n",
    "    sae_file = path + 'sae_linfit_CAS.dat'\n",
    "#\n",
    "    consts = torchani.neurochem.Constants(const_file)\n",
    "    aev_computer = torchani.AEVComputer(**consts)\n",
    "    energy_shifter = torchani.neurochem.load_sae(sae_file)\n",
    " #   Rcr = 5.2000e+00\n",
    " #   Rca = 3.5000e+00\n",
    " #   EtaR = torch.tensor([1.6000000e+01], device=device)\n",
    " #   ShfR = torch.tensor([9.0000000e-01, 1.1687500e+00, 1.4375000e+00, 1.7062500e+00, 1.9750000e+00, 2.2437500e+00, 2.5125000e+00, 2.7812500e+00, 3.0500000e+00, 3.3187500e+00, 3.5875000e+00, 3.8562500e+00, 4.1250000e+00, 4.3937500e+00, 4.6625000e+00, 4.9312500e+00], device=device)\n",
    " #   Zeta = torch.tensor([3.2000000e+01], device=device)\n",
    " #   ShfZ = torch.tensor([1.9634954e-01, 5.8904862e-01, 9.8174770e-01, 1.3744468e+00, 1.7671459e+00, 2.1598449e+00, 2.5525440e+00, 2.9452431e+00], device=device)\n",
    " #   EtaA = torch.tensor([8.0000000e+00], device=device)\n",
    " #   ShfA = torch.tensor([9.0000000e-01, 1.5500000e+00, 2.2000000e+00, 2.8500000e+00], device=device)\n",
    " #   species_order = ['H', 'C', 'N', 'O']\n",
    " #   num_species = len(species_order)\n",
    "#    aev_computer = torchani.AEVComputer(Rcr, Rca, EtaR, ShfR, EtaA, Zeta, ShfA, ShfZ, num_species)\n",
    "#    energy_shifter = torchani.utils.EnergyShifter(None)"
   ]
  },
  {
   "cell_type": "code",
   "execution_count": 4,
   "metadata": {},
   "outputs": [],
   "source": [
    "def diff(c1, c2):\n",
    "    return ((c1[0]-c2[0])**2 + (c1[1]-c2[1])**2 + (c1[2]-c2[2])**2)"
   ]
  },
  {
   "cell_type": "code",
   "execution_count": 5,
   "metadata": {},
   "outputs": [
    {
     "data": {
      "text/plain": [
       "27.211386024367243"
      ]
     },
     "execution_count": 5,
     "metadata": {},
     "output_type": "execute_result"
    }
   ],
   "source": [
    "from ase.units import create_units\n",
    "units = create_units('2014')\n",
    "units.Hartree"
   ]
  },
  {
   "cell_type": "code",
   "execution_count": 36,
   "metadata": {},
   "outputs": [],
   "source": [
    "def printxyz(a=mol):\n",
    "    \"\"\"Function to print out xyz coordinates\"\"\"\n",
    "    check_out=os.getcwd() + '/output'\n",
    "    os.chdir(check_out)\n",
    "    i=0\n",
    "    file_name = str(i) + '_checkpoint.pdb'\n",
    "    file_name = str(file_name)\n",
    "    while (os.path.isfile(file_name)):\n",
    "        i=i+1\n",
    "        file_name = str(i)+'_checkpoint.pdb'\n",
    "        file_name = str(file_name)\n",
    "    checkpoint_out = str(i) +  '_checkpoint.pdb'\n",
    "    write(str(checkpoint_out), mol)\n",
    "    os.chdir('..')"
   ]
  },
  {
   "cell_type": "code",
   "execution_count": 34,
   "metadata": {},
   "outputs": [
    {
     "name": "stdout",
     "output_type": "stream",
     "text": [
      "[[ 0.      0.      0.6691]\n",
      " [ 0.      0.     -0.6691]\n",
      " [ 0.      0.9149  1.2348]\n",
      " [-0.     -0.9149  1.2348]\n",
      " [ 0.      0.9149 -1.2348]\n",
      " [ 0.     -0.9149 -1.2348]]\n"
     ]
    }
   ],
   "source": [
    "with h5py.File('./train/dataset/set.h5', 'r') as dataset:\n",
    "    coordinates = dataset['firstlayer']['secondlayer']['coordinates']\n",
    "    coordinates = dataset['firstlayer']['secondlayer']['coordinates'][:len(coordinates)]\n",
    "    energies = dataset['firstlayer']['secondlayer']['energies'][:len(coordinates)]\n",
    "print(coordinates[0])"
   ]
  },
  {
   "cell_type": "code",
   "execution_count": 37,
   "metadata": {},
   "outputs": [
    {
     "name": "stdout",
     "output_type": "stream",
     "text": [
      "c:\\Users\\AMJ\\git_code\\goodpast\\Workstation_Code\\4round\\NVE\n",
      "-49044.29587847304\n"
     ]
    }
   ],
   "source": [
    "print(os.getcwd())\n",
    "#for i in range(10):\n",
    "evaluated_energies = []\n",
    "for i in range(1):\n",
    "    for x in range(1):\n",
    "        mol = [ Atom('C', (  0.000000,    0.000000,    0.669100)),\n",
    "        Atom('C', (  -0.000000,    0.000000,   -0.669100)),\n",
    "        Atom('H', (  -0.000000,    0.914900,    1.234800)),\n",
    "        Atom('H', (  -0.000000,   -0.914900,    1.234800)),\n",
    "        Atom('H', (  -0.000000,    0.914900,   -1.234800)),\n",
    "        Atom('H', (  -0.000000,   -0.914900,   -1.234800)) ]\n",
    "\n",
    "        mol = Atoms(mol)\n",
    "        personal_directory = os.getcwd()\n",
    "        network = network_folders\n",
    "        calculator = torchani.ase.Calculator(personal_directory, consts.species, aev_computer, network, nn, energy_shifter, device)\n",
    "\n",
    "        mol.set_calculator(calculator)\n",
    "        energy = float(str(printenergy(a=mol))) * (1/units.Hartree) * 627.509474062112 # Hartree to kcal/mol conversion\n",
    "        print(energy)\n",
    "        try:\n",
    "            os.mkdir('./output/')\n",
    "        except:\n",
    "            pass\n",
    "        opt = BFGS(mol)\n",
    "        #opt.run(fmax=0.1)\n",
    "        verletsim = verlet.VelocityVerlet(mol, 0.1 * units.fs)\n",
    "        verletsim.attach(printxyz, interval=10)\n",
    "        verletsim.run(5000)\n",
    "        #langevinsim = langevin.Langevin(mol, 0.1 * units.fs, temperature =0.5 * units.kB, friction=0.01)\n",
    "        #langevinsim.attach(printxyz, interval=10)\n",
    "        #langevinsim.run(5000)"
   ]
  },
  {
   "cell_type": "code",
   "execution_count": null,
   "metadata": {},
   "outputs": [],
   "source": []
  },
  {
   "cell_type": "code",
   "execution_count": 38,
   "metadata": {},
   "outputs": [],
   "source": [
    "os.chdir('./output/')\n",
    "with open('cat_output.pdb', 'w') as f:\n",
    "    for i in range(500):\n",
    "        with open(str(i) + '_checkpoint.pdb', 'r') as f1:\n",
    "            lines = f1.readlines()\n",
    "            for line in lines:\n",
    "                f.write(line)\n",
    "\n",
    "os.chdir('../')"
   ]
  },
  {
   "cell_type": "code",
   "execution_count": 13,
   "metadata": {},
   "outputs": [
    {
     "name": "stdout",
     "output_type": "stream",
     "text": [
      "c:\\Users\\AMJ\\git_code\\goodpast\\Workstation_Code\\4round\\NVE\n"
     ]
    }
   ],
   "source": [
    "\n",
    "mol = []\n",
    "def printenergy(a=mol):\n",
    "    epot = a.get_potential_energy()\n",
    "    ekin = a.get_kinetic_energy()\n",
    "    return epot + ekin\n",
    "print(os.getcwd())\n"
   ]
  },
  {
   "cell_type": "code",
   "execution_count": 39,
   "metadata": {},
   "outputs": [
    {
     "name": "stdout",
     "output_type": "stream",
     "text": [
      "[-49044.11759955549, -49044.74126252118, -49047.76166700945, -49052.109770681804, -49057.67568972936, -49065.04781190454, -49073.63582322723, -49082.07707657182, -49089.66823701636, -49094.085843845845, -49095.59117207941, -49094.30209563051, -49089.3640613535, -49083.594850480345, -49076.962932721035, -49072.30816612096, -49070.83036611217, -49073.12601808383, -49077.97320173865, -49087.686560157126, -49098.890407375504, -49110.41036164764, -49120.00837081999, -49123.93442491596, -49121.41658351605, -49114.535107064265, -49104.31213051476, -49095.95533196844, -49090.044075829544, -49087.592277857446, -49090.675093057725, -49096.71615450101, -49107.12274917198, -49121.17900296757, -49136.77323736113, -49150.497647009804, -49157.65709868771, -49156.155482650225, -49145.96160522962, -49131.06371149433, -49113.98057790623, -49099.38857099724, -49087.372753355856, -49078.49049672853, -49072.52663400251, -49071.060101490606, -49073.750732994245, -49080.6967661253, -49093.10330876664, -49109.43934653206, -49129.36124414302, -49146.50872869675, -49155.90742940754, -49152.9503893945, -49139.879326254166, -49124.43920877654, -49111.45306796543, -49102.06927214262, -49097.348200297376, -49096.219982561306, -49098.292313679725, -49104.880292876485, -49116.00912007202, -49130.028167751334, -49145.59491132261, -49158.83260250821, -49166.3007181465, -49165.65509525016, -49157.60432378942, -49145.556050146624, -49132.70160346511, -49121.65378068912, -49112.8947278286, -49108.42118559132, -49106.9418146784, -49108.329689776336, -49113.809012733705, -49121.6715562174, -49133.62847430451, -49144.82827270451, -49155.677273251196, -49162.203070826145, -49164.156396606064, -49160.230426665665, -49153.11389433274, -49142.438011161474, -49133.18931309388, -49126.40631737008, -49122.930486267986, -49123.82088033945, -49128.47953679737, -49136.03840955168, -49148.09820315809, -49163.8668453126, -49180.649393875836, -49193.64443647702, -49200.23940993741, -49197.383768045736, -49188.20316119171, -49174.135733405434, -49160.45656205548, -49148.80153807998, -49139.00928848205, -49131.1955365326, -49124.889525276616, -49118.59998046215, -49112.8399238458, -49107.37161591859, -49102.06028619697, -49097.034468301055, -49092.59156804494, -49088.00535083879, -49084.44384000724, -49081.711364479896, -49079.93044542827, -49078.95261371083, -49078.85483427934, -49079.61721836543, -49080.89615874242, -49083.4745921588, -49087.25744151218, -49091.53294697222, -49095.001774460055, -49095.737630837706, -49092.2634454447, -49085.52117167022, -49077.585871013696, -49069.97386803755, -49063.895385413736, -49059.73149830254, -49057.838343761185, -49057.3049657052, -49058.974060694345, -49063.78621692731, -49070.498680925775, -49079.41439407083, -49089.32817367461, -49098.469395717955, -49105.12196899645, -49108.450181863394, -49109.873280746215, -49108.26661984563, -49105.56050371557, -49101.50915131395, -49096.85589016366, -49091.86233190613, -49086.44994068545, -49081.210479827794, -49075.65089114985, -49070.60777460727, -49066.13496171832, -49062.36039701411, -49058.84645278562, -49056.46604679586, -49054.44794927242, -49054.48993355544, -49054.196370846075, -49055.792362689426, -49058.019680331425, -49061.654621580434, -49066.67382858815, -49072.527354000245, -49080.89513952486, -49090.1729180201, -49101.248951616115, -49111.88399127999, -49121.38363193179, -49124.801489190984, -49120.88857271585, -49111.55730867522, -49098.63800609461, -49088.37545772202, -49079.416871985086, -49074.83487190846, -49072.869642789505, -49073.82720236317, -49076.97480800821, -49082.50490483123, -49090.805328490635, -49101.542215105634, -49116.218078373226, -49134.18068450883, -49152.84276376034, -49166.99515127832, -49172.407701459546, -49168.852820217464, -49158.81868878593, -49147.459761537764, -49136.144707397834, -49127.312682300195, -49120.722571162114, -49115.94515248181, -49112.85299601233, -49111.49753016268, -49110.82289229302, -49110.65138322421, -49110.81815152878, -49111.55577517356, -49112.41655583206, -49113.369683211924, -49114.351704007044, -49114.880303896294, -49114.689878523575, -49113.795772256046, -49112.0936602283, -49109.17811826605, -49105.04989441885, -49100.11327208543, -49094.52308817942, -49089.20900937558, -49084.3910370571, -49080.2078596172, -49077.360427569736, -49075.584567203456, -49074.06975744139, -49074.036179365605, -49073.9007543387, -49073.617486661766, -49073.40922965706, -49073.41859897811, -49073.09028001487, -49073.39138867443, -49074.01874045964, -49075.26716041354, -49077.91699516289, -49081.16813087062, -49086.330177946744, -49093.543657506, -49102.992355981, -49114.102407131926, -49126.492343072445, -49139.93344764169, -49154.97504170244, -49172.539807016416, -49184.002713157, -49180.533315281355, -49164.382419788446, -49142.9778785476, -49125.57702024854, -49113.02544014311, -49105.72912344284, -49102.39217709699, -49103.117270911214, -49107.9375528328, -49114.593230517086, -49118.70606324405, -49119.75654927751, -49117.704144329946, -49112.940527164494, -49105.254672992996, -49097.4059964785, -49090.92303409297, -49085.660168633905, -49082.935912301386, -49081.37603255177, -49081.20478530033, -49080.466226593555, -49079.632702991854, -49079.00487432502, -49077.182962156105, -49075.19616115722, -49072.769890377225, -49070.47987682932, -49067.94349315029, -49065.75683200327, -49063.95753898372, -49062.19005677278, -49060.929163092034, -49060.03303709062, -49059.358539480265, -49059.26634236881, -49059.41077204259, -49059.80016925454, -49060.714463510274, -49061.89995379276, -49063.55942699411, -49065.345722652106, -49067.209375987935, -49069.19315673661, -49070.69344498608, -49072.2553538202, -49073.16292498027, -49073.44939991981, -49072.98109282719, -49071.92587538009, -49070.14738748962, -49068.01988771424, -49065.71526849816, -49063.757295460186, -49062.25716617125, -49061.64147460897, -49061.82963713168, -49063.61921485726, -49066.332942391855, -49069.9179887335, -49074.80208863537, -49081.16611113673, -49089.170933651665, -49098.65032086092, -49107.784053057774, -49114.36472942045, -49116.74006737427, -49114.47547816164, -49108.36482005502, -49098.91201665792, -49089.51249309258, -49081.58703863871, -49076.612312529505, -49074.34778877123, -49075.39896675057, -49080.1455470867, -49089.50814505435, -49104.09360652949, -49125.73488676301, -49152.40960564762, -49177.96628962115, -49192.095020071, -49189.8264287931, -49174.178241323156, -49152.75372715838, -49133.863717198044, -49118.60793783962, -49108.028740077316, -49101.707216143055, -49098.518617380694, -49098.134503268964, -49099.65309068142, -49101.85046763875, -49105.80299333944, -49110.94286074536, -49116.310023017955, -49120.78658550543, -49123.8645383834, -49123.89234712677, -49117.77625631001, -49104.3484202703, -49086.39141515598, -49068.751405404284, -49057.38168754087, -49054.45787028005, -49061.51742928638, -49075.442914663734, -49094.143406261486, -49110.96932299946, -49122.6648912625, -49129.22266795724, -49131.78997413602, -49129.91192084569, -49123.789060180185, -49115.15967236477, -49105.25600078101, -49094.86865903625, -49084.67800757948, -49076.5291013637, -49069.72522570582, -49065.01381305086, -49061.34107659651, -49059.654336987755, -49059.524176359824, -49061.106862271175, -49064.4982759775, -49069.56959398947, -49076.28478836894, -49084.04436282713, -49093.39706783902, -49103.435229387695, -49113.056671213315, -49122.95577969461, -49132.126652553394, -49139.62027668256, -49143.1114053987, -49141.8277523093, -49135.33223204134, -49125.243156367724, -49114.6687087203, -49106.20116143278, -49104.18443845046, -49110.159175947316, -49123.71174925548, -49145.56098727389, -49170.456395413494, -49193.849719984624, -49206.99156731704, -49207.23533797584, -49197.21351196, -49182.19849236079, -49168.00965612671, -49156.24435094102, -49147.870571669104, -49142.326233852094, -49139.93963775202, -49139.98523137429, -49142.28924280008, -49146.5955959549, -49152.40061035136, -49158.3393012088, -49162.94191940212, -49165.103520888, -49163.761370320986, -49158.772665035154, -49151.37772734761, -49142.48695230562, -49133.87996857529, -49126.58189395851, -49121.69729847378, -49119.95802708286, -49121.75299076545, -49126.28826579481, -49132.922390300395, -49140.18307178851, -49146.64910020154, -49150.650305229035, -49151.319809608416, -49148.48008247168, -49143.18738853538, -49137.04668688726, -49130.25692131469, -49124.061443735656, -49118.47959123191, -49113.73676049433, -49110.074468682345, -49107.31914959075, -49105.70887000031, -49105.41624235292, -49106.06998158728, -49108.20760808393, -49111.57769302643, -49115.73900871718, -49120.82749446716, -49125.19182146489, -49127.59310738872, -49126.38535328043, -49121.12413353045, -49113.19333052205, -49103.6953168781, -49096.04130156709, -49090.413406611355, -49087.882221876935, -49089.041034841066, -49093.00646439712, -49100.24185245862, -49109.25674762815, -49117.74622211914, -49123.01518418234, -49124.37919649851, -49121.319122005625, -49115.31392018937, -49107.888536883685, -49100.49197218828, -49093.824522073635, -49088.56866022882, -49084.05445214593, -49080.88390943045, -49078.58303981292, -49076.93326320434, -49075.84273781678, -49075.20806449625, -49075.03909879604, -49075.4727057385, -49076.33666560772, -49077.98922870103, -49080.054705815106, -49082.30748519489, -49084.35628080321, -49085.78225967695, -49086.330729633315, -49085.56283803216, -49084.86950827348, -49083.82329547327, -49082.7603544142, -49081.03064870734, -49080.20939311886, -49079.70419783102, -49079.90603095992, -49080.856549516844, -49081.73887400341, -49082.86456707213, -49082.12235227301, -49080.924388263666, -49079.484289954016, -49078.12581320478, -49077.36277457531, -49076.80491659663, -49076.562286713444, -49075.85698816139, -49074.59475734202, -49073.008452740796, -49071.33445802685, -49069.666157840395, -49068.46384579286, -49067.61609054777, -49067.0701172069, -49067.369056522664, -49068.10423030505, -49069.41191448739, -49071.35099927333, -49073.7570259614, -49075.08894695032, -49074.22309825588, -49071.00695256753]\n"
     ]
    }
   ],
   "source": [
    "\n",
    "evaluated_energies = []\n",
    "for i in range(500):\n",
    "    with open('./output/' + str(i) + '_checkpoint.pdb', 'r') as f1:\n",
    "        atoms=[]\n",
    "        lines = f1.readlines()\n",
    "        for x in range(1, len(lines)-1):\n",
    "            atom = lines[x].split()\n",
    "            atom = [float(atom[5]), float(atom[6]), float(atom[7])]\n",
    "            atoms.append(atom)\n",
    "        c = atoms\n",
    "        mol = [ Atom('C', (c[0][0],  c[0][1], c[0][2])),\n",
    "        Atom('C', (c[1][0],  c[1][1], c[1][2])),\n",
    "        Atom('H', (c[2][0],  c[2][1], c[2][2])),\n",
    "        Atom('H', (c[3][0],  c[3][1], c[3][2])),\n",
    "        Atom('H', (c[4][0],  c[4][1], c[4][2])),\n",
    "        Atom('H', (c[5][0],  c[5][1], c[5][2])) ]\n",
    "        mol = Atoms(mol)\n",
    "        personal_directory = os.getcwd()\n",
    "        network = network_folders\n",
    "        calculator = torchani.ase.Calculator(personal_directory, consts.species, aev_computer, network, nn, energy_shifter, device)\n",
    "        mol.set_calculator(calculator)\n",
    "        energy = float(str(printenergy(a=mol))) * (1/units.Hartree) * 627.509474062112\n",
    "        evaluated_energies.append(energy)\n",
    "        \n",
    "with open('md_energies.txt', 'w') as f:\n",
    "    for i in range(len(evaluated_energies)):\n",
    "        f.write(str(evaluated_energies[i]))\n",
    "        f.write('\\n')\n",
    "print(evaluated_energies)\n",
    "           "
   ]
  },
  {
   "cell_type": "code",
   "execution_count": 40,
   "metadata": {},
   "outputs": [
    {
     "data": {
      "image/png": "[encoded data removed]",
      "text/plain": [
       "<Figure size 640x480 with 1 Axes>"
      ]
     },
     "metadata": {},
     "output_type": "display_data"
    },
    {
     "data": {
      "text/plain": [
       "<Figure size 640x480 with 0 Axes>"
      ]
     },
     "metadata": {},
     "output_type": "display_data"
    }
   ],
   "source": [
    "x_axis, y_axis = [], []\n",
    "for i in range(len(evaluated_energies)):\n",
    "    x_axis.append(int(i))\n",
    "    y_axis.append(round(float(evaluated_energies[i]), 11))\n",
    "line1 = plt.plot(x_axis, y_axis)\n",
    "plt.savefig('./md_energies.png')\n",
    "plt.show()\n",
    "plt.clf() "
   ]
  },
  {
   "attachments": {},
   "cell_type": "markdown",
   "metadata": {},
   "source": [
    "\n",
    "os.chdir('./output/')\n",
    "with open('cat_output.pdb', 'w') as f:\n",
    "    for i in range(500):\n",
    "        with open(str(i) + '_checkpoint.pdb', 'r') as f1:\n",
    "        lines = f1.readlines()\n",
    "        for line in lines:\n",
    "            f.write(line)\n",
    "\n",
    "os.chdir('../')"
   ]
  }
 ],
 "metadata": {
  "kernelspec": {
   "display_name": "Python 3",
   "language": "python",
   "name": "python3"
  },
  "language_info": {
   "codemirror_mode": {
    "name": "ipython",
    "version": 3
   },
   "file_extension": ".py",
   "mimetype": "text/x-python",
   "name": "python",
   "nbconvert_exporter": "python",
   "pygments_lexer": "ipython3",
   "version": "3.10.9"
  },
  "orig_nbformat": 4,
  "vscode": {
   "interpreter": {
    "hash": "fe0d356910019e44f2687c3afcfb53699a594892937df3d97268ef1ba4671729"
   }
  }
 },
 "nbformat": 4,
 "nbformat_minor": 2
}
