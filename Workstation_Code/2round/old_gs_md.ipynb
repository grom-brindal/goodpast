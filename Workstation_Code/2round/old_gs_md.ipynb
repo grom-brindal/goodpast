{
 "cells": [
  {
   "cell_type": "code",
   "execution_count": 1,
   "metadata": {},
   "outputs": [
    {
     "name": "stderr",
     "output_type": "stream",
     "text": [
      "C:\\Users\\AMJ\\AppData\\Local\\Packages\\PythonSoftwareFoundation.Python.3.10_qbz5n2kfra8p0\\LocalCache\\local-packages\\Python310\\site-packages\\tqdm\\auto.py:22: TqdmWarning: IProgress not found. Please update jupyter and ipywidgets. See https://ipywidgets.readthedocs.io/en/stable/user_install.html\n",
      "  from .autonotebook import tqdm as notebook_tqdm\n"
     ]
    }
   ],
   "source": [
    "import h5py\n",
    "import numpy as np\n",
    "import os\n",
    "import torch\n",
    "import torchani\n",
    "import ase\n",
    "from ase import Atoms\n",
    "from ase import Atom\n",
    "from ase import units\n",
    "from ase.md import langevin\n",
    "from ase.md.velocitydistribution import MaxwellBoltzmannDistribution\n"
   ]
  },
  {
   "cell_type": "code",
   "execution_count": 2,
   "metadata": {},
   "outputs": [],
   "source": [
    "device = torch.device('cpu')\n",
    "path = os.getcwd()\n",
    "\n",
    "const_file = './train/eval/rHCNO-5.2R_16-3.5A_a4-8.params'\n",
    "sae_file = './train/eval/sae_linfit_CAS.dat'\n",
    "\n",
    "consts = torchani.neurochem.Constants(const_file)\n",
    "aev_computer = torchani.AEVComputer(**consts)\n",
    "energy_shifter = torchani.neurochem.load_sae(sae_file)\n",
    "\n",
    "try:\n",
    "    os.mkdir('./output/')\n",
    "except OSError:\n",
    "    pass\n",
    "\n",
    "network = './best.pt'\n",
    "\n",
    "print(network)\n",
    "\n",
    "def atomic(linear=[(384,128), (128,128), (128,64), (64,1)]):\n",
    "    model = torch.nn.Sequential(\n",
    "        torch.nn.Linear(*linear[0]),\n",
    "        torch.nn.CELU(0.1),\n",
    "        torch.nn.Linear(*linear[1]),\n",
    "        torch.nn.CELU(0.1),\n",
    "        torch.nn.Linear(*linear[2]),\n",
    "        torch.nn.CELU(0.1),\n",
    "        torch.nn.Linear(*linear[3])\n",
    "    )\n",
    "    return model\n",
    "\n",
    "nn = torchani.ANIModel([atomic(v) for v in (\n",
    "[(384,160), (160,128), (128,96), (96,1)],\n",
    "[(384,144), (144,112), (112,96), (96,1)],\n",
    "[(384,128), (128,112), (112,96), (96,1)],\n",
    "[(384,128), (128,112), (112,96), (96,1)]\n",
    ")])\n"
   ]
  },
  {
   "cell_type": "code",
   "execution_count": null,
   "metadata": {},
   "outputs": [],
   "source": [
    "mol = [ Atom('C', (  -0.000000,    0.663585,   -0.000000)),\n",
    "        Atom('C', (  -0.000000,   -0.663585,    0.000000)),\n",
    "        Atom('H', (  -0.000000,    1.235740,    0.924684)),\n",
    "        Atom('H', (  -0.000000,    1.235740,   -0.924684)),\n",
    "        Atom('H', (  -0.000000,   -1.235740,    0.924684)),\n",
    "        Atom('H', (  -0.000000,   -1.235740,   -0.924684)) ]\n",
    "\n",
    "mol = Atoms(mol)\n",
    "def printenergy(a=mol):\n",
    "    \"\"\"Function to print the potential, kinetic and total energy.\"\"\"\n",
    "    epot = a.get_potential_energy() / len(a)\n",
    "    ekin = a.get_kinetic_energy() / len(a)\n",
    "    print('Energy per atom: Epot = %.3feV  Ekin = %.3feV (T=%3.0fK)  '\n",
    "          'Etot = %.3feV' % (epot, ekin, ekin / (1.5 * units.kB), epot + ekin))\n",
    "\n",
    "\n",
    "\n",
    "def printxyz(a=mol):\n",
    "    \"\"\"Function to print out xyz coordinates\"\"\"\n",
    "    check_out=os.getcwd() + '/output'\n",
    "    os.chdir(check_out)\n",
    "    i=0\n",
    "    file_name = str(i) + '_checkpoint.pdb'\n",
    "    file_name = str(file_name)\n",
    "    while (os.path.isfile(file_name)):\n",
    "        i=i+1\n",
    "        file_name = str(i)+'_checkpoint.pdb'\n",
    "        file_name = str(file_name)\n",
    "    checkpoint_out = str(i) +  '_checkpoint.pdb'\n",
    "    write(str(checkpoint_out), mol)\n",
    "    os.chdir('..')\n",
    "\n",
    "\n",
    "\n",
    "def printtraj(a=mol):\n",
    "    \"\"\"Function to print out trajectory file\"\"\"\n",
    "    check_out=os.getcwd() + '/output'\n",
    "    os.chdir(check_out)\n",
    "    i=0\n",
    "    file_name = str(i) + '_velocities.traj'\n",
    "    file_name = str(file_name)\n",
    "    while (os.path.isfile(file_name)):\n",
    "        i=i+1000\n",
    "        file_name = str(i)+'_velocities.traj'\n",
    "        file_name = str(file_name)\n",
    "    checktraj_out = str(i) +  '_velocities.traj'\n",
    "    write(str(checktraj_out), mol)\n",
    "    os.chdir('..')\n",
    "\n",
    "device = torch.device('cpu')\n"
   ]
  },
  {
   "cell_type": "code",
   "execution_count": null,
   "metadata": {},
   "outputs": [],
   "source": []
  },
  {
   "cell_type": "code",
   "execution_count": null,
   "metadata": {},
   "outputs": [],
   "source": [
    "null = []\n",
    "personal_directory = os.getcwd()\n",
    "with open(personal_directory + '/outfile.txt', 'w') as f:\n",
    "    f.write('')\n",
    "    f.close()\n",
    "\n",
    "#calculator = torch.nn.Sequential(aev_computer, nn, energy_shifter)\n",
    "calculator = torchani.ase.Calculator(personal_directory, consts.species, aev_computer, network, nn, energy_shifter, device)\n",
    "mol.set_calculator(calculator)\n",
    "mol.set_cell((20.0*np.identity(3)))\n",
    "mol.set_pbc=(True)\n",
    "opt = BFGS(mol)\n",
    "#opt.run(fmax=0.001)\n",
    "MaxwellBoltzmannDistribution(mol, units.kB * 5.0, force_temp=False, rng=np.random)\n",
    "\n",
    "langevinsim = langevin.Langevin(mol, 0.5 * units.fs, temperature = 5.0 * units.kB, friction=0.01)\n",
    "langevinsim.attach(printxyz, interval=1)\n",
    "langevinsim.attach(printenergy, interval=100)\n",
    "langevinsim.attach(printtraj, interval=1000)\n",
    "langevinsim.run(500)\n",
    "\n",
    "exit()"
   ]
  }
 ],
 "metadata": {
  "kernelspec": {
   "display_name": "Python 3",
   "language": "python",
   "name": "python3"
  },
  "language_info": {
   "codemirror_mode": {
    "name": "ipython",
    "version": 3
   },
   "file_extension": ".py",
   "mimetype": "text/x-python",
   "name": "python",
   "nbconvert_exporter": "python",
   "pygments_lexer": "ipython3",
   "version": "3.10.9 (tags/v3.10.9:1dd9be6, Dec  6 2022, 20:01:21) [MSC v.1934 64 bit (AMD64)]"
  },
  "orig_nbformat": 4,
  "vscode": {
   "interpreter": {
    "hash": "fe0d356910019e44f2687c3afcfb53699a594892937df3d97268ef1ba4671729"
   }
  }
 },
 "nbformat": 4,
 "nbformat_minor": 2
}
