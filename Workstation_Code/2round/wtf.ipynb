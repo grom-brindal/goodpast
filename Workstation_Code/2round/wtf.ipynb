{
 "cells": [
  {
   "cell_type": "code",
   "execution_count": 2,
   "metadata": {},
   "outputs": [],
   "source": [
    "import os\n",
    "import numpy as np\n",
    "import torch\n",
    "import torchani\n",
    "import ase \n",
    "from ase import Atoms\n",
    "from ase import Atom\n"
   ]
  },
  {
   "cell_type": "code",
   "execution_count": 3,
   "metadata": {},
   "outputs": [],
   "source": [
    "device = torch.device('cpu')\n",
    "path = os.getcwd()\n",
    "const_file = path + './train/eval/rHCNO-5.2R_16-3.5A_a4-8.params'\n",
    "sae_file = path + './train/eval/sae_linfit_CAS.dat'\n",
    "consts = torchani.neurochem.Constants(const_file)\n",
    "aev_computer = torchani.AEVComputer(**consts)\n",
    "energy_shifter = torchani.neurochem.load_sae(sae_file)\n",
    "\n",
    "home = os.getcwd()"
   ]
  },
  {
   "cell_type": "code",
   "execution_count": 4,
   "metadata": {},
   "outputs": [],
   "source": [
    "mol = []\n",
    "def printenergy(a=mol):\n",
    "    epot = a.get_potential_energy()\n",
    "    ekin = a.get_kinetic_energy()\n",
    "    return epot + ekin"
   ]
  },
  {
   "cell_type": "code",
   "execution_count": 5,
   "metadata": {},
   "outputs": [],
   "source": [
    "try:\n",
    "    os.mkdir('./output/')\n",
    "except OSError:\n",
    "    pass\n",
    "\n",
    "network = './best.pt'\n",
    "\n",
    "def atomic(linear=[(384,128), (128,128), (128,64), (64,1)]):\n",
    "    model = torch.nn.Sequential(\n",
    "        torch.nn.Linear(*linear[0]),\n",
    "        torch.nn.CELU(0.1),\n",
    "        torch.nn.Linear(*linear[1]),\n",
    "        torch.nn.CELU(0.1),\n",
    "        torch.nn.Linear(*linear[2]),\n",
    "        torch.nn.CELU(0.1),\n",
    "        torch.nn.Linear(*linear[3])\n",
    "    )\n",
    "    return model\n",
    "nn = torchani.ANIModel([atomic(v) for v in (\n",
    "[(384,160), (160,128), (128,96), (96,1)],\n",
    "[(384,144), (144,112), (112,96), (96,1)],\n",
    "[(384,128), (128,112), (112,96), (96,1)],\n",
    "[(384,128), (128,112), (112,96), (96,1)]\n",
    ")])"
   ]
  },
  {
   "cell_type": "code",
   "execution_count": 6,
   "metadata": {},
   "outputs": [],
   "source": [
    "mol = [ Atom('C', (  -0.000000,    0.663585,   -0.000000)),\n",
    "        Atom('C', (  -0.000000,   -0.663585,    0.000000)),\n",
    "        Atom('H', (  -0.000000,    1.235740,    0.924684)),\n",
    "        Atom('H', (  -0.000000,    1.235740,   -0.924684)),\n",
    "        Atom('H', (  -0.000000,   -1.235740,    0.924684)),\n",
    "        Atom('H', (  -0.000000,   -1.235740,   -0.924684)) ]\n",
    "\n",
    "mol = Atoms(mol)"
   ]
  },
  {
   "cell_type": "code",
   "execution_count": 7,
   "metadata": {},
   "outputs": [
    {
     "name": "stderr",
     "output_type": "stream",
     "text": [
      "C:\\Users\\AMJ\\AppData\\Local\\Packages\\PythonSoftwareFoundation.Python.3.10_qbz5n2kfra8p0\\LocalCache\\local-packages\\Python310\\site-packages\\torchani\\ase.py:142: UserWarning: Creating a tensor from a list of numpy.ndarrays is extremely slow. Please consider converting the list to a single numpy.ndarray with numpy.array() before converting to a tensor. (Triggered internally at ..\\torch\\csrc\\utils\\tensor_new.cpp:233.)\n",
      "  cell = torch.tensor(self.atoms.get_cell(complete=True),\n"
     ]
    },
    {
     "ename": "PermissionError",
     "evalue": "[Errno 13] Permission denied: '.'",
     "output_type": "error",
     "traceback": [
      "\u001b[1;31m---------------------------------------------------------------------------\u001b[0m",
      "\u001b[1;31mPermissionError\u001b[0m                           Traceback (most recent call last)",
      "Cell \u001b[1;32mIn[7], line 5\u001b[0m\n\u001b[0;32m      2\u001b[0m calculator \u001b[39m=\u001b[39m torchani\u001b[39m.\u001b[39mase\u001b[39m.\u001b[39mCalculator(personal_directory, consts\u001b[39m.\u001b[39mspecies, aev_computer, network, nn, energy_shifter, device)\n\u001b[0;32m      4\u001b[0m mol\u001b[39m.\u001b[39mset_calculator(calculator)\n\u001b[1;32m----> 5\u001b[0m energy \u001b[39m=\u001b[39m \u001b[39mfloat\u001b[39m(\u001b[39mstr\u001b[39m(printenergy(a\u001b[39m=\u001b[39;49mmol))) \u001b[39m*\u001b[39m (\u001b[39m1\u001b[39m\u001b[39m/\u001b[39munits\u001b[39m.\u001b[39mHartree) \u001b[39m*\u001b[39m \u001b[39m627.509474062112\u001b[39m \u001b[39m# Hartree to kcal/mol conversion\u001b[39;00m\n",
      "Cell \u001b[1;32mIn[4], line 3\u001b[0m, in \u001b[0;36mprintenergy\u001b[1;34m(a)\u001b[0m\n\u001b[0;32m      2\u001b[0m \u001b[39mdef\u001b[39;00m \u001b[39mprintenergy\u001b[39m(a\u001b[39m=\u001b[39mmol):\n\u001b[1;32m----> 3\u001b[0m     epot \u001b[39m=\u001b[39m a\u001b[39m.\u001b[39;49mget_potential_energy()\n\u001b[0;32m      4\u001b[0m     ekin \u001b[39m=\u001b[39m a\u001b[39m.\u001b[39mget_kinetic_energy()\n\u001b[0;32m      5\u001b[0m     \u001b[39mreturn\u001b[39;00m epot \u001b[39m+\u001b[39m ekin\n",
      "File \u001b[1;32m~\\AppData\\Local\\Packages\\PythonSoftwareFoundation.Python.3.10_qbz5n2kfra8p0\\LocalCache\\local-packages\\Python310\\site-packages\\ase\\atoms.py:731\u001b[0m, in \u001b[0;36mAtoms.get_potential_energy\u001b[1;34m(self, force_consistent, apply_constraint)\u001b[0m\n\u001b[0;32m    728\u001b[0m     energy \u001b[39m=\u001b[39m \u001b[39mself\u001b[39m\u001b[39m.\u001b[39m_calc\u001b[39m.\u001b[39mget_potential_energy(\n\u001b[0;32m    729\u001b[0m         \u001b[39mself\u001b[39m, force_consistent\u001b[39m=\u001b[39mforce_consistent)\n\u001b[0;32m    730\u001b[0m \u001b[39melse\u001b[39;00m:\n\u001b[1;32m--> 731\u001b[0m     energy \u001b[39m=\u001b[39m \u001b[39mself\u001b[39;49m\u001b[39m.\u001b[39;49m_calc\u001b[39m.\u001b[39;49mget_potential_energy(\u001b[39mself\u001b[39;49m)\n\u001b[0;32m    732\u001b[0m \u001b[39mif\u001b[39;00m apply_constraint:\n\u001b[0;32m    733\u001b[0m     \u001b[39mfor\u001b[39;00m constraint \u001b[39min\u001b[39;00m \u001b[39mself\u001b[39m\u001b[39m.\u001b[39mconstraints:\n",
      "File \u001b[1;32m~\\AppData\\Local\\Packages\\PythonSoftwareFoundation.Python.3.10_qbz5n2kfra8p0\\LocalCache\\local-packages\\Python310\\site-packages\\ase\\calculators\\calculator.py:709\u001b[0m, in \u001b[0;36mCalculator.get_potential_energy\u001b[1;34m(self, atoms, force_consistent)\u001b[0m\n\u001b[0;32m    708\u001b[0m \u001b[39mdef\u001b[39;00m \u001b[39mget_potential_energy\u001b[39m(\u001b[39mself\u001b[39m, atoms\u001b[39m=\u001b[39m\u001b[39mNone\u001b[39;00m, force_consistent\u001b[39m=\u001b[39m\u001b[39mFalse\u001b[39;00m):\n\u001b[1;32m--> 709\u001b[0m     energy \u001b[39m=\u001b[39m \u001b[39mself\u001b[39;49m\u001b[39m.\u001b[39;49mget_property(\u001b[39m'\u001b[39;49m\u001b[39menergy\u001b[39;49m\u001b[39m'\u001b[39;49m, atoms)\n\u001b[0;32m    710\u001b[0m     \u001b[39mif\u001b[39;00m force_consistent:\n\u001b[0;32m    711\u001b[0m         \u001b[39mif\u001b[39;00m \u001b[39m'\u001b[39m\u001b[39mfree_energy\u001b[39m\u001b[39m'\u001b[39m \u001b[39mnot\u001b[39;00m \u001b[39min\u001b[39;00m \u001b[39mself\u001b[39m\u001b[39m.\u001b[39mresults:\n",
      "File \u001b[1;32m~\\AppData\\Local\\Packages\\PythonSoftwareFoundation.Python.3.10_qbz5n2kfra8p0\\LocalCache\\local-packages\\Python310\\site-packages\\ase\\calculators\\calculator.py:737\u001b[0m, in \u001b[0;36mCalculator.get_property\u001b[1;34m(self, name, atoms, allow_calculation)\u001b[0m\n\u001b[0;32m    735\u001b[0m     \u001b[39mif\u001b[39;00m \u001b[39mnot\u001b[39;00m allow_calculation:\n\u001b[0;32m    736\u001b[0m         \u001b[39mreturn\u001b[39;00m \u001b[39mNone\u001b[39;00m\n\u001b[1;32m--> 737\u001b[0m     \u001b[39mself\u001b[39;49m\u001b[39m.\u001b[39;49mcalculate(atoms, [name], system_changes)\n\u001b[0;32m    739\u001b[0m \u001b[39mif\u001b[39;00m name \u001b[39mnot\u001b[39;00m \u001b[39min\u001b[39;00m \u001b[39mself\u001b[39m\u001b[39m.\u001b[39mresults:\n\u001b[0;32m    740\u001b[0m     \u001b[39m# For some reason the calculator was not able to do what we want,\u001b[39;00m\n\u001b[0;32m    741\u001b[0m     \u001b[39m# and that is OK.\u001b[39;00m\n\u001b[0;32m    742\u001b[0m     \u001b[39mraise\u001b[39;00m PropertyNotImplementedError(\u001b[39m'\u001b[39m\u001b[39m{}\u001b[39;00m\u001b[39m not present in this \u001b[39m\u001b[39m'\u001b[39m\n\u001b[0;32m    743\u001b[0m                                       \u001b[39m'\u001b[39m\u001b[39mcalculation\u001b[39m\u001b[39m'\u001b[39m\u001b[39m.\u001b[39mformat(name))\n",
      "File \u001b[1;32m~\\AppData\\Local\\Packages\\PythonSoftwareFoundation.Python.3.10_qbz5n2kfra8p0\\LocalCache\\local-packages\\Python310\\site-packages\\torchani\\ase.py:172\u001b[0m, in \u001b[0;36mCalculator.calculate\u001b[1;34m(self, atoms, properties, system_changes)\u001b[0m\n\u001b[0;32m    168\u001b[0m         nnp_forces \u001b[39m=\u001b[39m [\u001b[39m0.\u001b[39m]\u001b[39m*\u001b[39m\u001b[39mlen\u001b[39m(\u001b[39mself\u001b[39m\u001b[39m.\u001b[39mnetwork)\n\u001b[0;32m    169\u001b[0m         \u001b[39mfor\u001b[39;00m i \u001b[39min\u001b[39;00m \u001b[39mrange\u001b[39m(\u001b[39mlen\u001b[39m(\u001b[39mself\u001b[39m\u001b[39m.\u001b[39mnetwork)):\n\u001b[0;32m    170\u001b[0m             \u001b[39m#if os.path.isfile(self.network[i]):\u001b[39;00m\n\u001b[0;32m    171\u001b[0m             \u001b[39m#    self.nn.load_state_dict(torch.load(self.network[i], map_location=self.processor))\u001b[39;00m\n\u001b[1;32m--> 172\u001b[0m             \u001b[39mself\u001b[39m\u001b[39m.\u001b[39mnn\u001b[39m.\u001b[39mload_state_dict(torch\u001b[39m.\u001b[39;49mload(\u001b[39mself\u001b[39;49m\u001b[39m.\u001b[39;49mnetwork[i], map_location\u001b[39m=\u001b[39;49m\u001b[39mself\u001b[39;49m\u001b[39m.\u001b[39;49mprocessor))\n\u001b[0;32m    173\u001b[0m             nnp \u001b[39m=\u001b[39m torch\u001b[39m.\u001b[39mnn\u001b[39m.\u001b[39mSequential(\u001b[39mself\u001b[39m\u001b[39m.\u001b[39maev_computer, \u001b[39mself\u001b[39m\u001b[39m.\u001b[39mnn, \u001b[39mself\u001b[39m\u001b[39m.\u001b[39menergy_shifter)\n\u001b[0;32m    175\u001b[0m \u001b[39m#            if pbc_enabled:\u001b[39;00m\n\u001b[0;32m    176\u001b[0m \u001b[39m#                _, nnp_energy = nnp((species, coordinates), cell=cell, pbc=pbc).energies\u001b[39;00m\n\u001b[0;32m    177\u001b[0m \u001b[39m#                nnp_force = -torch.autograd.grad(nnp_energy.squeeze(), coordinates)[0]\u001b[39;00m\n\u001b[0;32m    178\u001b[0m \u001b[39m#            else:\u001b[39;00m\n\u001b[0;32m    179\u001b[0m \u001b[39m#                _, nnp_energy = nnp((species, coordinates))\u001b[39;00m\n\u001b[0;32m    180\u001b[0m \u001b[39m#                nnp_force = -torch.autograd.grad(nnp_energy.squeeze(), coordinates)[0]\u001b[39;00m\n",
      "File \u001b[1;32m~\\AppData\\Local\\Packages\\PythonSoftwareFoundation.Python.3.10_qbz5n2kfra8p0\\LocalCache\\local-packages\\Python310\\site-packages\\torch\\serialization.py:771\u001b[0m, in \u001b[0;36mload\u001b[1;34m(f, map_location, pickle_module, weights_only, **pickle_load_args)\u001b[0m\n\u001b[0;32m    768\u001b[0m \u001b[39mif\u001b[39;00m \u001b[39m'\u001b[39m\u001b[39mencoding\u001b[39m\u001b[39m'\u001b[39m \u001b[39mnot\u001b[39;00m \u001b[39min\u001b[39;00m pickle_load_args\u001b[39m.\u001b[39mkeys():\n\u001b[0;32m    769\u001b[0m     pickle_load_args[\u001b[39m'\u001b[39m\u001b[39mencoding\u001b[39m\u001b[39m'\u001b[39m] \u001b[39m=\u001b[39m \u001b[39m'\u001b[39m\u001b[39mutf-8\u001b[39m\u001b[39m'\u001b[39m\n\u001b[1;32m--> 771\u001b[0m \u001b[39mwith\u001b[39;00m _open_file_like(f, \u001b[39m'\u001b[39;49m\u001b[39mrb\u001b[39;49m\u001b[39m'\u001b[39;49m) \u001b[39mas\u001b[39;00m opened_file:\n\u001b[0;32m    772\u001b[0m     \u001b[39mif\u001b[39;00m _is_zipfile(opened_file):\n\u001b[0;32m    773\u001b[0m         \u001b[39m# The zipfile reader is going to advance the current file position.\u001b[39;00m\n\u001b[0;32m    774\u001b[0m         \u001b[39m# If we want to actually tail call to torch.jit.load, we need to\u001b[39;00m\n\u001b[0;32m    775\u001b[0m         \u001b[39m# reset back to the original position.\u001b[39;00m\n\u001b[0;32m    776\u001b[0m         orig_position \u001b[39m=\u001b[39m opened_file\u001b[39m.\u001b[39mtell()\n",
      "File \u001b[1;32m~\\AppData\\Local\\Packages\\PythonSoftwareFoundation.Python.3.10_qbz5n2kfra8p0\\LocalCache\\local-packages\\Python310\\site-packages\\torch\\serialization.py:270\u001b[0m, in \u001b[0;36m_open_file_like\u001b[1;34m(name_or_buffer, mode)\u001b[0m\n\u001b[0;32m    268\u001b[0m \u001b[39mdef\u001b[39;00m \u001b[39m_open_file_like\u001b[39m(name_or_buffer, mode):\n\u001b[0;32m    269\u001b[0m     \u001b[39mif\u001b[39;00m _is_path(name_or_buffer):\n\u001b[1;32m--> 270\u001b[0m         \u001b[39mreturn\u001b[39;00m _open_file(name_or_buffer, mode)\n\u001b[0;32m    271\u001b[0m     \u001b[39melse\u001b[39;00m:\n\u001b[0;32m    272\u001b[0m         \u001b[39mif\u001b[39;00m \u001b[39m'\u001b[39m\u001b[39mw\u001b[39m\u001b[39m'\u001b[39m \u001b[39min\u001b[39;00m mode:\n",
      "File \u001b[1;32m~\\AppData\\Local\\Packages\\PythonSoftwareFoundation.Python.3.10_qbz5n2kfra8p0\\LocalCache\\local-packages\\Python310\\site-packages\\torch\\serialization.py:251\u001b[0m, in \u001b[0;36m_open_file.__init__\u001b[1;34m(self, name, mode)\u001b[0m\n\u001b[0;32m    250\u001b[0m \u001b[39mdef\u001b[39;00m \u001b[39m__init__\u001b[39m(\u001b[39mself\u001b[39m, name, mode):\n\u001b[1;32m--> 251\u001b[0m     \u001b[39msuper\u001b[39m(_open_file, \u001b[39mself\u001b[39m)\u001b[39m.\u001b[39m\u001b[39m__init__\u001b[39m(\u001b[39mopen\u001b[39;49m(name, mode))\n",
      "\u001b[1;31mPermissionError\u001b[0m: [Errno 13] Permission denied: '.'"
     ]
    }
   ],
   "source": [
    "personal_directory = os.getcwd()\n",
    "calculator = torchani.ase.Calculator(personal_directory, consts.species, aev_computer, network, nn, energy_shifter, device)\n",
    "\n",
    "mol.set_calculator(calculator)\n",
    "energy = float(str(printenergy(a=mol))) * (1/units.Hartree) * 627.509474062112 # Hartree to kcal/mol conversion"
   ]
  },
  {
   "cell_type": "code",
   "execution_count": null,
   "metadata": {},
   "outputs": [],
   "source": [
    "print(energy)"
   ]
  },
  {
   "cell_type": "code",
   "execution_count": null,
   "metadata": {},
   "outputs": [],
   "source": [
    "def printxyz(a=mol):\n",
    "    \"\"\"Function to print out xyz coordinates\"\"\"\n",
    "    check_out=os.getcwd() + '/output'\n",
    "    os.chdir(check_out)\n",
    "    i=0\n",
    "    file_name = str(i) + '_checkpoint.pdb'\n",
    "    file_name = str(file_name)\n",
    "    while (os.path.isfile(file_name)):\n",
    "        i=i+1\n",
    "        file_name = str(i)+'_checkpoint.pdb'\n",
    "        file_name = str(file_name)\n",
    "    checkpoint_out = str(i) +  '_checkpoint.pdb'\n",
    "    write(str(checkpoint_out), mol)\n",
    "    os.chdir('..')"
   ]
  }
 ],
 "metadata": {
  "kernelspec": {
   "display_name": "Python 3",
   "language": "python",
   "name": "python3"
  },
  "language_info": {
   "codemirror_mode": {
    "name": "ipython",
    "version": 3
   },
   "file_extension": ".py",
   "mimetype": "text/x-python",
   "name": "python",
   "nbconvert_exporter": "python",
   "pygments_lexer": "ipython3",
   "version": "3.10.9"
  },
  "orig_nbformat": 4,
  "vscode": {
   "interpreter": {
    "hash": "fe0d356910019e44f2687c3afcfb53699a594892937df3d97268ef1ba4671729"
   }
  }
 },
 "nbformat": 4,
 "nbformat_minor": 2
}
