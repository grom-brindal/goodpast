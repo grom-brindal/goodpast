{
 "cells": [
  {
   "cell_type": "code",
   "execution_count": 1,
   "metadata": {},
   "outputs": [
    {
     "name": "stderr",
     "output_type": "stream",
     "text": [
      "C:\\Users\\AMJ\\AppData\\Local\\Packages\\PythonSoftwareFoundation.Python.3.10_qbz5n2kfra8p0\\LocalCache\\local-packages\\Python310\\site-packages\\tqdm\\auto.py:22: TqdmWarning: IProgress not found. Please update jupyter and ipywidgets. See https://ipywidgets.readthedocs.io/en/stable/user_install.html\n",
      "  from .autonotebook import tqdm as notebook_tqdm\n"
     ]
    },
    {
     "name": "stdout",
     "output_type": "stream",
     "text": [
      "./best.pt\n"
     ]
    }
   ],
   "source": [
    "import h5py\n",
    "import numpy as np\n",
    "import os\n",
    "import torch\n",
    "import torchani\n",
    "import ase\n",
    "from ase import Atom\n",
    "from ase import Atoms\n",
    "from ase import units\n",
    "from ase.io import read, write\n",
    "from ase.optimize import BFGS\n",
    "from ase.md import langevin\n",
    "from ase.md.velocitydistribution import MaxwellBoltzmannDistribution\n",
    "from ase.io import read\n",
    "\n",
    "\n",
    "device = torch.device('cpu')\n",
    "path = os.getcwd()\n",
    "\n",
    "const_file = '../train/eval/rHCNO-5.2R_16-3.5A_a4-8.params'\n",
    "sae_file = '../train/eval/sae_linfit_CAS.dat'\n",
    "\n",
    "consts = torchani.neurochem.Constants(const_file)\n",
    "aev_computer = torchani.AEVComputer(**consts)\n",
    "energy_shifter = torchani.neurochem.load_sae(sae_file)\n",
    "\n",
    "try:\n",
    "    os.mkdir('./output/')\n",
    "except OSError:\n",
    "    pass\n",
    "\n",
    "network = './best.pt'\n",
    "\n",
    "print(network)\n",
    "\n",
    "def atomic(linear=[(384,128), (128,128), (128,64), (64,1)]):\n",
    "    model = torch.nn.Sequential(\n",
    "        torch.nn.Linear(*linear[0]),\n",
    "        torch.nn.CELU(0.1),\n",
    "        torch.nn.Linear(*linear[1]),\n",
    "        torch.nn.CELU(0.1),\n",
    "        torch.nn.Linear(*linear[2]),\n",
    "        torch.nn.CELU(0.1),\n",
    "        torch.nn.Linear(*linear[3])\n",
    "    )\n",
    "    return model\n",
    "nn = torchani.ANIModel([atomic(v) for v in (\n",
    "[(384,160), (160,128), (128,96), (96,1)],\n",
    "[(384,144), (144,112), (112,96), (96,1)],\n",
    "[(384,128), (128,112), (112,96), (96,1)],\n",
    "[(384,128), (128,112), (112,96), (96,1)]\n",
    ")])\n",
    "\n",
    "\n",
    "#if os.path.isfile(network):\n",
    "#    nn.load_state_dict(torch.load(network,map_location=torch.device('cpu')))\n",
    "#else:\n",
    "#    print('Error: No Potentials Detected')\n",
    "#    exit()\n",
    "\n",
    "#model = torch.nn.Sequential(aev_computer, nn, energy_shifter)\n",
    "\n",
    "\n",
    "mol = [ Atom('C', (0.795463, 0.0, 0.0)),\n",
    "        Atom('C', (-0.795463, 0.0, 0.0)),\n",
    "        Atom('H', (1.138234, 1.022448, 0.0)),\n",
    "        Atom('H', (1.138234, -1.022448, 0.0)),\n",
    "        Atom('H', (-1.138234, 1.022448, 0.0)),\n",
    "        Atom('H', (-1.138234, -1.022448, 0.0)) ]\n",
    "#mol = read('25000_velocities.traj')\n",
    "#mol = [ Atom('C', (-0.704225, -0.030802, -0.021961)),\n",
    "#        Atom('C', (0.713126, -0.019103, -0.038462)),\n",
    "#        Atom('H', (-1.201186, 0.957176, -0.031633)),\n",
    "#        Atom('H', (-1.184440, -1.026849, -0.000917)),\n",
    "#        Atom('H', (1.193350, 0.976946, -0.059477)),\n",
    "#        Atom('H', (1.210095, -1.007073, -0.028778))]\n",
    "       \n",
    "mol = [ Atom('C', (  -0.000000,    0.663585,   -0.000000)),\n",
    "        Atom('C', (  -0.000000,   -0.663585,    0.000000)),\n",
    "        Atom('H', (  -0.000000,    1.235740,    0.924684)),\n",
    "        Atom('H', (  -0.000000,    1.235740,   -0.924684)),\n",
    "        Atom('H', (  -0.000000,   -1.235740,    0.924684)),\n",
    "        Atom('H', (  -0.000000,   -1.235740,   -0.924684)) ]\n",
    "\n",
    "mol = Atoms(mol)\n",
    "def printenergy(a=mol):\n",
    "    \"\"\"Function to print the potential, kinetic and total energy.\"\"\"\n",
    "    epot = a.get_potential_energy() / len(a)\n",
    "    ekin = a.get_kinetic_energy() / len(a)\n",
    "    print('Energy per atom: Epot = %.3feV  Ekin = %.3feV (T=%3.0fK)  '\n",
    "          'Etot = %.3feV' % (epot, ekin, ekin / (1.5 * units.kB), epot + ekin))\n",
    "\n",
    "\n",
    "\n",
    "def printxyz(a=mol):\n",
    "    \"\"\"Function to print out xyz coordinates\"\"\"\n",
    "    check_out=os.getcwd() + '/output'\n",
    "    os.chdir(check_out)\n",
    "    i=0\n",
    "    file_name = str(i) + '_checkpoint.pdb'\n",
    "    file_name = str(file_name)\n",
    "    while (os.path.isfile(file_name)):\n",
    "        i=i+1\n",
    "        file_name = str(i)+'_checkpoint.pdb'\n",
    "        file_name = str(file_name)\n",
    "    checkpoint_out = str(i) +  '_checkpoint.pdb'\n",
    "    write(str(checkpoint_out), mol)\n",
    "    os.chdir('..')\n",
    "\n",
    "\n",
    "\n",
    "def printtraj(a=mol):\n",
    "    \"\"\"Function to print out trajectory file\"\"\"\n",
    "    check_out=os.getcwd() + '/output'\n",
    "    os.chdir(check_out)\n",
    "    i=0\n",
    "    file_name = str(i) + '_velocities.traj'\n",
    "    file_name = str(file_name)\n",
    "    while (os.path.isfile(file_name)):\n",
    "        i=i+1000\n",
    "        file_name = str(i)+'_velocities.traj'\n",
    "        file_name = str(file_name)\n",
    "    checktraj_out = str(i) +  '_velocities.traj'\n",
    "    write(str(checktraj_out), mol)\n",
    "    os.chdir('..')\n",
    "\n",
    "device = torch.device('cpu')\n",
    "\n",
    "null = []\n",
    "personal_directory = os.getcwd()\n",
    "with open(personal_directory + '/outfile.txt', 'w') as f:\n",
    "    f.write('')\n",
    "    f.close()\n"
   ]
  },
  {
   "cell_type": "code",
   "execution_count": 2,
   "metadata": {},
   "outputs": [
    {
     "name": "stderr",
     "output_type": "stream",
     "text": [
      "C:\\Users\\AMJ\\AppData\\Local\\Packages\\PythonSoftwareFoundation.Python.3.10_qbz5n2kfra8p0\\LocalCache\\local-packages\\Python310\\site-packages\\ase\\md\\md.py:48: FutureWarning: Specify the temperature in K using the 'temperature_K' argument\n",
      "  warnings.warn(FutureWarning(w))\n"
     ]
    }
   ],
   "source": [
    "\n",
    "#calculator = torch.nn.Sequential(aev_computer, nn, energy_shifter)\n",
    "calculator = torchani.ase.Calculator(personal_directory, consts.species, aev_computer, network, nn, energy_shifter, device)\n",
    "mol.set_calculator(calculator)\n",
    "mol.set_cell((20.0*np.identity(3)))\n",
    "mol.set_pbc=(True)\n",
    "opt = BFGS(mol)\n",
    "#opt.run(fmax=0.001)\n",
    "MaxwellBoltzmannDistribution(mol, units.kB * 5.0, force_temp=False, rng=np.random)\n"
   ]
  },
  {
   "cell_type": "code",
   "execution_count": 4,
   "metadata": {},
   "outputs": [
    {
     "ename": "PermissionError",
     "evalue": "[Errno 13] Permission denied: '.'",
     "output_type": "error",
     "traceback": [
      "\u001b[1;31m---------------------------------------------------------------------------\u001b[0m",
      "\u001b[1;31mPermissionError\u001b[0m                           Traceback (most recent call last)",
      "Cell \u001b[1;32mIn[4], line 1\u001b[0m\n\u001b[1;32m----> 1\u001b[0m energy \u001b[39m=\u001b[39m \u001b[39mfloat\u001b[39m(\u001b[39mstr\u001b[39m(printenergy(a\u001b[39m=\u001b[39;49mmol))) \u001b[39m*\u001b[39m (\u001b[39m1\u001b[39m\u001b[39m/\u001b[39munits\u001b[39m.\u001b[39mHartree) \u001b[39m*\u001b[39m \u001b[39m627.509474062112\u001b[39m \u001b[39m# Hartree to kcal/mol conversion\u001b[39;00m\n\u001b[0;32m      2\u001b[0m \u001b[39mprint\u001b[39m(energy)\n",
      "Cell \u001b[1;32mIn[1], line 88\u001b[0m, in \u001b[0;36mprintenergy\u001b[1;34m(a)\u001b[0m\n\u001b[0;32m     86\u001b[0m \u001b[39mdef\u001b[39;00m \u001b[39mprintenergy\u001b[39m(a\u001b[39m=\u001b[39mmol):\n\u001b[0;32m     87\u001b[0m \u001b[39m    \u001b[39m\u001b[39m\"\"\"Function to print the potential, kinetic and total energy.\"\"\"\u001b[39;00m\n\u001b[1;32m---> 88\u001b[0m     epot \u001b[39m=\u001b[39m a\u001b[39m.\u001b[39;49mget_potential_energy() \u001b[39m/\u001b[39m \u001b[39mlen\u001b[39m(a)\n\u001b[0;32m     89\u001b[0m     ekin \u001b[39m=\u001b[39m a\u001b[39m.\u001b[39mget_kinetic_energy() \u001b[39m/\u001b[39m \u001b[39mlen\u001b[39m(a)\n\u001b[0;32m     90\u001b[0m     \u001b[39mprint\u001b[39m(\u001b[39m'\u001b[39m\u001b[39mEnergy per atom: Epot = \u001b[39m\u001b[39m%.3f\u001b[39;00m\u001b[39meV  Ekin = \u001b[39m\u001b[39m%.3f\u001b[39;00m\u001b[39meV (T=\u001b[39m\u001b[39m%3.0f\u001b[39;00m\u001b[39mK)  \u001b[39m\u001b[39m'\u001b[39m\n\u001b[0;32m     91\u001b[0m           \u001b[39m'\u001b[39m\u001b[39mEtot = \u001b[39m\u001b[39m%.3f\u001b[39;00m\u001b[39meV\u001b[39m\u001b[39m'\u001b[39m \u001b[39m%\u001b[39m (epot, ekin, ekin \u001b[39m/\u001b[39m (\u001b[39m1.5\u001b[39m \u001b[39m*\u001b[39m units\u001b[39m.\u001b[39mkB), epot \u001b[39m+\u001b[39m ekin))\n",
      "File \u001b[1;32m~\\AppData\\Local\\Packages\\PythonSoftwareFoundation.Python.3.10_qbz5n2kfra8p0\\LocalCache\\local-packages\\Python310\\site-packages\\ase\\atoms.py:731\u001b[0m, in \u001b[0;36mAtoms.get_potential_energy\u001b[1;34m(self, force_consistent, apply_constraint)\u001b[0m\n\u001b[0;32m    728\u001b[0m     energy \u001b[39m=\u001b[39m \u001b[39mself\u001b[39m\u001b[39m.\u001b[39m_calc\u001b[39m.\u001b[39mget_potential_energy(\n\u001b[0;32m    729\u001b[0m         \u001b[39mself\u001b[39m, force_consistent\u001b[39m=\u001b[39mforce_consistent)\n\u001b[0;32m    730\u001b[0m \u001b[39melse\u001b[39;00m:\n\u001b[1;32m--> 731\u001b[0m     energy \u001b[39m=\u001b[39m \u001b[39mself\u001b[39;49m\u001b[39m.\u001b[39;49m_calc\u001b[39m.\u001b[39;49mget_potential_energy(\u001b[39mself\u001b[39;49m)\n\u001b[0;32m    732\u001b[0m \u001b[39mif\u001b[39;00m apply_constraint:\n\u001b[0;32m    733\u001b[0m     \u001b[39mfor\u001b[39;00m constraint \u001b[39min\u001b[39;00m \u001b[39mself\u001b[39m\u001b[39m.\u001b[39mconstraints:\n",
      "File \u001b[1;32m~\\AppData\\Local\\Packages\\PythonSoftwareFoundation.Python.3.10_qbz5n2kfra8p0\\LocalCache\\local-packages\\Python310\\site-packages\\ase\\calculators\\calculator.py:709\u001b[0m, in \u001b[0;36mCalculator.get_potential_energy\u001b[1;34m(self, atoms, force_consistent)\u001b[0m\n\u001b[0;32m    708\u001b[0m \u001b[39mdef\u001b[39;00m \u001b[39mget_potential_energy\u001b[39m(\u001b[39mself\u001b[39m, atoms\u001b[39m=\u001b[39m\u001b[39mNone\u001b[39;00m, force_consistent\u001b[39m=\u001b[39m\u001b[39mFalse\u001b[39;00m):\n\u001b[1;32m--> 709\u001b[0m     energy \u001b[39m=\u001b[39m \u001b[39mself\u001b[39;49m\u001b[39m.\u001b[39;49mget_property(\u001b[39m'\u001b[39;49m\u001b[39menergy\u001b[39;49m\u001b[39m'\u001b[39;49m, atoms)\n\u001b[0;32m    710\u001b[0m     \u001b[39mif\u001b[39;00m force_consistent:\n\u001b[0;32m    711\u001b[0m         \u001b[39mif\u001b[39;00m \u001b[39m'\u001b[39m\u001b[39mfree_energy\u001b[39m\u001b[39m'\u001b[39m \u001b[39mnot\u001b[39;00m \u001b[39min\u001b[39;00m \u001b[39mself\u001b[39m\u001b[39m.\u001b[39mresults:\n",
      "File \u001b[1;32m~\\AppData\\Local\\Packages\\PythonSoftwareFoundation.Python.3.10_qbz5n2kfra8p0\\LocalCache\\local-packages\\Python310\\site-packages\\ase\\calculators\\calculator.py:737\u001b[0m, in \u001b[0;36mCalculator.get_property\u001b[1;34m(self, name, atoms, allow_calculation)\u001b[0m\n\u001b[0;32m    735\u001b[0m     \u001b[39mif\u001b[39;00m \u001b[39mnot\u001b[39;00m allow_calculation:\n\u001b[0;32m    736\u001b[0m         \u001b[39mreturn\u001b[39;00m \u001b[39mNone\u001b[39;00m\n\u001b[1;32m--> 737\u001b[0m     \u001b[39mself\u001b[39;49m\u001b[39m.\u001b[39;49mcalculate(atoms, [name], system_changes)\n\u001b[0;32m    739\u001b[0m \u001b[39mif\u001b[39;00m name \u001b[39mnot\u001b[39;00m \u001b[39min\u001b[39;00m \u001b[39mself\u001b[39m\u001b[39m.\u001b[39mresults:\n\u001b[0;32m    740\u001b[0m     \u001b[39m# For some reason the calculator was not able to do what we want,\u001b[39;00m\n\u001b[0;32m    741\u001b[0m     \u001b[39m# and that is OK.\u001b[39;00m\n\u001b[0;32m    742\u001b[0m     \u001b[39mraise\u001b[39;00m PropertyNotImplementedError(\u001b[39m'\u001b[39m\u001b[39m{}\u001b[39;00m\u001b[39m not present in this \u001b[39m\u001b[39m'\u001b[39m\n\u001b[0;32m    743\u001b[0m                                       \u001b[39m'\u001b[39m\u001b[39mcalculation\u001b[39m\u001b[39m'\u001b[39m\u001b[39m.\u001b[39mformat(name))\n",
      "File \u001b[1;32m~\\AppData\\Local\\Packages\\PythonSoftwareFoundation.Python.3.10_qbz5n2kfra8p0\\LocalCache\\local-packages\\Python310\\site-packages\\torchani\\ase.py:172\u001b[0m, in \u001b[0;36mCalculator.calculate\u001b[1;34m(self, atoms, properties, system_changes)\u001b[0m\n\u001b[0;32m    168\u001b[0m         nnp_forces \u001b[39m=\u001b[39m [\u001b[39m0.\u001b[39m]\u001b[39m*\u001b[39m\u001b[39mlen\u001b[39m(\u001b[39mself\u001b[39m\u001b[39m.\u001b[39mnetwork)\n\u001b[0;32m    169\u001b[0m         \u001b[39mfor\u001b[39;00m i \u001b[39min\u001b[39;00m \u001b[39mrange\u001b[39m(\u001b[39mlen\u001b[39m(\u001b[39mself\u001b[39m\u001b[39m.\u001b[39mnetwork)):\n\u001b[0;32m    170\u001b[0m             \u001b[39m#if os.path.isfile(self.network[i]):\u001b[39;00m\n\u001b[0;32m    171\u001b[0m             \u001b[39m#    self.nn.load_state_dict(torch.load(self.network[i], map_location=self.processor))\u001b[39;00m\n\u001b[1;32m--> 172\u001b[0m             \u001b[39mself\u001b[39m\u001b[39m.\u001b[39mnn\u001b[39m.\u001b[39mload_state_dict(torch\u001b[39m.\u001b[39;49mload(\u001b[39mself\u001b[39;49m\u001b[39m.\u001b[39;49mnetwork[i], map_location\u001b[39m=\u001b[39;49m\u001b[39mself\u001b[39;49m\u001b[39m.\u001b[39;49mprocessor))\n\u001b[0;32m    173\u001b[0m             nnp \u001b[39m=\u001b[39m torch\u001b[39m.\u001b[39mnn\u001b[39m.\u001b[39mSequential(\u001b[39mself\u001b[39m\u001b[39m.\u001b[39maev_computer, \u001b[39mself\u001b[39m\u001b[39m.\u001b[39mnn, \u001b[39mself\u001b[39m\u001b[39m.\u001b[39menergy_shifter)\n\u001b[0;32m    175\u001b[0m \u001b[39m#            if pbc_enabled:\u001b[39;00m\n\u001b[0;32m    176\u001b[0m \u001b[39m#                _, nnp_energy = nnp((species, coordinates), cell=cell, pbc=pbc).energies\u001b[39;00m\n\u001b[0;32m    177\u001b[0m \u001b[39m#                nnp_force = -torch.autograd.grad(nnp_energy.squeeze(), coordinates)[0]\u001b[39;00m\n\u001b[0;32m    178\u001b[0m \u001b[39m#            else:\u001b[39;00m\n\u001b[0;32m    179\u001b[0m \u001b[39m#                _, nnp_energy = nnp((species, coordinates))\u001b[39;00m\n\u001b[0;32m    180\u001b[0m \u001b[39m#                nnp_force = -torch.autograd.grad(nnp_energy.squeeze(), coordinates)[0]\u001b[39;00m\n",
      "File \u001b[1;32m~\\AppData\\Local\\Packages\\PythonSoftwareFoundation.Python.3.10_qbz5n2kfra8p0\\LocalCache\\local-packages\\Python310\\site-packages\\torch\\serialization.py:771\u001b[0m, in \u001b[0;36mload\u001b[1;34m(f, map_location, pickle_module, weights_only, **pickle_load_args)\u001b[0m\n\u001b[0;32m    768\u001b[0m \u001b[39mif\u001b[39;00m \u001b[39m'\u001b[39m\u001b[39mencoding\u001b[39m\u001b[39m'\u001b[39m \u001b[39mnot\u001b[39;00m \u001b[39min\u001b[39;00m pickle_load_args\u001b[39m.\u001b[39mkeys():\n\u001b[0;32m    769\u001b[0m     pickle_load_args[\u001b[39m'\u001b[39m\u001b[39mencoding\u001b[39m\u001b[39m'\u001b[39m] \u001b[39m=\u001b[39m \u001b[39m'\u001b[39m\u001b[39mutf-8\u001b[39m\u001b[39m'\u001b[39m\n\u001b[1;32m--> 771\u001b[0m \u001b[39mwith\u001b[39;00m _open_file_like(f, \u001b[39m'\u001b[39;49m\u001b[39mrb\u001b[39;49m\u001b[39m'\u001b[39;49m) \u001b[39mas\u001b[39;00m opened_file:\n\u001b[0;32m    772\u001b[0m     \u001b[39mif\u001b[39;00m _is_zipfile(opened_file):\n\u001b[0;32m    773\u001b[0m         \u001b[39m# The zipfile reader is going to advance the current file position.\u001b[39;00m\n\u001b[0;32m    774\u001b[0m         \u001b[39m# If we want to actually tail call to torch.jit.load, we need to\u001b[39;00m\n\u001b[0;32m    775\u001b[0m         \u001b[39m# reset back to the original position.\u001b[39;00m\n\u001b[0;32m    776\u001b[0m         orig_position \u001b[39m=\u001b[39m opened_file\u001b[39m.\u001b[39mtell()\n",
      "File \u001b[1;32m~\\AppData\\Local\\Packages\\PythonSoftwareFoundation.Python.3.10_qbz5n2kfra8p0\\LocalCache\\local-packages\\Python310\\site-packages\\torch\\serialization.py:270\u001b[0m, in \u001b[0;36m_open_file_like\u001b[1;34m(name_or_buffer, mode)\u001b[0m\n\u001b[0;32m    268\u001b[0m \u001b[39mdef\u001b[39;00m \u001b[39m_open_file_like\u001b[39m(name_or_buffer, mode):\n\u001b[0;32m    269\u001b[0m     \u001b[39mif\u001b[39;00m _is_path(name_or_buffer):\n\u001b[1;32m--> 270\u001b[0m         \u001b[39mreturn\u001b[39;00m _open_file(name_or_buffer, mode)\n\u001b[0;32m    271\u001b[0m     \u001b[39melse\u001b[39;00m:\n\u001b[0;32m    272\u001b[0m         \u001b[39mif\u001b[39;00m \u001b[39m'\u001b[39m\u001b[39mw\u001b[39m\u001b[39m'\u001b[39m \u001b[39min\u001b[39;00m mode:\n",
      "File \u001b[1;32m~\\AppData\\Local\\Packages\\PythonSoftwareFoundation.Python.3.10_qbz5n2kfra8p0\\LocalCache\\local-packages\\Python310\\site-packages\\torch\\serialization.py:251\u001b[0m, in \u001b[0;36m_open_file.__init__\u001b[1;34m(self, name, mode)\u001b[0m\n\u001b[0;32m    250\u001b[0m \u001b[39mdef\u001b[39;00m \u001b[39m__init__\u001b[39m(\u001b[39mself\u001b[39m, name, mode):\n\u001b[1;32m--> 251\u001b[0m     \u001b[39msuper\u001b[39m(_open_file, \u001b[39mself\u001b[39m)\u001b[39m.\u001b[39m\u001b[39m__init__\u001b[39m(\u001b[39mopen\u001b[39;49m(name, mode))\n",
      "\u001b[1;31mPermissionError\u001b[0m: [Errno 13] Permission denied: '.'"
     ]
    }
   ],
   "source": [
    "energy = float(str(printenergy(a=mol))) * (1/units.Hartree) * 627.509474062112 # Hartree to kcal/mol conversion\n",
    "print(energy)"
   ]
  },
  {
   "cell_type": "code",
   "execution_count": 3,
   "metadata": {},
   "outputs": [
    {
     "name": "stderr",
     "output_type": "stream",
     "text": [
      "C:\\Users\\AMJ\\AppData\\Local\\Packages\\PythonSoftwareFoundation.Python.3.10_qbz5n2kfra8p0\\LocalCache\\local-packages\\Python310\\site-packages\\torchani\\ase.py:142: UserWarning: Creating a tensor from a list of numpy.ndarrays is extremely slow. Please consider converting the list to a single numpy.ndarray with numpy.array() before converting to a tensor. (Triggered internally at ..\\torch\\csrc\\utils\\tensor_new.cpp:233.)\n",
      "  cell = torch.tensor(self.atoms.get_cell(complete=True),\n"
     ]
    },
    {
     "ename": "PermissionError",
     "evalue": "[Errno 13] Permission denied: '.'",
     "output_type": "error",
     "traceback": [
      "\u001b[1;31m---------------------------------------------------------------------------\u001b[0m",
      "\u001b[1;31mPermissionError\u001b[0m                           Traceback (most recent call last)",
      "Cell \u001b[1;32mIn[3], line 5\u001b[0m\n\u001b[0;32m      3\u001b[0m langevinsim\u001b[39m.\u001b[39mattach(printenergy, interval\u001b[39m=\u001b[39m\u001b[39m100\u001b[39m)\n\u001b[0;32m      4\u001b[0m langevinsim\u001b[39m.\u001b[39mattach(printtraj, interval\u001b[39m=\u001b[39m\u001b[39m1000\u001b[39m)\n\u001b[1;32m----> 5\u001b[0m langevinsim\u001b[39m.\u001b[39;49mrun(\u001b[39m500\u001b[39;49m)\n",
      "File \u001b[1;32m~\\AppData\\Local\\Packages\\PythonSoftwareFoundation.Python.3.10_qbz5n2kfra8p0\\LocalCache\\local-packages\\Python310\\site-packages\\ase\\md\\md.py:137\u001b[0m, in \u001b[0;36mMolecularDynamics.run\u001b[1;34m(self, steps)\u001b[0m\n\u001b[0;32m    135\u001b[0m \u001b[39m\u001b[39m\u001b[39m\"\"\" Call Dynamics.run and adjust max_steps \"\"\"\u001b[39;00m\n\u001b[0;32m    136\u001b[0m \u001b[39mself\u001b[39m\u001b[39m.\u001b[39mmax_steps \u001b[39m=\u001b[39m steps \u001b[39m+\u001b[39m \u001b[39mself\u001b[39m\u001b[39m.\u001b[39mnsteps\n\u001b[1;32m--> 137\u001b[0m \u001b[39mreturn\u001b[39;00m Dynamics\u001b[39m.\u001b[39;49mrun(\u001b[39mself\u001b[39;49m)\n",
      "File \u001b[1;32m~\\AppData\\Local\\Packages\\PythonSoftwareFoundation.Python.3.10_qbz5n2kfra8p0\\LocalCache\\local-packages\\Python310\\site-packages\\ase\\optimize\\optimize.py:156\u001b[0m, in \u001b[0;36mDynamics.run\u001b[1;34m(self)\u001b[0m\n\u001b[0;32m    149\u001b[0m \u001b[39mdef\u001b[39;00m \u001b[39mrun\u001b[39m(\u001b[39mself\u001b[39m):\n\u001b[0;32m    150\u001b[0m \u001b[39m    \u001b[39m\u001b[39m\"\"\"Run dynamics algorithm.\u001b[39;00m\n\u001b[0;32m    151\u001b[0m \n\u001b[0;32m    152\u001b[0m \u001b[39m    This method will return when the forces on all individual\u001b[39;00m\n\u001b[0;32m    153\u001b[0m \u001b[39m    atoms are less than *fmax* or when the number of steps exceeds\u001b[39;00m\n\u001b[0;32m    154\u001b[0m \u001b[39m    *steps*.\"\"\"\u001b[39;00m\n\u001b[1;32m--> 156\u001b[0m     \u001b[39mfor\u001b[39;00m converged \u001b[39min\u001b[39;00m Dynamics\u001b[39m.\u001b[39mirun(\u001b[39mself\u001b[39m):\n\u001b[0;32m    157\u001b[0m         \u001b[39mpass\u001b[39;00m\n\u001b[0;32m    158\u001b[0m     \u001b[39mreturn\u001b[39;00m converged\n",
      "File \u001b[1;32m~\\AppData\\Local\\Packages\\PythonSoftwareFoundation.Python.3.10_qbz5n2kfra8p0\\LocalCache\\local-packages\\Python310\\site-packages\\ase\\optimize\\optimize.py:122\u001b[0m, in \u001b[0;36mDynamics.irun\u001b[1;34m(self)\u001b[0m\n\u001b[0;32m    111\u001b[0m \u001b[39m\u001b[39m\u001b[39m\"\"\"Run dynamics algorithm as generator. This allows, e.g.,\u001b[39;00m\n\u001b[0;32m    112\u001b[0m \u001b[39mto easily run two optimizers or MD thermostats at the same time.\u001b[39;00m\n\u001b[0;32m    113\u001b[0m \n\u001b[1;32m   (...)\u001b[0m\n\u001b[0;32m    118\u001b[0m \u001b[39m>>>     opt1.run()\u001b[39;00m\n\u001b[0;32m    119\u001b[0m \u001b[39m\"\"\"\u001b[39;00m\n\u001b[0;32m    121\u001b[0m \u001b[39m# compute initial structure and log the first step\u001b[39;00m\n\u001b[1;32m--> 122\u001b[0m \u001b[39mself\u001b[39;49m\u001b[39m.\u001b[39;49matoms\u001b[39m.\u001b[39;49mget_forces()\n\u001b[0;32m    124\u001b[0m \u001b[39m# yield the first time to inspect before logging\u001b[39;00m\n\u001b[0;32m    125\u001b[0m \u001b[39myield\u001b[39;00m \u001b[39mFalse\u001b[39;00m\n",
      "File \u001b[1;32m~\\AppData\\Local\\Packages\\PythonSoftwareFoundation.Python.3.10_qbz5n2kfra8p0\\LocalCache\\local-packages\\Python310\\site-packages\\ase\\atoms.py:788\u001b[0m, in \u001b[0;36mAtoms.get_forces\u001b[1;34m(self, apply_constraint, md)\u001b[0m\n\u001b[0;32m    786\u001b[0m \u001b[39mif\u001b[39;00m \u001b[39mself\u001b[39m\u001b[39m.\u001b[39m_calc \u001b[39mis\u001b[39;00m \u001b[39mNone\u001b[39;00m:\n\u001b[0;32m    787\u001b[0m     \u001b[39mraise\u001b[39;00m \u001b[39mRuntimeError\u001b[39;00m(\u001b[39m'\u001b[39m\u001b[39mAtoms object has no calculator.\u001b[39m\u001b[39m'\u001b[39m)\n\u001b[1;32m--> 788\u001b[0m forces \u001b[39m=\u001b[39m \u001b[39mself\u001b[39;49m\u001b[39m.\u001b[39;49m_calc\u001b[39m.\u001b[39;49mget_forces(\u001b[39mself\u001b[39;49m)\n\u001b[0;32m    790\u001b[0m \u001b[39mif\u001b[39;00m apply_constraint:\n\u001b[0;32m    791\u001b[0m     \u001b[39m# We need a special md flag here because for MD we want\u001b[39;00m\n\u001b[0;32m    792\u001b[0m     \u001b[39m# to skip real constraints but include special \"constraints\"\u001b[39;00m\n\u001b[0;32m    793\u001b[0m     \u001b[39m# Like Hookean.\u001b[39;00m\n\u001b[0;32m    794\u001b[0m     \u001b[39mfor\u001b[39;00m constraint \u001b[39min\u001b[39;00m \u001b[39mself\u001b[39m\u001b[39m.\u001b[39mconstraints:\n",
      "File \u001b[1;32m~\\AppData\\Local\\Packages\\PythonSoftwareFoundation.Python.3.10_qbz5n2kfra8p0\\LocalCache\\local-packages\\Python310\\site-packages\\ase\\calculators\\abc.py:23\u001b[0m, in \u001b[0;36mGetPropertiesMixin.get_forces\u001b[1;34m(self, atoms)\u001b[0m\n\u001b[0;32m     22\u001b[0m \u001b[39mdef\u001b[39;00m \u001b[39mget_forces\u001b[39m(\u001b[39mself\u001b[39m, atoms\u001b[39m=\u001b[39m\u001b[39mNone\u001b[39;00m):\n\u001b[1;32m---> 23\u001b[0m     \u001b[39mreturn\u001b[39;00m \u001b[39mself\u001b[39;49m\u001b[39m.\u001b[39;49mget_property(\u001b[39m'\u001b[39;49m\u001b[39mforces\u001b[39;49m\u001b[39m'\u001b[39;49m, atoms)\n",
      "File \u001b[1;32m~\\AppData\\Local\\Packages\\PythonSoftwareFoundation.Python.3.10_qbz5n2kfra8p0\\LocalCache\\local-packages\\Python310\\site-packages\\ase\\calculators\\calculator.py:737\u001b[0m, in \u001b[0;36mCalculator.get_property\u001b[1;34m(self, name, atoms, allow_calculation)\u001b[0m\n\u001b[0;32m    735\u001b[0m     \u001b[39mif\u001b[39;00m \u001b[39mnot\u001b[39;00m allow_calculation:\n\u001b[0;32m    736\u001b[0m         \u001b[39mreturn\u001b[39;00m \u001b[39mNone\u001b[39;00m\n\u001b[1;32m--> 737\u001b[0m     \u001b[39mself\u001b[39;49m\u001b[39m.\u001b[39;49mcalculate(atoms, [name], system_changes)\n\u001b[0;32m    739\u001b[0m \u001b[39mif\u001b[39;00m name \u001b[39mnot\u001b[39;00m \u001b[39min\u001b[39;00m \u001b[39mself\u001b[39m\u001b[39m.\u001b[39mresults:\n\u001b[0;32m    740\u001b[0m     \u001b[39m# For some reason the calculator was not able to do what we want,\u001b[39;00m\n\u001b[0;32m    741\u001b[0m     \u001b[39m# and that is OK.\u001b[39;00m\n\u001b[0;32m    742\u001b[0m     \u001b[39mraise\u001b[39;00m PropertyNotImplementedError(\u001b[39m'\u001b[39m\u001b[39m{}\u001b[39;00m\u001b[39m not present in this \u001b[39m\u001b[39m'\u001b[39m\n\u001b[0;32m    743\u001b[0m                                       \u001b[39m'\u001b[39m\u001b[39mcalculation\u001b[39m\u001b[39m'\u001b[39m\u001b[39m.\u001b[39mformat(name))\n",
      "File \u001b[1;32m~\\AppData\\Local\\Packages\\PythonSoftwareFoundation.Python.3.10_qbz5n2kfra8p0\\LocalCache\\local-packages\\Python310\\site-packages\\torchani\\ase.py:172\u001b[0m, in \u001b[0;36mCalculator.calculate\u001b[1;34m(self, atoms, properties, system_changes)\u001b[0m\n\u001b[0;32m    168\u001b[0m         nnp_forces \u001b[39m=\u001b[39m [\u001b[39m0.\u001b[39m]\u001b[39m*\u001b[39m\u001b[39mlen\u001b[39m(\u001b[39mself\u001b[39m\u001b[39m.\u001b[39mnetwork)\n\u001b[0;32m    169\u001b[0m         \u001b[39mfor\u001b[39;00m i \u001b[39min\u001b[39;00m \u001b[39mrange\u001b[39m(\u001b[39mlen\u001b[39m(\u001b[39mself\u001b[39m\u001b[39m.\u001b[39mnetwork)):\n\u001b[0;32m    170\u001b[0m             \u001b[39m#if os.path.isfile(self.network[i]):\u001b[39;00m\n\u001b[0;32m    171\u001b[0m             \u001b[39m#    self.nn.load_state_dict(torch.load(self.network[i], map_location=self.processor))\u001b[39;00m\n\u001b[1;32m--> 172\u001b[0m             \u001b[39mself\u001b[39m\u001b[39m.\u001b[39mnn\u001b[39m.\u001b[39mload_state_dict(torch\u001b[39m.\u001b[39;49mload(\u001b[39mself\u001b[39;49m\u001b[39m.\u001b[39;49mnetwork[i], map_location\u001b[39m=\u001b[39;49m\u001b[39mself\u001b[39;49m\u001b[39m.\u001b[39;49mprocessor))\n\u001b[0;32m    173\u001b[0m             nnp \u001b[39m=\u001b[39m torch\u001b[39m.\u001b[39mnn\u001b[39m.\u001b[39mSequential(\u001b[39mself\u001b[39m\u001b[39m.\u001b[39maev_computer, \u001b[39mself\u001b[39m\u001b[39m.\u001b[39mnn, \u001b[39mself\u001b[39m\u001b[39m.\u001b[39menergy_shifter)\n\u001b[0;32m    175\u001b[0m \u001b[39m#            if pbc_enabled:\u001b[39;00m\n\u001b[0;32m    176\u001b[0m \u001b[39m#                _, nnp_energy = nnp((species, coordinates), cell=cell, pbc=pbc).energies\u001b[39;00m\n\u001b[0;32m    177\u001b[0m \u001b[39m#                nnp_force = -torch.autograd.grad(nnp_energy.squeeze(), coordinates)[0]\u001b[39;00m\n\u001b[0;32m    178\u001b[0m \u001b[39m#            else:\u001b[39;00m\n\u001b[0;32m    179\u001b[0m \u001b[39m#                _, nnp_energy = nnp((species, coordinates))\u001b[39;00m\n\u001b[0;32m    180\u001b[0m \u001b[39m#                nnp_force = -torch.autograd.grad(nnp_energy.squeeze(), coordinates)[0]\u001b[39;00m\n",
      "File \u001b[1;32m~\\AppData\\Local\\Packages\\PythonSoftwareFoundation.Python.3.10_qbz5n2kfra8p0\\LocalCache\\local-packages\\Python310\\site-packages\\torch\\serialization.py:771\u001b[0m, in \u001b[0;36mload\u001b[1;34m(f, map_location, pickle_module, weights_only, **pickle_load_args)\u001b[0m\n\u001b[0;32m    768\u001b[0m \u001b[39mif\u001b[39;00m \u001b[39m'\u001b[39m\u001b[39mencoding\u001b[39m\u001b[39m'\u001b[39m \u001b[39mnot\u001b[39;00m \u001b[39min\u001b[39;00m pickle_load_args\u001b[39m.\u001b[39mkeys():\n\u001b[0;32m    769\u001b[0m     pickle_load_args[\u001b[39m'\u001b[39m\u001b[39mencoding\u001b[39m\u001b[39m'\u001b[39m] \u001b[39m=\u001b[39m \u001b[39m'\u001b[39m\u001b[39mutf-8\u001b[39m\u001b[39m'\u001b[39m\n\u001b[1;32m--> 771\u001b[0m \u001b[39mwith\u001b[39;00m _open_file_like(f, \u001b[39m'\u001b[39;49m\u001b[39mrb\u001b[39;49m\u001b[39m'\u001b[39;49m) \u001b[39mas\u001b[39;00m opened_file:\n\u001b[0;32m    772\u001b[0m     \u001b[39mif\u001b[39;00m _is_zipfile(opened_file):\n\u001b[0;32m    773\u001b[0m         \u001b[39m# The zipfile reader is going to advance the current file position.\u001b[39;00m\n\u001b[0;32m    774\u001b[0m         \u001b[39m# If we want to actually tail call to torch.jit.load, we need to\u001b[39;00m\n\u001b[0;32m    775\u001b[0m         \u001b[39m# reset back to the original position.\u001b[39;00m\n\u001b[0;32m    776\u001b[0m         orig_position \u001b[39m=\u001b[39m opened_file\u001b[39m.\u001b[39mtell()\n",
      "File \u001b[1;32m~\\AppData\\Local\\Packages\\PythonSoftwareFoundation.Python.3.10_qbz5n2kfra8p0\\LocalCache\\local-packages\\Python310\\site-packages\\torch\\serialization.py:270\u001b[0m, in \u001b[0;36m_open_file_like\u001b[1;34m(name_or_buffer, mode)\u001b[0m\n\u001b[0;32m    268\u001b[0m \u001b[39mdef\u001b[39;00m \u001b[39m_open_file_like\u001b[39m(name_or_buffer, mode):\n\u001b[0;32m    269\u001b[0m     \u001b[39mif\u001b[39;00m _is_path(name_or_buffer):\n\u001b[1;32m--> 270\u001b[0m         \u001b[39mreturn\u001b[39;00m _open_file(name_or_buffer, mode)\n\u001b[0;32m    271\u001b[0m     \u001b[39melse\u001b[39;00m:\n\u001b[0;32m    272\u001b[0m         \u001b[39mif\u001b[39;00m \u001b[39m'\u001b[39m\u001b[39mw\u001b[39m\u001b[39m'\u001b[39m \u001b[39min\u001b[39;00m mode:\n",
      "File \u001b[1;32m~\\AppData\\Local\\Packages\\PythonSoftwareFoundation.Python.3.10_qbz5n2kfra8p0\\LocalCache\\local-packages\\Python310\\site-packages\\torch\\serialization.py:251\u001b[0m, in \u001b[0;36m_open_file.__init__\u001b[1;34m(self, name, mode)\u001b[0m\n\u001b[0;32m    250\u001b[0m \u001b[39mdef\u001b[39;00m \u001b[39m__init__\u001b[39m(\u001b[39mself\u001b[39m, name, mode):\n\u001b[1;32m--> 251\u001b[0m     \u001b[39msuper\u001b[39m(_open_file, \u001b[39mself\u001b[39m)\u001b[39m.\u001b[39m\u001b[39m__init__\u001b[39m(\u001b[39mopen\u001b[39;49m(name, mode))\n",
      "\u001b[1;31mPermissionError\u001b[0m: [Errno 13] Permission denied: '.'"
     ]
    }
   ],
   "source": [
    "\n",
    "langevinsim = langevin.Langevin(mol, 0.5 * units.fs, temperature = 5.0 * units.kB, friction=0.01)\n",
    "langevinsim.attach(printxyz, interval=1)\n",
    "langevinsim.attach(printenergy, interval=100)\n",
    "langevinsim.attach(printtraj, interval=1000)\n",
    "langevinsim.run(500)\n"
   ]
  }
 ],
 "metadata": {
  "kernelspec": {
   "display_name": "Python 3",
   "language": "python",
   "name": "python3"
  },
  "language_info": {
   "codemirror_mode": {
    "name": "ipython",
    "version": 3
   },
   "file_extension": ".py",
   "mimetype": "text/x-python",
   "name": "python",
   "nbconvert_exporter": "python",
   "pygments_lexer": "ipython3",
   "version": "3.10.9"
  },
  "orig_nbformat": 4,
  "vscode": {
   "interpreter": {
    "hash": "fe0d356910019e44f2687c3afcfb53699a594892937df3d97268ef1ba4671729"
   }
  }
 },
 "nbformat": 4,
 "nbformat_minor": 2
}
