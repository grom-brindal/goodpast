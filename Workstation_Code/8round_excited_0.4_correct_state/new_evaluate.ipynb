{
 "cells": [
  {
   "cell_type": "code",
   "execution_count": 1,
   "metadata": {},
   "outputs": [
    {
     "name": "stderr",
     "output_type": "stream",
     "text": [
      "C:\\Users\\AMJ\\AppData\\Local\\Packages\\PythonSoftwareFoundation.Python.3.10_qbz5n2kfra8p0\\LocalCache\\local-packages\\Python310\\site-packages\\tqdm\\auto.py:22: TqdmWarning: IProgress not found. Please update jupyter and ipywidgets. See https://ipywidgets.readthedocs.io/en/stable/user_install.html\n",
      "  from .autonotebook import tqdm as notebook_tqdm\n"
     ]
    }
   ],
   "source": [
    "import os\n",
    "import h5py\n",
    "import numpy as np\n",
    "import torch\n",
    "import torchani\n",
    "import ase\n",
    "from ase import Atom\n",
    "from ase import Atoms\n",
    "from ase import units\n",
    "from ase.io import read, write\n",
    "import matplotlib\n",
    "from matplotlib import pyplot as plt\n",
    "\n",
    "device = torch.device('cpu')\n",
    "\n",
    "home = os.getcwd()"
   ]
  },
  {
   "cell_type": "code",
   "execution_count": 2,
   "metadata": {},
   "outputs": [],
   "source": [
    "mol = []\n",
    "def printenergy(a=mol):\n",
    "    epot = a.get_potential_energy()\n",
    "    ekin = a.get_kinetic_energy()\n",
    "    return epot + ekin"
   ]
  },
  {
   "cell_type": "code",
   "execution_count": 3,
   "metadata": {},
   "outputs": [],
   "source": [
    "os.chdir(home)\n",
    "\n",
    "network_folders = []\n",
    "\n",
    "\n",
    "\n",
    "def atomic(linear=[(384,128), (128,128), (128,64), (64,1)]):\n",
    "    model = torch.nn.Sequential(\n",
    "        torch.nn.Linear(*linear[0]),\n",
    "        torch.nn.CELU(0.1),\n",
    "        torch.nn.Linear(*linear[1]),\n",
    "        torch.nn.CELU(0.1),\n",
    "        torch.nn.Linear(*linear[2]),\n",
    "        torch.nn.CELU(0.1),\n",
    "        torch.nn.Linear(*linear[3])\n",
    "    )\n",
    "    return model\n",
    "nn = torchani.ANIModel([atomic(v) for v in (\n",
    "[(384,160), (160,128), (128,96), (96,1)],\n",
    "[(384,144), (144,112), (112,96), (96,1)],\n",
    "[(384,128), (128,112), (112,96), (96,1)],\n",
    "[(384,128), (128,112), (112,96), (96,1)]\n",
    ")])\n",
    "\n",
    "network_folders = ['./best.pt']\n",
    "with h5py.File('./transfer/energy2.h5', 'r') as f:\n",
    "    coordinates = f['firstlayer']['secondlayer']['coordinates']\n",
    "    coordinates = f['firstlayer']['secondlayer']['coordinates'][:len(coordinates)]\n",
    "    dataset_energies = f['firstlayer']['secondlayer']['energies'][:len(coordinates)]\n",
    "    \n",
    "    path = './train/eval/'\n",
    "    const_file = path + 'rHCNO-5.2R_16-3.5A_a4-8.params'\n",
    "    sae_file = path + 'sae_linfit_CAS.dat'\n",
    " \n",
    "    consts = torchani.neurochem.Constants(const_file)\n",
    "    aev_computer = torchani.AEVComputer(**consts)\n",
    "    energy_shifter = torchani.neurochem.load_sae(sae_file)"
   ]
  },
  {
   "cell_type": "code",
   "execution_count": 4,
   "metadata": {},
   "outputs": [
    {
     "name": "stdout",
     "output_type": "stream",
     "text": [
      "c:\\Users\\AMJ\\git_code\\goodpast\\Workstation_Code\\8round_excited_0.4_correct_state\n"
     ]
    },
    {
     "name": "stderr",
     "output_type": "stream",
     "text": [
      "C:\\Users\\AMJ\\AppData\\Local\\Packages\\PythonSoftwareFoundation.Python.3.10_qbz5n2kfra8p0\\LocalCache\\local-packages\\Python310\\site-packages\\torchani\\ase.py:142: UserWarning: Creating a tensor from a list of numpy.ndarrays is extremely slow. Please consider converting the list to a single numpy.ndarray with numpy.array() before converting to a tensor. (Triggered internally at ..\\torch\\csrc\\utils\\tensor_new.cpp:233.)\n",
      "  cell = torch.tensor(self.atoms.get_cell(complete=True),\n"
     ]
    }
   ],
   "source": [
    "print(os.getcwd())\n",
    "evaluated_energies = []\n",
    "for i in range(1):\n",
    "    for x in range(len(coordinates)):\n",
    "        c = coordinates[x]\n",
    "        mol = [ Atom('C', (c[0][0],  c[0][1], c[0][2])),\n",
    "        Atom('C', (c[1][0],  c[1][1], c[1][2])),\n",
    "        Atom('H', (c[2][0],  c[2][1], c[2][2])),\n",
    "        Atom('H', (c[3][0],  c[3][1], c[3][2])),\n",
    "        Atom('H', (c[4][0],  c[4][1], c[4][2])),\n",
    "        Atom('H', (c[5][0],  c[5][1], c[5][2])) ]\n",
    "        mol = Atoms(mol)\n",
    "        personal_directory = os.getcwd()\n",
    "        network = network_folders\n",
    "        calculator = torchani.ase.Calculator(personal_directory, consts.species, aev_computer, network, nn, energy_shifter, device)\n",
    "\n",
    "        mol.set_calculator(calculator)\n",
    "        energy = float(str(printenergy(a=mol))) * (1/units.Hartree) * 627.509474062112 # Hartree to kcal/mol conversion\n",
    "        evaluated_energies.append(energy)\n",
    "\n",
    "dataset_energies = [float(dataset_energies[x]) * 627.509474062112 for x in range(len(dataset_energies))]        \n",
    "\n",
    "result = []\n",
    "for i, j in zip(dataset_energies, evaluated_energies):\n",
    "    result.append(i-j)"
   ]
  },
  {
   "cell_type": "code",
   "execution_count": 5,
   "metadata": {},
   "outputs": [
    {
     "data": {
      "text/plain": [
       "<Figure size 640x480 with 0 Axes>"
      ]
     },
     "metadata": {},
     "output_type": "display_data"
    }
   ],
   "source": [
    "\n",
    "# Plot energies from the dataset and from the network\n",
    "\n",
    "x_axis = []\n",
    "y_axis = []\n",
    "for i in range(len(evaluated_energies)):\n",
    "    x_axis.append(int(i))\n",
    "    y_axis.append(round(float(evaluated_energies[i] ), 11))\n",
    "line1 = plt.plot(x_axis, y_axis)\n",
    "plt.savefig('./network_energies.png')\n",
    "plt.clf()\n",
    "x_axis, y_axis = [], []\n",
    "for i in range(len(dataset_energies)):\n",
    "    x_axis.append(int(i))\n",
    "    y_axis.append(round(float(dataset_energies[i] ), 11))\n",
    "line1 = plt.plot(x_axis, y_axis)\n",
    "plt.savefig('./dataset_energies.png')\n",
    "plt.clf()\n",
    "x_axis, y_axis = [], []\n",
    "for i in range(len(evaluated_energies)):\n",
    "    x_axis.append(int(i))\n",
    "    y_axis.append(round(float(result[i]), 11))\n",
    "line1 = plt.plot(x_axis, y_axis)\n",
    "plt.savefig('./residuals.png')\n",
    "plt.clf()"
   ]
  }
 ],
 "metadata": {
  "kernelspec": {
   "display_name": "Python 3",
   "language": "python",
   "name": "python3"
  },
  "language_info": {
   "codemirror_mode": {
    "name": "ipython",
    "version": 3
   },
   "file_extension": ".py",
   "mimetype": "text/x-python",
   "name": "python",
   "nbconvert_exporter": "python",
   "pygments_lexer": "ipython3",
   "version": "3.10.9"
  },
  "orig_nbformat": 4,
  "vscode": {
   "interpreter": {
    "hash": "fe0d356910019e44f2687c3afcfb53699a594892937df3d97268ef1ba4671729"
   }
  }
 },
 "nbformat": 4,
 "nbformat_minor": 2
}
