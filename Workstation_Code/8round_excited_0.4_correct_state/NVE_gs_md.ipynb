{
 "cells": [
  {
   "cell_type": "code",
   "execution_count": 1,
   "metadata": {},
   "outputs": [
    {
     "name": "stderr",
     "output_type": "stream",
     "text": [
      "C:\\Users\\AMJ\\AppData\\Local\\Packages\\PythonSoftwareFoundation.Python.3.10_qbz5n2kfra8p0\\LocalCache\\local-packages\\Python310\\site-packages\\tqdm\\auto.py:22: TqdmWarning: IProgress not found. Please update jupyter and ipywidgets. See https://ipywidgets.readthedocs.io/en/stable/user_install.html\n",
      "  from .autonotebook import tqdm as notebook_tqdm\n"
     ]
    }
   ],
   "source": [
    "import os\n",
    "import h5py\n",
    "import numpy as np\n",
    "import torch\n",
    "import torchani\n",
    "import ase\n",
    "from ase import Atom\n",
    "from ase import Atoms\n",
    "from ase import units\n",
    "from ase.io import read, write\n",
    "import matplotlib\n",
    "from matplotlib import pyplot as plt\n",
    "from ase.md import langevin\n",
    "from ase.md import verlet\n",
    "from ase.optimize import BFGS\n",
    "\n",
    "device = torch.device('cpu')\n",
    "\n",
    "home = os.getcwd()"
   ]
  },
  {
   "cell_type": "code",
   "execution_count": 2,
   "metadata": {},
   "outputs": [],
   "source": [
    "mol = []\n",
    "def printenergy(a=mol):\n",
    "    epot = a.get_potential_energy()\n",
    "    ekin = a.get_kinetic_energy()\n",
    "    return epot + ekin"
   ]
  },
  {
   "cell_type": "code",
   "execution_count": 3,
   "metadata": {},
   "outputs": [],
   "source": [
    "network_folders = []\n",
    "\n",
    "def atomic(linear=[(384,128), (128,128), (128,64), (64,1)]):\n",
    "    model = torch.nn.Sequential(\n",
    "        torch.nn.Linear(*linear[0]),\n",
    "        torch.nn.CELU(0.1),\n",
    "        torch.nn.Linear(*linear[1]),\n",
    "        torch.nn.CELU(0.1),\n",
    "        torch.nn.Linear(*linear[2]),\n",
    "        torch.nn.CELU(0.1),\n",
    "        torch.nn.Linear(*linear[3])\n",
    "    )\n",
    "    return model\n",
    "nn = torchani.ANIModel([atomic(v) for v in (\n",
    "[(384,160), (160,128), (128,96), (96,1)],\n",
    "[(384,144), (144,112), (112,96), (96,1)],\n",
    "[(384,128), (128,112), (112,96), (96,1)],\n",
    "[(384,128), (128,112), (112,96), (96,1)]\n",
    ")])\n",
    "\n",
    "network_folders = ['./best.pt']\n",
    "path = './train/eval/'\n",
    "const_file = path + 'rHCNO-5.2R_16-3.5A_a4-8.params'\n",
    "sae_file = path + 'sae_linfit_CAS.dat'\n",
    "\n",
    "consts = torchani.neurochem.Constants(const_file)\n",
    "aev_computer = torchani.AEVComputer(**consts)\n",
    "energy_shifter = torchani.neurochem.load_sae(sae_file)"
   ]
  },
  {
   "cell_type": "code",
   "execution_count": 4,
   "metadata": {},
   "outputs": [],
   "source": [
    "def printxyz(a=mol):\n",
    "    \"\"\"Function to print out xyz coordinates\"\"\"\n",
    "    check_out=os.getcwd() + '/output'\n",
    "    os.chdir(check_out)\n",
    "    i=0\n",
    "    file_name = str(i) + '_checkpoint.pdb'\n",
    "    file_name = str(file_name)\n",
    "    while (os.path.isfile(file_name)):\n",
    "        i=i+1\n",
    "        file_name = str(i)+'_checkpoint.pdb'\n",
    "        file_name = str(file_name)\n",
    "    checkpoint_out = str(i) +  '_checkpoint.pdb'\n",
    "    write(str(checkpoint_out), mol)\n",
    "    os.chdir('..')"
   ]
  },
  {
   "cell_type": "code",
   "execution_count": 5,
   "metadata": {},
   "outputs": [],
   "source": [
    "with h5py.File('./transfer/energy2.h5', 'r') as dataset:\n",
    "    coordinates = dataset['firstlayer']['secondlayer']['coordinates']\n",
    "    coordinates = dataset['firstlayer']['secondlayer']['coordinates'][:len(coordinates)]\n",
    "    energies = dataset['firstlayer']['secondlayer']['energies'][:len(coordinates)]"
   ]
  },
  {
   "cell_type": "code",
   "execution_count": 6,
   "metadata": {},
   "outputs": [
    {
     "name": "stdout",
     "output_type": "stream",
     "text": [
      "[[-0.6265  0.1377  0.2987]\n",
      " [ 0.6354 -0.1876 -0.359 ]\n",
      " [-1.2671  0.8964 -0.155 ]\n",
      " [-0.9622 -0.8662 -0.1374]\n",
      " [ 0.9711  0.8163  0.077 ]\n",
      " [ 1.276  -0.9463  0.0945]]\n",
      "0.2987\n"
     ]
    }
   ],
   "source": [
    "print(coordinates[0])\n",
    "print(str(float(coordinates[0][0][2])))\n",
    "cr = coordinates"
   ]
  },
  {
   "cell_type": "code",
   "execution_count": 7,
   "metadata": {},
   "outputs": [
    {
     "name": "stdout",
     "output_type": "stream",
     "text": [
      "-48781.88324349252\n"
     ]
    },
    {
     "name": "stderr",
     "output_type": "stream",
     "text": [
      "C:\\Users\\AMJ\\AppData\\Local\\Packages\\PythonSoftwareFoundation.Python.3.10_qbz5n2kfra8p0\\LocalCache\\local-packages\\Python310\\site-packages\\torchani\\ase.py:142: UserWarning: Creating a tensor from a list of numpy.ndarrays is extremely slow. Please consider converting the list to a single numpy.ndarray with numpy.array() before converting to a tensor. (Triggered internally at ..\\torch\\csrc\\utils\\tensor_new.cpp:233.)\n",
      "  cell = torch.tensor(self.atoms.get_cell(complete=True),\n"
     ]
    }
   ],
   "source": [
    "evaluated_energies = []\n",
    "\n",
    "for i in range(1):\n",
    "    for x in range(1):\n",
    "        #mol = [ Atom('C', (  0.000000,    0.000000,    0.669100)),\n",
    "        #Atom('C', (  -0.000000,    0.000000,   -0.669100)),\n",
    "        #Atom('H', (  -0.000000,    0.914900,    1.234800)),\n",
    "        #Atom('H', (  -0.000000,   -0.914900,    1.234800)),\n",
    "        #Atom('H', (  -0.000000,    0.914900,   -1.234800)),\n",
    "        #Atom('H', (  -0.000000,   -0.914900,   -1.234800)) ]\n",
    "        mol = [Atom('C', (cr[0][0][0], cr[0][0][1], cr[0][0][2])),\n",
    "               Atom('C', (  cr[0][1][0], cr[0][1][1], cr[0][1][2])),\n",
    "               Atom('H', (  cr[0][2][0], cr[0][2][1], cr[0][2][2])),\n",
    "               Atom('H', (  cr[0][3][0], cr[0][3][1], cr[0][3][2]  )),\n",
    "               Atom('H', (  cr[0][4][0], cr[0][4][1], cr[0][4][2]  )),\n",
    "               Atom('H', (  cr[0][5][0], cr[0][5][1], cr[0][5][2]  )) ]\n",
    "\n",
    "        mol = Atoms(mol)\n",
    "        personal_directory = os.getcwd()\n",
    "        network = network_folders\n",
    "        calculator = torchani.ase.Calculator(personal_directory, consts.species, aev_computer, network, nn, energy_shifter, device)\n",
    "\n",
    "        mol.set_calculator(calculator)\n",
    "        energy = float(str(printenergy(a=mol))) * (1/units.Hartree) * 627.509474062112 # Hartree to kcal/mol conversion\n",
    "        print(energy)\n",
    "        try:\n",
    "            os.mkdir('./output/')\n",
    "        except:\n",
    "            pass\n",
    "        opt = BFGS(mol)\n",
    "        #opt.run(fmax=0.1)\n",
    "        verletsim = verlet.VelocityVerlet(mol, 0.1 * units.fs)\n",
    "        verletsim.attach(printxyz, interval=10)\n",
    "        verletsim.run(5000)\n",
    "\n",
    "        #langevinsim = langevin.Langevin(mol, 0.1 * units.fs, temperature =0.5 * units.kB, friction=0.01)\n",
    "        #langevinsim.attach(printxyz, interval=10)\n",
    "        #langevinsim.run(5000)"
   ]
  },
  {
   "cell_type": "code",
   "execution_count": 8,
   "metadata": {},
   "outputs": [],
   "source": [
    "os.chdir('./output/')\n",
    "with open('cat_output.pdb', 'w') as f:\n",
    "    for i in range(500):\n",
    "        with open(str(i) + '_checkpoint.pdb', 'r') as f1:\n",
    "            lines = f1.readlines()\n",
    "            for line in lines:\n",
    "                f.write(line)\n",
    "\n",
    "os.chdir('../')"
   ]
  },
  {
   "cell_type": "code",
   "execution_count": 9,
   "metadata": {},
   "outputs": [],
   "source": [
    "\n",
    "evaluated_energies = []\n",
    "for i in range(500):\n",
    "    with open('./output/' + str(i) + '_checkpoint.pdb', 'r') as f1:\n",
    "        atoms=[]\n",
    "        lines = f1.readlines()\n",
    "        for x in range(1, len(lines)-1):\n",
    "            atom = lines[x].split()\n",
    "            atom = [float(atom[5]), float(atom[6]), float(atom[7])]\n",
    "            atoms.append(atom)\n",
    "        c = atoms\n",
    "        mol = [ Atom('C', (c[0][0],  c[0][1], c[0][2])),\n",
    "        Atom('C', (c[1][0],  c[1][1], c[1][2])),\n",
    "        Atom('H', (c[2][0],  c[2][1], c[2][2])),\n",
    "        Atom('H', (c[3][0],  c[3][1], c[3][2])),\n",
    "        Atom('H', (c[4][0],  c[4][1], c[4][2])),\n",
    "        Atom('H', (c[5][0],  c[5][1], c[5][2])) ]\n",
    "        mol = Atoms(mol)\n",
    "        personal_directory = os.getcwd()\n",
    "        network = network_folders\n",
    "        calculator = torchani.ase.Calculator(personal_directory, consts.species, aev_computer, network, nn, energy_shifter, device)\n",
    "        mol.set_calculator(calculator)\n",
    "        energy = float(str(printenergy(a=mol))) * (1/units.Hartree) * 627.509474062112\n",
    "        evaluated_energies.append(energy)\n",
    "        \n",
    "with open('md_energies.txt', 'w') as f:\n",
    "    for i in range(len(evaluated_energies)):\n",
    "        f.write(str(evaluated_energies[i]))\n",
    "        f.write('\\n')"
   ]
  },
  {
   "cell_type": "code",
   "execution_count": 10,
   "metadata": {},
   "outputs": [
    {
     "data": {
      "image/png": "[encoded data removed]",
      "text/plain": [
       "<Figure size 640x480 with 1 Axes>"
      ]
     },
     "metadata": {},
     "output_type": "display_data"
    },
    {
     "data": {
      "text/plain": [
       "<Figure size 640x480 with 0 Axes>"
      ]
     },
     "metadata": {},
     "output_type": "display_data"
    }
   ],
   "source": [
    "x_axis, y_axis = [], []\n",
    "for i in range(len(evaluated_energies)):\n",
    "    x_axis.append(int(i))\n",
    "    y_axis.append(round(float(evaluated_energies[i]), 11))\n",
    "line1 = plt.plot(x_axis, y_axis)\n",
    "plt.savefig('./md_energies.png')\n",
    "plt.show()\n",
    "plt.clf() "
   ]
  },
  {
   "attachments": {},
   "cell_type": "markdown",
   "metadata": {},
   "source": [
    "\n",
    "os.chdir('./output/')\n",
    "with open('cat_output.pdb', 'w') as f:\n",
    "    for i in range(500):\n",
    "        with open(str(i) + '_checkpoint.pdb', 'r') as f1:\n",
    "        lines = f1.readlines()\n",
    "        for line in lines:\n",
    "            f.write(line)\n",
    "\n",
    "os.chdir('../')"
   ]
  }
 ],
 "metadata": {
  "kernelspec": {
   "display_name": "Python 3",
   "language": "python",
   "name": "python3"
  },
  "language_info": {
   "codemirror_mode": {
    "name": "ipython",
    "version": 3
   },
   "file_extension": ".py",
   "mimetype": "text/x-python",
   "name": "python",
   "nbconvert_exporter": "python",
   "pygments_lexer": "ipython3",
   "version": "3.10.9"
  },
  "orig_nbformat": 4,
  "vscode": {
   "interpreter": {
    "hash": "fe0d356910019e44f2687c3afcfb53699a594892937df3d97268ef1ba4671729"
   }
  }
 },
 "nbformat": 4,
 "nbformat_minor": 2
}
