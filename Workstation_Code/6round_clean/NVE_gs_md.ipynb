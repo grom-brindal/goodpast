{
 "cells": [
  {
   "cell_type": "code",
   "execution_count": null,
   "metadata": {},
   "outputs": [],
   "source": [
    "import os\n",
    "import h5py\n",
    "import numpy as np\n",
    "import torch\n",
    "import torchani\n",
    "import ase\n",
    "from ase import Atom\n",
    "from ase import Atoms\n",
    "from ase import units\n",
    "from ase.io import read, write\n",
    "import matplotlib\n",
    "from matplotlib import pyplot as plt\n",
    "from ase.md import langevin\n",
    "from ase.md import verlet\n",
    "from ase.optimize import BFGS\n",
    "\n",
    "device = torch.device('cpu')\n",
    "\n",
    "home = os.getcwd()"
   ]
  },
  {
   "cell_type": "code",
   "execution_count": null,
   "metadata": {},
   "outputs": [],
   "source": [
    "mol = []\n",
    "def printenergy(a=mol):\n",
    "    epot = a.get_potential_energy()\n",
    "    ekin = a.get_kinetic_energy()\n",
    "    return epot + ekin"
   ]
  },
  {
   "cell_type": "code",
   "execution_count": null,
   "metadata": {},
   "outputs": [],
   "source": [
    "network_folders = []\n",
    "\n",
    "def atomic(linear=[(384,128), (128,128), (128,64), (64,1)]):\n",
    "    model = torch.nn.Sequential(\n",
    "        torch.nn.Linear(*linear[0]),\n",
    "        torch.nn.CELU(0.1),\n",
    "        torch.nn.Linear(*linear[1]),\n",
    "        torch.nn.CELU(0.1),\n",
    "        torch.nn.Linear(*linear[2]),\n",
    "        torch.nn.CELU(0.1),\n",
    "        torch.nn.Linear(*linear[3])\n",
    "    )\n",
    "    return model\n",
    "nn = torchani.ANIModel([atomic(v) for v in (\n",
    "[(384,160), (160,128), (128,96), (96,1)],\n",
    "[(384,144), (144,112), (112,96), (96,1)],\n",
    "[(384,128), (128,112), (112,96), (96,1)],\n",
    "[(384,128), (128,112), (112,96), (96,1)]\n",
    ")])\n",
    "\n",
    "network_folders = ['./best.pt']\n",
    "path = './train/eval/'\n",
    "const_file = path + 'rHCNO-5.2R_16-3.5A_a4-8.params'\n",
    "sae_file = path + 'sae_linfit_CAS.dat'\n",
    "\n",
    "consts = torchani.neurochem.Constants(const_file)\n",
    "aev_computer = torchani.AEVComputer(**consts)\n",
    "energy_shifter = torchani.neurochem.load_sae(sae_file)"
   ]
  },
  {
   "cell_type": "code",
   "execution_count": null,
   "metadata": {},
   "outputs": [],
   "source": [
    "def printxyz(a=mol):\n",
    "    \"\"\"Function to print out xyz coordinates\"\"\"\n",
    "    check_out=os.getcwd() + '/output'\n",
    "    os.chdir(check_out)\n",
    "    i=0\n",
    "    file_name = str(i) + '_checkpoint.pdb'\n",
    "    file_name = str(file_name)\n",
    "    while (os.path.isfile(file_name)):\n",
    "        i=i+1\n",
    "        file_name = str(i)+'_checkpoint.pdb'\n",
    "        file_name = str(file_name)\n",
    "    checkpoint_out = str(i) +  '_checkpoint.pdb'\n",
    "    write(str(checkpoint_out), mol)\n",
    "    os.chdir('..')"
   ]
  },
  {
   "cell_type": "code",
   "execution_count": null,
   "metadata": {},
   "outputs": [],
   "source": [
    "with h5py.File('../4round/transfer/energy1.h5', 'r') as dataset:\n",
    "    coordinates = dataset['firstlayer']['secondlayer']['coordinates']\n",
    "    coordinates = dataset['firstlayer']['secondlayer']['coordinates'][:len(coordinates)]\n",
    "    energies = dataset['firstlayer']['secondlayer']['energies'][:len(coordinates)]"
   ]
  },
  {
   "cell_type": "code",
   "execution_count": null,
   "metadata": {},
   "outputs": [],
   "source": [
    "evaluated_energies = []\n",
    "\n",
    "for i in range(1):\n",
    "    for x in range(1):\n",
    "        mol = [ Atom('C', (  0.000000,    0.000000,    0.669100)),\n",
    "        Atom('C', (  -0.000000,    0.000000,   -0.669100)),\n",
    "        Atom('H', (  -0.000000,    0.914900,    1.234800)),\n",
    "        Atom('H', (  -0.000000,   -0.914900,    1.234800)),\n",
    "        Atom('H', (  -0.000000,    0.914900,   -1.234800)),\n",
    "        Atom('H', (  -0.000000,   -0.914900,   -1.234800)) ]\n",
    "\n",
    "        mol = Atoms(mol)\n",
    "        personal_directory = os.getcwd()\n",
    "        network = network_folders\n",
    "        calculator = torchani.ase.Calculator(personal_directory, consts.species, aev_computer, network, nn, energy_shifter, device)\n",
    "\n",
    "        mol.set_calculator(calculator)\n",
    "        energy = float(str(printenergy(a=mol))) * (1/units.Hartree) * 627.509474062112 # Hartree to kcal/mol conversion\n",
    "        print(energy)\n",
    "        try:\n",
    "            os.mkdir('./output/')\n",
    "        except:\n",
    "            pass\n",
    "        opt = BFGS(mol)\n",
    "        #opt.run(fmax=0.1)\n",
    "        verletsim = verlet.VelocityVerlet(mol, 0.1 * units.fs)\n",
    "        verletsim.attach(printxyz, interval=10)\n",
    "        verletsim.run(5000)\n",
    "\n",
    "        #langevinsim = langevin.Langevin(mol, 0.1 * units.fs, temperature =0.5 * units.kB, friction=0.01)\n",
    "        #langevinsim.attach(printxyz, interval=10)\n",
    "        #langevinsim.run(5000)"
   ]
  },
  {
   "cell_type": "code",
   "execution_count": null,
   "metadata": {},
   "outputs": [],
   "source": [
    "os.chdir('./output/')\n",
    "with open('cat_output.pdb', 'w') as f:\n",
    "    for i in range(500):\n",
    "        with open(str(i) + '_checkpoint.pdb', 'r') as f1:\n",
    "            lines = f1.readlines()\n",
    "            for line in lines:\n",
    "                f.write(line)\n",
    "\n",
    "os.chdir('../')"
   ]
  },
  {
   "cell_type": "code",
   "execution_count": null,
   "metadata": {},
   "outputs": [],
   "source": [
    "\n",
    "evaluated_energies = []\n",
    "for i in range(500):\n",
    "    with open('./output/' + str(i) + '_checkpoint.pdb', 'r') as f1:\n",
    "        atoms=[]\n",
    "        lines = f1.readlines()\n",
    "        for x in range(1, len(lines)-1):\n",
    "            atom = lines[x].split()\n",
    "            atom = [float(atom[5]), float(atom[6]), float(atom[7])]\n",
    "            atoms.append(atom)\n",
    "        c = atoms\n",
    "        mol = [ Atom('C', (c[0][0],  c[0][1], c[0][2])),\n",
    "        Atom('C', (c[1][0],  c[1][1], c[1][2])),\n",
    "        Atom('H', (c[2][0],  c[2][1], c[2][2])),\n",
    "        Atom('H', (c[3][0],  c[3][1], c[3][2])),\n",
    "        Atom('H', (c[4][0],  c[4][1], c[4][2])),\n",
    "        Atom('H', (c[5][0],  c[5][1], c[5][2])) ]\n",
    "        mol = Atoms(mol)\n",
    "        personal_directory = os.getcwd()\n",
    "        network = network_folders\n",
    "        calculator = torchani.ase.Calculator(personal_directory, consts.species, aev_computer, network, nn, energy_shifter, device)\n",
    "        mol.set_calculator(calculator)\n",
    "        energy = float(str(printenergy(a=mol))) * (1/units.Hartree) * 627.509474062112\n",
    "        evaluated_energies.append(energy)\n",
    "        \n",
    "with open('md_energies.txt', 'w') as f:\n",
    "    for i in range(len(evaluated_energies)):\n",
    "        f.write(str(evaluated_energies[i]))\n",
    "        f.write('\\n')"
   ]
  },
  {
   "cell_type": "code",
   "execution_count": null,
   "metadata": {},
   "outputs": [],
   "source": [
    "x_axis, y_axis = [], []\n",
    "for i in range(len(evaluated_energies)):\n",
    "    x_axis.append(int(i))\n",
    "    y_axis.append(round(float(evaluated_energies[i]), 11))\n",
    "line1 = plt.plot(x_axis, y_axis)\n",
    "plt.savefig('./md_energies.png')\n",
    "plt.show()\n",
    "plt.clf() "
   ]
  },
  {
   "attachments": {},
   "cell_type": "markdown",
   "metadata": {},
   "source": [
    "\n",
    "os.chdir('./output/')\n",
    "with open('cat_output.pdb', 'w') as f:\n",
    "    for i in range(500):\n",
    "        with open(str(i) + '_checkpoint.pdb', 'r') as f1:\n",
    "        lines = f1.readlines()\n",
    "        for line in lines:\n",
    "            f.write(line)\n",
    "\n",
    "os.chdir('../')"
   ]
  }
 ],
 "metadata": {
  "kernelspec": {
   "display_name": "Python 3",
   "language": "python",
   "name": "python3"
  },
  "language_info": {
   "codemirror_mode": {
    "name": "ipython",
    "version": 3
   },
   "file_extension": ".py",
   "mimetype": "text/x-python",
   "name": "python",
   "nbconvert_exporter": "python",
   "pygments_lexer": "ipython3",
   "version": "3.10.9 (tags/v3.10.9:1dd9be6, Dec  6 2022, 20:01:21) [MSC v.1934 64 bit (AMD64)]"
  },
  "orig_nbformat": 4,
  "vscode": {
   "interpreter": {
    "hash": "fe0d356910019e44f2687c3afcfb53699a594892937df3d97268ef1ba4671729"
   }
  }
 },
 "nbformat": 4,
 "nbformat_minor": 2
}
