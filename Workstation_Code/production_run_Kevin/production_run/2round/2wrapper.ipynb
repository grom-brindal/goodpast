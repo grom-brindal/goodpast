{
 "cells": [
  {
   "cell_type": "code",
   "execution_count": 1,
   "metadata": {},
   "outputs": [
    {
     "name": "stdout",
     "output_type": "stream",
     "text": [
      "['1run\\\\snapshot_2.pdb', '1run\\\\118000_checkpoint.pdb']\n"
     ]
    }
   ],
   "source": [
    "import glob\n",
    "\n",
    "filepaths_to_be_wrapped = []\n",
    "for i in range(1, 2):\n",
    "    for file_name in set(glob.glob(str(i) + 'run/*.pdb')) - set(glob.glob(str(i) + 'run/*wrapped*')):\n",
    "        filepaths_to_be_wrapped.append(file_name)\n",
    "print(filepaths_to_be_wrapped)\n"
   ]
  },
  {
   "cell_type": "code",
   "execution_count": 2,
   "metadata": {},
   "outputs": [],
   "source": [
    "for file_name in filepaths_to_be_wrapped:\n",
    "    temp_newfilename = file_name.split('.')\n",
    "    newfilename = temp_newfilename[0] + '_wrapped.' + temp_newfilename[1]\n",
    "    with open(file_name, 'r') as f:\n",
    "        water_index_list, acrolein_index_list = [], []\n",
    "        lines = f.readlines()\n",
    "        for i in range(len(lines)):\n",
    "            if 'CRYST1' in lines[i]:\n",
    "                need = lines[i].split()\n",
    "                x_bound, y_bound, z_boudn = float(need[1]), float(need[2]), float(need[3])\n",
    "            if 'ATOM' in lines[i]:\n",
    "                if ' O ' in lines[i]:\n",
    "                    if ' H ' in lines[i+1]:\n",
    "                        water_index_list.append(i)\n",
    "                    if ' C ' in lines[i+1]:\n",
    "                        acrolein_index_list.append(i)\n",
    "            f.close()"
   ]
  },
  {
   "cell_type": "code",
   "execution_count": 3,
   "metadata": {},
   "outputs": [],
   "source": [
    "def subtract_atom(molecule, index, bounds):\n",
    "    for i in range(len(molecule)):\n",
    "        molecule[i][index] = round(float(molecule[i][index]) - bounds, 3)\n",
    "    return molecule\n",
    "\n",
    "def add_atom(molecule, index, bounds):\n",
    "    for i in range(len(molecule)):\n",
    "        molecule[i][index] = round(float(molecule[i][index]) + bounds, 3)\n",
    "    return molecule"
   ]
  },
  {
   "cell_type": "code",
   "execution_count": 4,
   "metadata": {},
   "outputs": [
    {
     "ename": "NameError",
     "evalue": "name 'new_molecule' is not defined",
     "output_type": "error",
     "traceback": [
      "\u001b[1;31m---------------------------------------------------------------------------\u001b[0m",
      "\u001b[1;31mNameError\u001b[0m                                 Traceback (most recent call last)",
      "Cell \u001b[1;32mIn[4], line 29\u001b[0m\n\u001b[0;32m     25\u001b[0m                 \u001b[39m#print('new_molecule')\u001b[39;00m\n\u001b[0;32m     26\u001b[0m                 \u001b[39m#print(new_molecule)\u001b[39;00m\n\u001b[0;32m     28\u001b[0m             \u001b[39mif\u001b[39;00m coordinate \u001b[39m<\u001b[39m x_bound \u001b[39mand\u001b[39;00m coordinate \u001b[39m>\u001b[39m \u001b[39m0\u001b[39m:\n\u001b[1;32m---> 29\u001b[0m                 translated_molecules\u001b[39m.\u001b[39mappend(new_molecule)\n\u001b[0;32m     30\u001b[0m \u001b[39mprint\u001b[39m(molecules)\n\u001b[0;32m     31\u001b[0m \u001b[39mprint\u001b[39m(translated_molecules)\n",
      "\u001b[1;31mNameError\u001b[0m: name 'new_molecule' is not defined"
     ]
    }
   ],
   "source": [
    "molecules = []\n",
    "translated_molecules = []\n",
    "for i in range(len(water_index_list)):\n",
    "    molecule = []\n",
    "    out_of_bounds_list = []\n",
    "    for x in range(3):\n",
    "        atom = lines[water_index_list[i] + x].split()\n",
    "        atom = [float(atom[u]) for u in range(5, 8)]\n",
    "        molecule.append(atom)\n",
    "    molecules.append(molecule)\n",
    "    molecule_in_bounds = 1\n",
    "    for x in range(len(molecules)):\n",
    "        for y in range(len(molecules[x][0])):\n",
    "            coordinate = molecules[x][0][y]\n",
    "            if coordinate < 0:\n",
    "                #print('old_molecule')\n",
    "                #print(molecules[x])\n",
    "                new_molecule = add_atom(molecule = molecules[x], index = y, bounds = x_bound)\n",
    "                #print('new_molecule')\n",
    "                #print(new_molecule)\n",
    "            if coordinate > x_bound:\n",
    "                #print('old_molecule')\n",
    "                print(molecules[x])\n",
    "                new_molecule = subtract_atom(molecule = molecules[x], index = y, bounds = x_bound)\n",
    "                #print('new_molecule')\n",
    "                #print(new_molecule)\n",
    "                \n",
    "            if coordinate < x_bound and coordinate > 0:\n",
    "                translated_molecules.append(new_molecule)\n",
    "print(molecules)\n",
    "print(translated_molecules)\n",
    "print(len(molecules))\n",
    "print(len(translated_molecules))\n",
    "print('ayy')\n"
   ]
  }
 ],
 "metadata": {
  "kernelspec": {
   "display_name": "Python 3",
   "language": "python",
   "name": "python3"
  },
  "language_info": {
   "codemirror_mode": {
    "name": "ipython",
    "version": 3
   },
   "file_extension": ".py",
   "mimetype": "text/x-python",
   "name": "python",
   "nbconvert_exporter": "python",
   "pygments_lexer": "ipython3",
   "version": "3.10.10"
  },
  "orig_nbformat": 4,
  "vscode": {
   "interpreter": {
    "hash": "7c053c9a7584e171ec075d47169cc7b6ef4c54ea644faf474bb31fce02e0d6c0"
   }
  }
 },
 "nbformat": 4,
 "nbformat_minor": 2
}
