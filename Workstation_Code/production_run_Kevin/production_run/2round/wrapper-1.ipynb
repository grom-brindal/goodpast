{
 "cells": [
  {
   "cell_type": "code",
   "execution_count": null,
   "metadata": {},
   "outputs": [],
   "source": []
  },
  {
   "cell_type": "code",
   "execution_count": null,
   "metadata": {},
   "outputs": [],
   "source": [
    "import os\n",
    "import glob\n",
    "\n",
    "\n",
    "#for i in range(1, 36):\n",
    "files = []\n",
    "for i in range(1, 2):\n",
    "    for fl in set(glob.glob(str(i) + 'run/*.pdb')) - set(glob.glob(str(i) + 'run/*wrapped*')):\n",
    "        files.append(fl)\n",
    "\n",
    "print(files)\n",
    "def subtract(coordinate, bound):\n",
    "    return round(float(coordinate) - bound, 3)\n",
    "\n",
    "def add(coordinate, bound):\n",
    "    return round(float(coordinate) + bound, 3)\n",
    "\n",
    "for fl in files:\n",
    "    newfilename = fl.split('.')\n",
    "    newfilename = newfilename[0] + '_wrapped.' + newfilename[1]\n",
    "    with open(fl, 'r') as f:\n",
    "        newlines = []\n",
    "        water_index_list = []\n",
    "        acrolein_index_list = []\n",
    "        lines = f.readlines()\n",
    "        for i in range(len(lines)):\n",
    "            if 'CRYST1' in lines[i]:\n",
    "                need = lines[i].split()\n",
    "                x, y, z = float(need[1]), float(need[2]), float(need[3])\n",
    "                bounds = z\n",
    "                print(x, y, z)\n",
    "            if 'ATOM' in lines[i]:\n",
    "                if ' O ' in lines[i]:\n",
    "                    if ' H ' in lines[i+1]:\n",
    "                        water_index_list.append(i)\n",
    "                    if ' C ' in lines[i+1]:\n",
    "                        acrolein_index_list.append(i)\n",
    "        f.close()\n"
   ]
  },
  {
   "cell_type": "code",
   "execution_count": null,
   "metadata": {},
   "outputs": [],
   "source": [
    "def subtract_atom(molecule, index, bounds):\n",
    "    for i in range(len(molecule)):\n",
    "        molecule[i][index] = round(float(molecule[i][index]) - bounds, 3)\n",
    "        \n",
    "    return molecule\n",
    "\n",
    "def add_atom(molecule, index, bounds):\n",
    "    for i in range(len(molecule)):\n",
    "        molecule[i][index] = round(float(molecule[i][index]) + bounds, 3)\n",
    "        \n",
    "    return molecule"
   ]
  },
  {
   "cell_type": "code",
   "execution_count": null,
   "metadata": {},
   "outputs": [],
   "source": [
    "    molecule_bounds_list = []\n",
    "    molecules = []\n",
    "    for i in range(len(water_index_list)):\n",
    "        water_coords = []\n",
    "        molecule = []\n",
    "        for x in range(3):\n",
    "            atom = lines[water_index_list[i] + x].split()\n",
    "            atom = [float(atom[u]) for u in range(5, 8)]\n",
    "            molecule.append(atom)\n",
    "        molecule_in_bounds = 1\n",
    "        for atom in molecule:\n",
    "            for coordinate in atom:\n",
    "                if float(coordinate) < 0 or float(coordinate )> bounds:\n",
    "                    print(coordinate)\n",
    "                    molecule_in_bounds = 0\n",
    "                \n",
    "        molecule_bounds_list.append(molecule_in_bounds)\n",
    "        molecules.append(molecule)\n",
    "    print(molecule_bounds_list)\n"
   ]
  },
  {
   "cell_type": "code",
   "execution_count": null,
   "metadata": {},
   "outputs": [],
   "source": [
    "for i in range(1):\n",
    "    if molecule_bounds_list[0] == 0:\n",
    "        for aa in range(len(molecules[i]))"
   ]
  },
  {
   "cell_type": "code",
   "execution_count": null,
   "metadata": {},
   "outputs": [],
   "source": [
    "for i in range(len(molecule_bounds_list)):\n",
    "    if molecule_bounds_list[i] == 0:\n",
    "        for aa in range(len(molecules[i])):\n",
    "            for uu in range(len(molecules[i][aa])):\n",
    "                print(molecules[i][aa][uu])\n",
    "                if float(molecules[i][aa][uu]) > bounds:\n",
    "                    transposed_molecule = subtract_atom(molecule = molecules[i], index = uu, bounds = bounds)\n",
    "                    print('og')\n",
    "                    print(molecules[i])\n",
    "                    print('new')\n",
    "                    print(transposed_molecule)\n",
    "                if float(molecules[i][aa][uu]) < 0:\n",
    "                    transposed_molecule = add_atom(molecule = molecules[i], index = uu, bounds = bounds)\n",
    "                    print('og')\n",
    "                    print(molecules[i])\n",
    "                    print('new')\n",
    "                    print(transposed_molecule)\n",
    "    else:\n",
    "        pass\n"
   ]
  },
  {
   "cell_type": "code",
   "execution_count": null,
   "metadata": {},
   "outputs": [],
   "source": [
    "        print()\n",
    "        if molecule_in_bounds == 0:\n",
    "            for aa in range(len(molecule)):\n",
    "                for uu in range(len(molecule[aa])):\n",
    "                    if float(molecule[aa][uu]) > bounds:\n",
    "                        print(uu)\n",
    "                        transposed_molecule = subtract_atom(molecule=molecule, index = uu, bounds=bounds)\n",
    "                        print('Original molecule')\n",
    "                        print(molecule)\n",
    "                        print('Transposed molecule')\n",
    "                        print(transposed_molecule)\n",
    "                    \n",
    "\n",
    "                    if float(molecule[aa][uu]) < 0:\n",
    "                        transposed_molecule = add_atom(molecule=molecule, index = uu, bounds=bounds)\n",
    "                        print('Original molecule')\n",
    "                        print(molecule)\n",
    "                        print('Transposed molecule')\n",
    "                        print(transposed_molecule)\n",
    "        else:\n",
    "            print(\"Known good molecule:\")\n",
    "            print(molecule)\n",
    "                        "
   ]
  },
  {
   "cell_type": "code",
   "execution_count": null,
   "metadata": {},
   "outputs": [],
   "source": [
    "#print(water_index_list[0])\n",
    "#print([lines[water_index_list[0] + x] for x in range(3)])"
   ]
  },
  {
   "cell_type": "code",
   "execution_count": null,
   "metadata": {},
   "outputs": [],
   "source": [
    "                #need = line.split()\n",
    "                #print(need)\n",
    "                #while float(need[5]) > x:\n",
    "                #    need[5] = subtract(coordinate=need[5], bound = x)\n",
    "                    need[6] = subtract(coordinate=need[6], bound = x)\n",
    "                    need[7] = subtract(coordinate=need[7], bound = x)\n",
    "                while float(need[5]) < 0:\n",
    "                    need[5] = add(coordinate=need[5], bound=x)\n",
    "                    need[6] = add(coordinate=need[6], bound=x)\n",
    "                    need[7] = add(coordinate=need[7], bound=x)\n",
    "                while float(need[6]) > y:\n",
    "                    need[5] = subtract(coordinate=need[5], bound = y)\n",
    "                    need[6] = subtract(coordinate=need[6], bound = y)\n",
    "                    need[7] = subtract(coordinate=need[7], bound = y)\n",
    "                while float(need[6]) < 0:\n",
    "                    need[5] = add(coordinate=need[5], bound=y)\n",
    "                    need[6] = add(coordinate=need[6], bound=y)\n",
    "                    need[7] = add(coordinate=need[7], bound=y)\n",
    "                while float(need[7]) > z:\n",
    "                    need[5] = subtract(coordinate=need[5], bound = z)\n",
    "                    need[6] = subtract(coordinate=need[6], bound = z)\n",
    "                    need[7] = subtract(coordinate=need[7], bound = z)\n",
    "                while float(need[7]) < 0:\n",
    "                    need[5] = add(coordinate=need[5], bound = z)\n",
    "                    need[6] = add(coordinate=need[6], bound = z)\n",
    "                    need[7] = add(coordinate=need[7], bound = z)\n",
    "                print(need)\n",
    "                    \n",
    "            newlines.append(line)\n",
    "    with open(newfilename, 'w') as f1:\n",
    "        for line in newlines:\n",
    "            f1.write(line)\n",
    "\n",
    "                \n",
    "\n",
    "\n",
    "\n"
   ]
  },
  {
   "cell_type": "code",
   "execution_count": null,
   "metadata": {},
   "outputs": [],
   "source": [
    "    with open('./' + str(i) + 'run/*_checkpoint.pdb') as f:\n",
    "        lines = f.readlines()\n",
    "        for line in lines:\n",
    "            print(line)"
   ]
  }
 ],
 "metadata": {
  "kernelspec": {
   "display_name": "Python 3",
   "language": "python",
   "name": "python3"
  },
  "language_info": {
   "codemirror_mode": {
    "name": "ipython",
    "version": 3
   },
   "file_extension": ".py",
   "mimetype": "text/x-python",
   "name": "python",
   "nbconvert_exporter": "python",
   "pygments_lexer": "ipython3",
   "version": "3.10.10"
  },
  "orig_nbformat": 4,
  "vscode": {
   "interpreter": {
    "hash": "7c053c9a7584e171ec075d47169cc7b6ef4c54ea644faf474bb31fce02e0d6c0"
   }
  }
 },
 "nbformat": 4,
 "nbformat_minor": 2
}
