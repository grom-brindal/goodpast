{
 "cells": [
  {
   "cell_type": "code",
   "execution_count": 1,
   "metadata": {},
   "outputs": [
    {
     "name": "stdout",
     "output_type": "stream",
     "text": [
      "['1run\\\\118000_checkpoint.pdb', '1run\\\\snapshot_2.pdb', '2run\\\\snapshot_2.pdb', '2run\\\\76000_checkpoint.pdb', '3run\\\\snapshot_2.pdb', '3run\\\\282000_checkpoint.pdb', '4run\\\\snapshot_2.pdb', '4run\\\\82000_checkpoint.pdb', '5run\\\\66000_checkpoint.pdb', '5run\\\\snapshot_2.pdb', '6run\\\\snapshot_2.pdb', '6run\\\\122000_checkpoint.pdb', '7run\\\\84000_checkpoint.pdb', '7run\\\\snapshot_2.pdb', '8run\\\\70000_checkpoint.pdb', '8run\\\\snapshot_2.pdb', '9run\\\\snapshot_2.pdb', '9run\\\\76000_checkpoint.pdb', '10run\\\\snapshot_2.pdb', '10run\\\\134000_checkpoint.pdb', '11run\\\\snapshot_2.pdb', '11run\\\\86000_checkpoint.pdb', '12run\\\\92000_checkpoint.pdb', '12run\\\\snapshot_2.pdb', '13run\\\\snapshot_2.pdb', '13run\\\\94000_checkpoint.pdb', '14run\\\\94000_checkpoint.pdb', '14run\\\\snapshot_2.pdb', '15run\\\\62000_checkpoint.pdb', '15run\\\\snapshot_2.pdb', '16run\\\\64000_checkpoint.pdb', '16run\\\\snapshot_2.pdb', '17run\\\\snapshot_2.pdb', '17run\\\\64000_checkpoint.pdb', '18run\\\\90000_checkpoint.pdb', '18run\\\\snapshot_2.pdb', '19run\\\\snapshot_2.pdb', '19run\\\\92000_checkpoint.pdb', '20run\\\\snapshot_2.pdb', '20run\\\\96000_checkpoint.pdb', '21run\\\\96000_checkpoint.pdb', '21run\\\\snapshot_2.pdb', '22run\\\\snapshot_2.pdb', '22run\\\\60000_checkpoint.pdb', '23run\\\\72000_checkpoint.pdb', '23run\\\\snapshot_2.pdb', '24run\\\\78000_checkpoint.pdb', '24run\\\\snapshot_2.pdb', '25run\\\\64000_checkpoint.pdb', '25run\\\\snapshot_2.pdb', '26run\\\\68000_checkpoint.pdb', '26run\\\\snapshot_2.pdb', '27run\\\\snapshot_2.pdb', '27run\\\\70000_checkpoint.pdb', '28run\\\\snapshot_2.pdb', '28run\\\\58000_checkpoint.pdb', '29run\\\\snapshot_2.pdb', '29run\\\\60000_checkpoint.pdb', '30run\\\\62000_checkpoint.pdb', '30run\\\\snapshot_2.pdb', '31run\\\\snapshot_2.pdb', '31run\\\\72000_checkpoint.pdb', '32run\\\\88000_checkpoint.pdb', '32run\\\\snapshot_2.pdb', '33run\\\\snapshot_2.pdb', '33run\\\\90000_checkpoint.pdb', '34run\\\\snapshot_2.pdb', '34run\\\\92000_checkpoint.pdb', '35run\\\\snapshot_2.pdb', '35run\\\\52000_checkpoint.pdb']\n"
     ]
    }
   ],
   "source": [
    "import glob\n",
    "import numpy as np\n",
    "import copy\n",
    "\n",
    "filepaths_to_be_wrapped = []\n",
    "for i in range(1, 36):\n",
    "    for file_name in set(glob.glob(str(i) + 'run/*.pdb')) - set(glob.glob(str(i) + 'run/*wrapped*')):\n",
    "        filepaths_to_be_wrapped.append(file_name)\n",
    "print(filepaths_to_be_wrapped)"
   ]
  },
  {
   "cell_type": "code",
   "execution_count": null,
   "metadata": {},
   "outputs": [],
   "source": []
  },
  {
   "cell_type": "code",
   "execution_count": 4,
   "metadata": {},
   "outputs": [],
   "source": [
    "for file_name in filepaths_to_be_wrapped:\n",
    "    temp_newfilename = file_name.split('.')\n",
    "    newfilename = temp_newfilename[0] + '_wrapped.' + temp_newfilename[1]\n",
    "    with open(file_name, 'r') as f:\n",
    "        water_index_list, acrolein_index_list = [], []\n",
    "        lines = f.readlines()\n",
    "        for i in range(len(lines)):\n",
    "            if 'CRYST1' in lines[i]:\n",
    "                need = lines[i].split()\n",
    "                x_bound, y_bound, z_boudn = float(need[1]), float(need[2]), float(need[3])\n",
    "            if 'ATOM' in lines[i]:\n",
    "                if ' O ' in lines[i]:\n",
    "                    if ' H ' in lines[i+1]:\n",
    "                        water_index_list.append(i)\n",
    "                    if ' C ' in lines[i+1]:\n",
    "                        acrolein_index_list.append(i)\n",
    "            f.close()\n",
    "        for i in range(len(acrolein_index_list)):\n",
    "            molecule = []\n",
    "            for x in range(8):\n",
    "                atom = lines[acrolein_index_list[i] + x].split()\n",
    "                atom = [float(atom[u]) for u in range(5, 8)]\n",
    "                \n",
    "                molecule.append(atom)\n",
    "            for atom in molecule:\n",
    "                for coordinate in atom:\n",
    "                    if float(coordinate) < 0:\n",
    "                        print('bugger')\n",
    "                        print(file_name)\n",
    "                    if float(coordinate) > x_bound:\n",
    "                        print('bugger')\n",
    "                        print(file_name)\n",
    "\n",
    "            "
   ]
  }
 ],
 "metadata": {
  "kernelspec": {
   "display_name": "Python 3",
   "language": "python",
   "name": "python3"
  },
  "language_info": {
   "codemirror_mode": {
    "name": "ipython",
    "version": 3
   },
   "file_extension": ".py",
   "mimetype": "text/x-python",
   "name": "python",
   "nbconvert_exporter": "python",
   "pygments_lexer": "ipython3",
   "version": "3.10.10"
  },
  "orig_nbformat": 4,
  "vscode": {
   "interpreter": {
    "hash": "7c053c9a7584e171ec075d47169cc7b6ef4c54ea644faf474bb31fce02e0d6c0"
   }
  }
 },
 "nbformat": 4,
 "nbformat_minor": 2
}
