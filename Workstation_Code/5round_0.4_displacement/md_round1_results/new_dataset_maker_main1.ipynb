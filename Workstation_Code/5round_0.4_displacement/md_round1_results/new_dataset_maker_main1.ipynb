{
 "cells": [
  {
   "cell_type": "code",
   "execution_count": 1,
   "metadata": {},
   "outputs": [],
   "source": [
    "import os\n",
    "import h5py\n",
    "import matplotlib\n",
    "import numpy as np\n",
    "from matplotlib import pyplot as plt"
   ]
  },
  {
   "cell_type": "code",
   "execution_count": 6,
   "metadata": {},
   "outputs": [
    {
     "name": "stdout",
     "output_type": "stream",
     "text": [
      "..\\transfer\\1.out\n",
      "c:\\Users\\AMJ\\git_code\\goodpast\\Workstation_Code\\5round_0.4_displacement\\md_round1_results\n"
     ]
    }
   ],
   "source": [
    "files_to_be_read = []\n",
    "for i in range(1, 1201):\n",
    "    files_to_be_read.append('..\\\\transfer\\\\' + str(i) + '.out')\n",
    "for i in range(0, 500):\n",
    "    files_to_be_read.append('.\\\\datagen\\\\' + str(i) + '.out')\n",
    "for filename in files_to_be_read:\n",
    "    if os.path.exists(filename):\n",
    "        pass\n",
    "    else:\n",
    "        #print(\"no\")\n",
    "        pass\n",
    "print(files_to_be_read[0])\n",
    "print(os.getcwd())\n"
   ]
  },
  {
   "cell_type": "code",
   "execution_count": 3,
   "metadata": {},
   "outputs": [
    {
     "ename": "FileNotFoundError",
     "evalue": "[Errno 2] No such file or directory: '.\\\\datagen\\\\450.out'",
     "output_type": "error",
     "traceback": [
      "\u001b[1;31m---------------------------------------------------------------------------\u001b[0m",
      "\u001b[1;31mFileNotFoundError\u001b[0m                         Traceback (most recent call last)",
      "\u001b[1;32m~\\AppData\\Local\\Temp/ipykernel_11784/1453645022.py\u001b[0m in \u001b[0;36m<module>\u001b[1;34m\u001b[0m\n\u001b[0;32m      3\u001b[0m \u001b[0matype\u001b[0m \u001b[1;33m=\u001b[0m \u001b[0mnp\u001b[0m\u001b[1;33m.\u001b[0m\u001b[0marray\u001b[0m\u001b[1;33m(\u001b[0m\u001b[1;33m(\u001b[0m\u001b[1;34mb'C'\u001b[0m\u001b[1;33m,\u001b[0m\u001b[1;34mb'C'\u001b[0m\u001b[1;33m,\u001b[0m\u001b[1;34mb'H'\u001b[0m\u001b[1;33m,\u001b[0m\u001b[1;34mb'H'\u001b[0m\u001b[1;33m,\u001b[0m\u001b[1;34mb'H'\u001b[0m\u001b[1;33m,\u001b[0m\u001b[1;34mb'H'\u001b[0m\u001b[1;33m)\u001b[0m\u001b[1;33m)\u001b[0m\u001b[1;33m\u001b[0m\u001b[1;33m\u001b[0m\u001b[0m\n\u001b[0;32m      4\u001b[0m \u001b[1;32mfor\u001b[0m \u001b[0mi\u001b[0m \u001b[1;32min\u001b[0m \u001b[0mrange\u001b[0m\u001b[1;33m(\u001b[0m\u001b[1;36m0\u001b[0m\u001b[1;33m,\u001b[0m \u001b[0mlen\u001b[0m\u001b[1;33m(\u001b[0m\u001b[0mfiles_to_be_read\u001b[0m\u001b[1;33m)\u001b[0m\u001b[1;33m)\u001b[0m\u001b[1;33m:\u001b[0m\u001b[1;33m\u001b[0m\u001b[1;33m\u001b[0m\u001b[0m\n\u001b[1;32m----> 5\u001b[1;33m     \u001b[1;32mwith\u001b[0m \u001b[0mopen\u001b[0m\u001b[1;33m(\u001b[0m\u001b[0mfiles_to_be_read\u001b[0m\u001b[1;33m[\u001b[0m\u001b[0mi\u001b[0m\u001b[1;33m]\u001b[0m\u001b[1;33m,\u001b[0m \u001b[1;34m'r'\u001b[0m\u001b[1;33m)\u001b[0m \u001b[1;32mas\u001b[0m \u001b[0mf\u001b[0m\u001b[1;33m:\u001b[0m\u001b[1;33m\u001b[0m\u001b[1;33m\u001b[0m\u001b[0m\n\u001b[0m\u001b[0;32m      6\u001b[0m         \u001b[0mcoordinates\u001b[0m \u001b[1;33m=\u001b[0m \u001b[1;33m[\u001b[0m\u001b[1;33m]\u001b[0m\u001b[1;33m\u001b[0m\u001b[1;33m\u001b[0m\u001b[0m\n\u001b[0;32m      7\u001b[0m         \u001b[0mlines\u001b[0m \u001b[1;33m=\u001b[0m \u001b[0mf\u001b[0m\u001b[1;33m.\u001b[0m\u001b[0mreadlines\u001b[0m\u001b[1;33m(\u001b[0m\u001b[1;33m)\u001b[0m\u001b[1;33m\u001b[0m\u001b[1;33m\u001b[0m\u001b[0m\n",
      "\u001b[1;31mFileNotFoundError\u001b[0m: [Errno 2] No such file or directory: '.\\\\datagen\\\\450.out'"
     ]
    }
   ],
   "source": [
    "allcoords, energy1s, energy2s, energy3s = [], [], [], []\n",
    "natoms = 6\n",
    "atype = np.array((b'C',b'C',b'H',b'H',b'H',b'H'))\n",
    "for i in range(0, len(files_to_be_read)):\n",
    "    with open(files_to_be_read[i], 'r') as f:\n",
    "        coordinates = []\n",
    "        lines = f.readlines()\n",
    "        for y in range(len(lines)):\n",
    "            if 'Results for state 1.1' in lines[y]:\n",
    "                energy1 = lines[y+3].split()\n",
    "                energy1 = energy1[4]\n",
    "                energy1s.append(energy1)\n",
    "            if 'Results for state 2.1' in lines[y]:\n",
    "                energy2 = lines[y+3].split()\n",
    "                energy2 = energy2[4]\n",
    "                energy2s.append(energy2)\n",
    "            if 'Results for state 3.1' in lines[y]:\n",
    "                energy3 = lines[y+3].split()\n",
    "                energy3 = energy3[4]\n",
    "                energy3s.append(energy3)\n",
    "            if 'geometry={' in lines[y]:\n",
    "                for u in range(6):\n",
    "                    coordinate_want = lines[y+1+u].split()[1:]\n",
    "                    coordinates.append(coordinate_want)\n",
    "        allcoords.append(coordinates)\n",
    "print(len(allcoords))\n",
    "ener1 = [\"ener%d\" % x for x in range(len(energy1s))]\n",
    "ener2 = [\"ener%d\" % x for x in range(len(energy2s))]\n",
    "ener3 = [\"ener%d\" % x for x in range(len(energy3s))]\n",
    "coor0 = [\"coor%d\" % x for x in range(len(allcoords))]\n",
    "print(len(coor0))\n",
    "print(energy2s[1200:])\n",
    "print(energy2)"
   ]
  },
  {
   "cell_type": "code",
   "execution_count": null,
   "metadata": {},
   "outputs": [],
   "source": [
    "for p in range(len(allcoords)):\n",
    "    ener1[p] = float(energy1s[p])\n",
    "    ener2[p] = energy2s[p]\n",
    "    ener3[p] = energy3s[p]\n",
    "    coor0[p] = allcoords[p]\n",
    "print(coor0)\n"
   ]
  },
  {
   "cell_type": "code",
   "execution_count": null,
   "metadata": {},
   "outputs": [],
   "source": [
    "x_axis = []\n",
    "for i in range(1, 1701):\n",
    "    x_axis.append(round(float(i * 0.004),3))\n",
    "\n",
    "#line1 = plt.plot(x_axis, ener1)\n",
    "#plt.savefig('energy1.png')\n",
    "#plt.clf()\n",
    "line2 = plt.plot(x_axis, ener2)\n",
    "plt.savefig('energy2.png')\n",
    "plt.clf()\n",
    "line3 = plt.plot(x_axis, ener3)\n",
    "plt.savefig('energy3.png')\n",
    "plt.clf()\n",
    "ener1 = np.array(ener1).astype(float)\n",
    "ener2 = np.array(ener2).astype(float)\n",
    "ener3 = np.array(ener3).astype(float)\n",
    "coor0 = np.array(coor0).astype(float)\n",
    "#print(ener1)\n",
    "#print(coor0)\n",
    "line4 = plt.plot(x_axis[1200:], ener2[1200:])\n",
    "plt.savefig('md_energy.png')\n",
    "plt.clf()\n",
    "print(ener2[1200:])"
   ]
  },
  {
   "cell_type": "code",
   "execution_count": null,
   "metadata": {},
   "outputs": [],
   "source": [
    "newfile1 = 'energy1.h5'\n",
    "newfile2 = 'energy2.h5'\n",
    "newfile3 = 'energy3.h5'\n",
    "\n",
    "newfile1 = h5py.File(newfile1, 'w')\n",
    "newfile2 = h5py.File(newfile2, 'w')\n",
    "newfile3 = h5py.File(newfile3, 'w')\n",
    "\n",
    "layer1 = newfile1.create_group('firstlayer')\n",
    "group1 = layer1.create_group('secondlayer')\n",
    "group1.create_dataset('coordinates', data=coor0)\n",
    "\n",
    "group1.create_dataset('coordinatesHE', (0,natoms,3), dtype=np.float32)\n",
    "group1.create_dataset('energies', data=ener1)                           \n",
    "group1.create_dataset('energiesHE', (0,), dtype=np.float64)\n",
    "group1.create_dataset('smiles', (3,), dtype='S1', data=(b'C',b'(',b'='))\n",
    "group1.create_dataset('species',(natoms,),dtype='S1',data=atype)\n",
    "\n",
    "layer2 = newfile2.create_group('firstlayer')\n",
    "group2 = layer2.create_group('secondlayer')\n",
    "group2.create_dataset('coordinates', data=coor0)\n",
    "group2.create_dataset('coordinatesHE', (0,natoms,3), dtype=np.float32)\n",
    "group2.create_dataset('energies', data=ener2)                               \n",
    "group2.create_dataset('energiesHE', (0,), dtype=np.float64)\n",
    "group2.create_dataset('smiles', (3,), dtype='S1', data=(b'C',b'(',b'='))\n",
    "group2.create_dataset('species',(natoms,),dtype='S1',data=atype)\n",
    "\n",
    "layer3 = newfile3.create_group('firstlayer')\n",
    "group3 = layer3.create_group('secondlayer')\n",
    "group3.create_dataset('coordinates', data=coor0)\n",
    "group3.create_dataset('coordinatesHE', (0,natoms,3), dtype=np.float32)\n",
    "group3.create_dataset('energies', data=ener3)                           \n",
    "group3.create_dataset('energiesHE', (0,), dtype=np.float64)\n",
    "group3.create_dataset('smiles', (3,), dtype='S1', data=(b'C',b'(',b'='))\n",
    "group3.create_dataset('species',(natoms,),dtype='S1',data=atype)\n",
    "\n",
    "newfile1.close()\n",
    "newfile2.close()\n",
    "newfile3.close"
   ]
  }
 ],
 "metadata": {
  "kernelspec": {
   "display_name": "my-env",
   "language": "python",
   "name": "python3"
  },
  "language_info": {
   "codemirror_mode": {
    "name": "ipython",
    "version": 3
   },
   "file_extension": ".py",
   "mimetype": "text/x-python",
   "name": "python",
   "nbconvert_exporter": "python",
   "pygments_lexer": "ipython3",
   "version": "3.9.7"
  },
  "orig_nbformat": 4
 },
 "nbformat": 4,
 "nbformat_minor": 2
}
