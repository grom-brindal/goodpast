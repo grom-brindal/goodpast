{
 "cells": [
  {
   "cell_type": "code",
   "execution_count": 1,
   "metadata": {},
   "outputs": [
    {
     "name": "stderr",
     "output_type": "stream",
     "text": [
      "C:\\Users\\AMJ\\AppData\\Local\\Packages\\PythonSoftwareFoundation.Python.3.10_qbz5n2kfra8p0\\LocalCache\\local-packages\\Python310\\site-packages\\tqdm\\auto.py:22: TqdmWarning: IProgress not found. Please update jupyter and ipywidgets. See https://ipywidgets.readthedocs.io/en/stable/user_install.html\n",
      "  from .autonotebook import tqdm as notebook_tqdm\n"
     ]
    }
   ],
   "source": [
    "import os\n",
    "import h5py\n",
    "import numpy as np\n",
    "import torch\n",
    "import torchani\n",
    "import ase\n",
    "from ase import Atom\n",
    "from ase import Atoms\n",
    "from ase import units\n",
    "from ase.io import read, write\n",
    "import matplotlib\n",
    "from matplotlib import pyplot as plt\n",
    "from ase.md import langevin\n",
    "from ase.md import verlet\n",
    "from ase.optimize import BFGS\n",
    "\n",
    "device = torch.device('cpu')\n",
    "\n",
    "home = os.getcwd()"
   ]
  },
  {
   "cell_type": "code",
   "execution_count": 2,
   "metadata": {},
   "outputs": [],
   "source": [
    "mol = []\n",
    "def printenergy(a=mol):\n",
    "    epot = a.get_potential_energy()\n",
    "    ekin = a.get_kinetic_energy()\n",
    "    return epot + ekin\n",
    "def printenergy2(a=mol):\n",
    "    epot = a.get_potential_energy()\n",
    "    ekin = a.get_kinetic_energy()\n",
    "    print(epot+ekin)"
   ]
  },
  {
   "cell_type": "code",
   "execution_count": 3,
   "metadata": {},
   "outputs": [
    {
     "name": "stdout",
     "output_type": "stream",
     "text": [
      "c:\\Users\\AMJ\\git_code\\goodpast\\Workstation_Code\\5round_0.4_displacement\n"
     ]
    }
   ],
   "source": [
    "\n",
    "print(os.getcwd())\n"
   ]
  },
  {
   "cell_type": "code",
   "execution_count": 4,
   "metadata": {},
   "outputs": [
    {
     "name": "stdout",
     "output_type": "stream",
     "text": [
      "c:\\Users\\AMJ\\git_code\\goodpast\\Workstation_Code\\5round_0.4_displacement\n"
     ]
    }
   ],
   "source": [
    "network_folders = []\n",
    "\n",
    "\n",
    "\n",
    "def atomic(linear=[(384,128), (128,128), (128,64), (64,1)]):\n",
    "    model = torch.nn.Sequential(\n",
    "        torch.nn.Linear(*linear[0]),\n",
    "        torch.nn.CELU(0.1),\n",
    "        torch.nn.Linear(*linear[1]),\n",
    "        torch.nn.CELU(0.1),\n",
    "        torch.nn.Linear(*linear[2]),\n",
    "        torch.nn.CELU(0.1),\n",
    "        torch.nn.Linear(*linear[3])\n",
    "    )\n",
    "    return model\n",
    "nn = torchani.ANIModel([atomic(v) for v in (\n",
    "[(384,160), (160,128), (128,96), (96,1)],\n",
    "[(384,144), (144,112), (112,96), (96,1)],\n",
    "[(384,128), (128,112), (112,96), (96,1)],\n",
    "[(384,128), (128,112), (112,96), (96,1)]\n",
    ")])\n",
    "\n",
    "for file in os.listdir(home):\n",
    "    d = os.path.join(home, file)\n",
    "    if os.path.isdir(d):\n",
    "        network_folders.append(d)\n",
    "network_folders = []\n",
    "network_folders.append(d)\n",
    "network_folders = ['c:\\\\Users\\\\theminotaur\\\\Desktop\\\\full_COMPLETE_datasets\\\\round2\\\\COMPLETELY_ALLDATASETS\\\\']\n",
    "network_folders = ['../1round_just_models/' + str(i) + 'round/best.pt' for i in range(10)]\n",
    "network_folders = ['c:\\\\Users\\\\AMJ\\\\git_code\\\\goodpast\\\\Workstation_Code\\\\best.pt']\n",
    "network_folders = ['./best.pt']\n",
    "def diff(c1, c2):\n",
    "    return ((c1[0]-c2[0])**2 + (c1[1]-c2[1])**2 + (c1[2]-c2[2])**2)\n",
    "with h5py.File('./train/dataset/set.h5', 'r') as f:\n",
    "#with h5py.File('c:\\\\Users\\\\AMJ\\\\git_code\\\\goodpast\\\\Workstation_Code\\\\train\\\\dataset\\\\small_set\\\\set.h5'):\n",
    "    coordinates = f['firstlayer']['secondlayer']['coordinates']\n",
    "    coordinates = f['firstlayer']['secondlayer']['coordinates'][:len(coordinates)]\n",
    "    dataset_energies = f['firstlayer']['secondlayer']['energies'][:len(coordinates)]\n",
    "    \n",
    "    print(os.getcwd())\n",
    "    path = './train/eval/'\n",
    "    const_file = path + 'rHCNO-5.2R_16-3.5A_a4-8.params'\n",
    "    sae_file = path + 'sae_linfit_CAS.dat'\n",
    "#\n",
    "    consts = torchani.neurochem.Constants(const_file)\n",
    "    aev_computer = torchani.AEVComputer(**consts)\n",
    "    energy_shifter = torchani.neurochem.load_sae(sae_file)\n",
    " #   Rcr = 5.2000e+00\n",
    " #   Rca = 3.5000e+00\n",
    " #   EtaR = torch.tensor([1.6000000e+01], device=device)\n",
    " #   ShfR = torch.tensor([9.0000000e-01, 1.1687500e+00, 1.4375000e+00, 1.7062500e+00, 1.9750000e+00, 2.2437500e+00, 2.5125000e+00, 2.7812500e+00, 3.0500000e+00, 3.3187500e+00, 3.5875000e+00, 3.8562500e+00, 4.1250000e+00, 4.3937500e+00, 4.6625000e+00, 4.9312500e+00], device=device)\n",
    " #   Zeta = torch.tensor([3.2000000e+01], device=device)\n",
    " #   ShfZ = torch.tensor([1.9634954e-01, 5.8904862e-01, 9.8174770e-01, 1.3744468e+00, 1.7671459e+00, 2.1598449e+00, 2.5525440e+00, 2.9452431e+00], device=device)\n",
    " #   EtaA = torch.tensor([8.0000000e+00], device=device)\n",
    " #   ShfA = torch.tensor([9.0000000e-01, 1.5500000e+00, 2.2000000e+00, 2.8500000e+00], device=device)\n",
    " #   species_order = ['H', 'C', 'N', 'O']\n",
    " #   num_species = len(species_order)\n",
    "#    aev_computer = torchani.AEVComputer(Rcr, Rca, EtaR, ShfR, EtaA, Zeta, ShfA, ShfZ, num_species)\n",
    "#    energy_shifter = torchani.utils.EnergyShifter(None)"
   ]
  },
  {
   "cell_type": "code",
   "execution_count": 5,
   "metadata": {},
   "outputs": [],
   "source": [
    "def diff(c1, c2):\n",
    "    return ((c1[0]-c2[0])**2 + (c1[1]-c2[1])**2 + (c1[2]-c2[2])**2)"
   ]
  },
  {
   "cell_type": "code",
   "execution_count": 6,
   "metadata": {},
   "outputs": [
    {
     "data": {
      "text/plain": [
       "27.211386024367243"
      ]
     },
     "execution_count": 6,
     "metadata": {},
     "output_type": "execute_result"
    }
   ],
   "source": [
    "from ase.units import create_units\n",
    "units = create_units('2014')\n",
    "units.Hartree"
   ]
  },
  {
   "cell_type": "code",
   "execution_count": 7,
   "metadata": {},
   "outputs": [],
   "source": [
    "def printxyz(a=mol):\n",
    "    \"\"\"Function to print out xyz coordinates\"\"\"\n",
    "    check_out=os.getcwd() + '/output'\n",
    "    os.chdir(check_out)\n",
    "    i=0\n",
    "    file_name = str(i) + '_checkpoint.pdb'\n",
    "    file_name = str(file_name)\n",
    "    while (os.path.isfile(file_name)):\n",
    "        i=i+1\n",
    "        file_name = str(i)+'_checkpoint.pdb'\n",
    "        file_name = str(file_name)\n",
    "    checkpoint_out = str(i) +  '_checkpoint.pdb'\n",
    "    write(str(checkpoint_out), mol)\n",
    "    os.chdir('..')"
   ]
  },
  {
   "cell_type": "code",
   "execution_count": 8,
   "metadata": {},
   "outputs": [
    {
     "name": "stdout",
     "output_type": "stream",
     "text": [
      "[[ 0.      0.      0.6691]\n",
      " [ 0.      0.     -0.6691]\n",
      " [ 0.      0.9149  1.2348]\n",
      " [-0.     -0.9149  1.2348]\n",
      " [ 0.      0.9149 -1.2348]\n",
      " [ 0.     -0.9149 -1.2348]]\n"
     ]
    }
   ],
   "source": [
    "with h5py.File('../4round/transfer/energy1.h5', 'r') as dataset:\n",
    "    coordinates = dataset['firstlayer']['secondlayer']['coordinates']\n",
    "    coordinates = dataset['firstlayer']['secondlayer']['coordinates'][:len(coordinates)]\n",
    "    energies = dataset['firstlayer']['secondlayer']['energies'][:len(coordinates)]\n",
    "print(coordinates[0])"
   ]
  },
  {
   "cell_type": "code",
   "execution_count": 9,
   "metadata": {},
   "outputs": [
    {
     "name": "stdout",
     "output_type": "stream",
     "text": [
      "c:\\Users\\AMJ\\git_code\\goodpast\\Workstation_Code\\5round_0.4_displacement\n",
      "-48976.09284507776\n"
     ]
    },
    {
     "name": "stderr",
     "output_type": "stream",
     "text": [
      "C:\\Users\\AMJ\\AppData\\Local\\Packages\\PythonSoftwareFoundation.Python.3.10_qbz5n2kfra8p0\\LocalCache\\local-packages\\Python310\\site-packages\\torchani\\ase.py:142: UserWarning: Creating a tensor from a list of numpy.ndarrays is extremely slow. Please consider converting the list to a single numpy.ndarray with numpy.array() before converting to a tensor. (Triggered internally at ..\\torch\\csrc\\utils\\tensor_new.cpp:233.)\n",
      "  cell = torch.tensor(self.atoms.get_cell(complete=True),\n"
     ]
    }
   ],
   "source": [
    "print(os.getcwd())\n",
    "#for i in range(10):\n",
    "evaluated_energies = []\n",
    "for i in range(1):\n",
    "    for x in range(1):\n",
    "        mol = [ Atom('C', (  0.000000,    0.000000,    0.669100)),\n",
    "        Atom('C', (  -0.000000,    0.000000,   -0.669100)),\n",
    "        Atom('H', (  -0.000000,    0.914900,    1.234800)),\n",
    "        Atom('H', (  -0.000000,   -0.914900,    1.234800)),\n",
    "        Atom('H', (  -0.000000,    0.914900,   -1.234800)),\n",
    "        Atom('H', (  -0.000000,   -0.914900,   -1.234800)) ]\n",
    "\n",
    "        mol = Atoms(mol)\n",
    "        personal_directory = os.getcwd()\n",
    "        network = network_folders\n",
    "        calculator = torchani.ase.Calculator(personal_directory, consts.species, aev_computer, network, nn, energy_shifter, device)\n",
    "\n",
    "        mol.set_calculator(calculator)\n",
    "        energy = float(str(printenergy(a=mol))) * (1/units.Hartree) * 627.509474062112 # Hartree to kcal/mol conversion\n",
    "        print(energy)\n",
    "        try:\n",
    "            os.mkdir('./output/')\n",
    "        except:\n",
    "            pass\n",
    "        opt = BFGS(mol)\n",
    "        #opt.run(fmax=0.1)\n",
    "        verletsim = verlet.VelocityVerlet(mol, 0.1 * units.fs)\n",
    "        verletsim.attach(printxyz, interval=10)\n",
    "        verletsim.run(5000)\n",
    "        #langevinsim = langevin.Langevin(mol, 0.1 * units.fs, temperature =0.5 * units.kB, friction=0.01)\n",
    "        #langevinsim.attach(printxyz, interval=10)\n",
    "        #langevinsim.run(5000)"
   ]
  },
  {
   "cell_type": "code",
   "execution_count": null,
   "metadata": {},
   "outputs": [],
   "source": []
  },
  {
   "cell_type": "code",
   "execution_count": 10,
   "metadata": {},
   "outputs": [],
   "source": [
    "os.chdir('./output/')\n",
    "with open('cat_output.pdb', 'w') as f:\n",
    "    for i in range(500):\n",
    "        with open(str(i) + '_checkpoint.pdb', 'r') as f1:\n",
    "            lines = f1.readlines()\n",
    "            for line in lines:\n",
    "                f.write(line)\n",
    "\n",
    "os.chdir('../')"
   ]
  },
  {
   "cell_type": "code",
   "execution_count": 11,
   "metadata": {},
   "outputs": [
    {
     "name": "stdout",
     "output_type": "stream",
     "text": [
      "c:\\Users\\AMJ\\git_code\\goodpast\\Workstation_Code\\5round_0.4_displacement\n"
     ]
    }
   ],
   "source": [
    "\n",
    "mol = []\n",
    "def printenergy(a=mol):\n",
    "    epot = a.get_potential_energy()\n",
    "    ekin = a.get_kinetic_energy()\n",
    "    return epot + ekin\n",
    "print(os.getcwd())\n"
   ]
  },
  {
   "cell_type": "code",
   "execution_count": 12,
   "metadata": {},
   "outputs": [
    {
     "name": "stdout",
     "output_type": "stream",
     "text": [
      "[-48976.08878223344, -48976.08878223344, -48976.08878223344, -48976.08878223344, -48976.08878223344, -48976.09593779526, -48976.09593779526, -48976.12283017787, -48976.12283017787, -48976.12283017787, -48976.1273699038, -48976.12985483101, -48976.12985483101, -48976.15303034225, -48976.15669110991, -48976.15669110991, -48976.15669110991, -48976.17820922378, -48976.17820922378, -48976.178277015766, -48976.17866272883, -48976.194556444876, -48976.194556444876, -48976.19212995903, -48976.20498238599, -48976.20498238599, -48976.19783149948, -48976.206576666664, -48976.206576666664, -48976.20526524223, -48976.20526524223, -48976.20526524223, -48976.20835562209, -48976.20835562209, -48976.20835562209, -48976.20906393154, -48976.20906393154, -48976.20754445582, -48976.20754445582, -48976.20754445582, -48976.209891461396, -48976.222622330286, -48976.218108318564, -48976.218108318564, -48976.23018931938, -48976.231346458575, -48976.24331057665, -48976.24331057665, -48976.25457106057, -48976.25457106057, -48976.264625314536, -48976.27387307753, -48976.27387307753, -48976.2819496754, -48976.28927354839, -48976.29532807472, -48976.3041831117, -48976.30077013545, -48976.30890751236, -48976.31265009795, -48976.31586904881, -48976.31807111979, -48976.321294745976, -48976.32110072061, -48976.32062150134, -48976.31834696307, -48976.31506957083, -48976.3140643792, -48976.31058828627, -48976.30415038452, -48976.29866858366, -48976.2887171865, -48976.28036708301, -48976.27716449572, -48976.26840530259, -48976.25065081321, -48976.24123473905, -48976.24123473905, -48976.219693248626, -48976.22119869841, -48976.20730835266, -48976.1967351393, -48976.19752059136, -48976.18286817011, -48976.18286817011, -48976.18141414871, -48976.18141414871, -48976.18141414871, -48976.177631823, -48976.177631823, -48976.177631823, -48976.17119392125, -48976.17119392125, -48976.190696976555, -48976.17985493286, -48976.17985493286, -48976.19128372794, -48976.193394630376, -48976.18788477764, -48976.18788477764, -48976.19559436368, -48976.19453774365, -48976.179983503884, -48976.18374479071, -48976.18374479071, -48976.18213414645, -48976.18236089897, -48976.18236089897, -48976.152546447665, -48976.14764438522, -48976.14764438522, -48976.135871954866, -48976.135871954866, -48976.12726237167, -48976.116137471734, -48976.116137471734, -48976.116137471734, -48976.10262582608, -48976.10262582608, -48976.10262582608, -48976.08715055027, -48976.120803431026, -48976.120803431026, -48976.120803431026, -48976.120803431026, -48976.120803431026, -48976.15131917881, -48976.16509030416, -48976.16509030416, -48976.16509030416, -48976.20264005572, -48976.20216551176, -48976.20216551176, -48976.23257606508, -48976.23257606508, -48976.256127938774, -48976.256127938774, -48976.25984013484, -48976.273912817676, -48976.273912817676, -48976.28226525882, -48976.28226525882, -48976.27807384349, -48976.28447668041, -48976.27785410393, -48976.281285781406, -48976.27204503136, -48976.27229282279, -48976.27229282279, -48976.257941959004, -48976.257941959004, -48976.25277106625, -48976.25277106625, -48976.25277106625, -48976.22987607361, -48976.24506615552, -48976.23489969411, -48976.23804150237, -48976.22641868194, -48976.22641868194, -48976.241606426185, -48976.22839633802, -48976.22839633802, -48976.242693435735, -48976.22783530084, -48976.2409051297, -48976.24392070459, -48976.24392070459, -48976.254991838454, -48976.2642583027, -48976.2640712903, -48976.2640712903, -48976.27110996938, -48976.26812945931, -48976.27313204092, -48976.28252707619, -48976.28520135345, -48976.27352009164, -48976.28046760217, -48976.280149681086, -48976.283737981445, -48976.28109643135, -48976.27288424948, -48976.27260840621, -48976.26798218704, -48976.269800882605, -48976.264555184884, -48976.25254197606, -48976.24552199823, -48976.23652670196, -48976.22434518199, -48976.22434518199, -48976.20906393154, -48976.19769124017, -48976.191942946636, -48976.18041597005, -48976.172519371605, -48976.160188241716, -48976.150288272984, -48976.140269083844, -48976.140269083844, -48976.140269083844, -48976.12921665121, -48976.11594110871, -48976.11594110871, -48976.11903382622, -48976.11903382622, -48976.11903382622, -48976.11903382622, -48976.11903382622, -48976.13124339805, -48976.13098859367, -48976.13098859367, -48976.14043739499, -48976.150716063836, -48976.150716063836, -48976.16145525071, -48976.16145525071, -48976.16145525071, -48976.17333755084, -48976.17333755084, -48976.18223232795, -48976.174181444294, -48976.174181444294, -48976.17743779763, -48976.17743779763, -48976.17760143348, -48976.17820922378, -48976.174962221034, -48976.174985597594, -48976.16989418509, -48976.16936821273, -48976.16722224548, -48976.16140382229, -48976.158846427774, -48976.158846427774, -48976.14803477361, -48976.14803477361, -48976.143546476094, -48976.143546476094, -48976.137260521915, -48976.137260521915, -48976.1292073006, -48976.122320569084, -48976.11368994699, -48976.142520245565, -48976.142520245565, -48976.142520245565, -48976.13308547016, -48976.16338381604, -48976.16338381604, -48976.16338381604, -48976.16338381604, -48976.18739153244, -48976.18739153244, -48976.18739153244, -48976.20922522972, -48976.20922522972, -48976.228714259094, -48976.228714259094, -48976.23444618905, -48976.25051522922, -48976.25051522922, -48976.264403237314, -48976.26977750605, -48976.28071539359, -48976.28071539359, -48976.292015617655, -48976.292015617655, -48976.29800235199, -48976.29786443035, -48976.300826239174, -48976.300101566136, -48976.30069766815, -48976.30069766815, -48976.29879715467, -48976.291751462646, -48976.286613297045, -48976.286613297045, -48976.27894812644, -48976.26807101794, -48976.26807101794, -48976.25783676454, -48976.25783676454, -48976.2451082333, -48976.2451082333, -48976.24439992385, -48976.24439992385, -48976.227124653735, -48976.22890828446, -48976.24386226322, -48976.225916086114, -48976.2397994189, -48976.2397994189, -48976.23644955934, -48976.23644955934, -48976.24823601563, -48976.238983577314, -48976.25284820887, -48976.25284820887, -48976.24174902313, -48976.24853757312, -48976.25954325266, -48976.26354298029, -48976.248006925445, -48976.255945601675, -48976.255578589844, -48976.258661956745, -48976.258661956745, -48976.243142265484, -48976.23878253899, -48976.23419839762, -48976.22642569489, -48976.21649767429, -48976.205922123285, -48976.20260265323, -48976.190696976555, -48976.16210044348, -48976.16210044348, -48976.14756490495, -48976.13995583807, -48976.124326277044, -48976.124326277044, -48976.113091507315, -48976.113091507315, -48976.09648480652, -48976.09648480652, -48976.09648480652, -48976.09648480652, -48976.09648480652, -48976.113091507315, -48976.113091507315, -48976.10464088465, -48976.10464088465, -48976.12962807847, -48976.12962807847, -48976.142863880836, -48976.150042819216, -48976.162175248435, -48976.162175248435, -48976.19128372794, -48976.20067642555, -48976.21185976686, -48976.21185976686, -48976.21900130275, -48976.22405531276, -48976.22575946324, -48976.227391146385, -48976.223865962726, -48976.223865962726, -48976.21606053282, -48976.23503527809, -48976.23036230585, -48976.21856883659, -48976.21079613386, -48976.21079613386, -48976.21973766407, -48976.21009483737, -48976.21009483737, -48976.198486042864, -48976.21723403561, -48976.20566030592, -48976.20566030592, -48976.215758975326, -48976.215758975326, -48976.208320557256, -48976.22264103152, -48976.22013272776, -48976.22013272776, -48976.2397994189, -48976.2397994189, -48976.25679884573, -48976.25679884573, -48976.27105620332, -48976.27105620332, -48976.28268369907, -48976.29198522813, -48976.30021611123, -48976.30021611123, -48976.30604388504, -48976.31164958162, -48976.314300482336, -48976.3175357968, -48976.31692800652, -48976.31692800652, -48976.31387970446, -48976.31387970446, -48976.30548752316, -48976.30548752316, -48976.29623508485, -48976.29150834652, -48976.27946708584, -48976.27946708584, -48976.25747676568, -48976.25747676568, -48976.25747676568, -48976.2403651314, -48976.2403651314, -48976.21544572957, -48976.21005743489, -48976.187842699845, -48976.187842699845, -48976.187842699845, -48976.169515484995, -48976.17596975033, -48976.17596975033, -48976.17596975033, -48976.14986281978, -48976.161637587786, -48976.161637587786, -48976.16644614403, -48976.14476673198, -48976.152981251485, -48976.16032850102, -48976.168779123676, -48976.168779123676, -48976.17569390704, -48976.159561750195, -48976.16317810241, -48976.16858042301, -48976.17385651024, -48976.17844065161, -48976.18166895311, -48976.188616463645, -48976.18919152676, -48976.191830739204, -48976.19404449844, -48976.19400709597, -48976.19423151084, -48976.19253203568, -48976.19212995903, -48976.18824711415, -48976.184595697116, -48976.19214866028, -48976.183160376975, -48976.17704974691, -48976.17024950866, -48976.157958118885, -48976.157958118885, -48976.143672709455, -48976.14043739499, -48976.13417014205, -48976.12373952564, -48976.11903382622, -48976.11177306993, -48976.10459413156, -48976.10459413156, -48976.09933207025, -48976.09933207025, -48976.09933207025, -48976.09933207025, -48976.10681957908, -48976.108107626955, -48976.11594110871, -48976.12103485886, -48976.1285060041, -48976.1349462435, -48976.14648724602, -48976.157439159484, -48976.1634329068, -48976.17686039687, -48976.18238193787, -48976.19836448481, -48976.20971847493, -48976.21956935291, -48976.22374206701, -48976.23456540945, -48976.240140716516, -48976.247139655454, -48976.25097107193, -48976.252034704936, -48976.25188977033, -48976.25347470039, -48976.26458089908, -48976.263468175326, -48976.26121233829, -48976.25518352616, -48976.25274535204, -48976.24344148531, -48976.2567123525, -48976.25157418691, -48976.24572537421, -48976.23591423636, -48976.22473323271, -48976.24025058631, -48976.22852490904, -48976.2193309121, -48976.23391554137, -48976.2195646776, -48976.21347742409, -48976.207284976124, -48976.219990130805, -48976.213138464125, -48976.23165269138, -48976.22110519221, -48976.214573784266, -48976.23117347211, -48976.23117347211, -48976.24553602416, -48976.24553602416]\n"
     ]
    }
   ],
   "source": [
    "\n",
    "evaluated_energies = []\n",
    "for i in range(500):\n",
    "    with open('./output/' + str(i) + '_checkpoint.pdb', 'r') as f1:\n",
    "        atoms=[]\n",
    "        lines = f1.readlines()\n",
    "        for x in range(1, len(lines)-1):\n",
    "            atom = lines[x].split()\n",
    "            atom = [float(atom[5]), float(atom[6]), float(atom[7])]\n",
    "            atoms.append(atom)\n",
    "        c = atoms\n",
    "        mol = [ Atom('C', (c[0][0],  c[0][1], c[0][2])),\n",
    "        Atom('C', (c[1][0],  c[1][1], c[1][2])),\n",
    "        Atom('H', (c[2][0],  c[2][1], c[2][2])),\n",
    "        Atom('H', (c[3][0],  c[3][1], c[3][2])),\n",
    "        Atom('H', (c[4][0],  c[4][1], c[4][2])),\n",
    "        Atom('H', (c[5][0],  c[5][1], c[5][2])) ]\n",
    "        mol = Atoms(mol)\n",
    "        personal_directory = os.getcwd()\n",
    "        network = network_folders\n",
    "        calculator = torchani.ase.Calculator(personal_directory, consts.species, aev_computer, network, nn, energy_shifter, device)\n",
    "        mol.set_calculator(calculator)\n",
    "        energy = float(str(printenergy(a=mol))) * (1/units.Hartree) * 627.509474062112\n",
    "        evaluated_energies.append(energy)\n",
    "        \n",
    "with open('md_energies.txt', 'w') as f:\n",
    "    for i in range(len(evaluated_energies)):\n",
    "        f.write(str(evaluated_energies[i]))\n",
    "        f.write('\\n')\n",
    "print(evaluated_energies)\n",
    "           "
   ]
  },
  {
   "cell_type": "code",
   "execution_count": 13,
   "metadata": {},
   "outputs": [
    {
     "data": {
      "image/png": "[encoded data removed]",
      "text/plain": [
       "<Figure size 640x480 with 1 Axes>"
      ]
     },
     "metadata": {},
     "output_type": "display_data"
    },
    {
     "data": {
      "text/plain": [
       "<Figure size 640x480 with 0 Axes>"
      ]
     },
     "metadata": {},
     "output_type": "display_data"
    }
   ],
   "source": [
    "x_axis, y_axis = [], []\n",
    "for i in range(len(evaluated_energies)):\n",
    "    x_axis.append(int(i))\n",
    "    y_axis.append(round(float(evaluated_energies[i]), 11))\n",
    "line1 = plt.plot(x_axis, y_axis)\n",
    "plt.savefig('./md_energies.png')\n",
    "plt.show()\n",
    "plt.clf() "
   ]
  },
  {
   "attachments": {},
   "cell_type": "markdown",
   "metadata": {},
   "source": [
    "\n",
    "os.chdir('./output/')\n",
    "with open('cat_output.pdb', 'w') as f:\n",
    "    for i in range(500):\n",
    "        with open(str(i) + '_checkpoint.pdb', 'r') as f1:\n",
    "        lines = f1.readlines()\n",
    "        for line in lines:\n",
    "            f.write(line)\n",
    "\n",
    "os.chdir('../')"
   ]
  }
 ],
 "metadata": {
  "kernelspec": {
   "display_name": "Python 3",
   "language": "python",
   "name": "python3"
  },
  "language_info": {
   "codemirror_mode": {
    "name": "ipython",
    "version": 3
   },
   "file_extension": ".py",
   "mimetype": "text/x-python",
   "name": "python",
   "nbconvert_exporter": "python",
   "pygments_lexer": "ipython3",
   "version": "3.10.9"
  },
  "orig_nbformat": 4,
  "vscode": {
   "interpreter": {
    "hash": "fe0d356910019e44f2687c3afcfb53699a594892937df3d97268ef1ba4671729"
   }
  }
 },
 "nbformat": 4,
 "nbformat_minor": 2
}
